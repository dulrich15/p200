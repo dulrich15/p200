{
 "cells": [
  {
   "cell_type": "markdown",
   "metadata": {},
   "source": [
    "# Physics 201 Homework"
   ]
  },
  {
   "cell_type": "markdown",
   "metadata": {},
   "source": [
    "- Ch 01: 1,3,5,12,13,45,46,49,59,61\n",
    "- Ch 02: 1,3,15,28,29,45,51,53,67,68,78,79,81\n",
    "- Ch 03: 5,7,8,9,19,30,35,57,59,69,71\n",
    "- Ch 04: 1,11,38,39,42,56,79,81,98,103,104\n",
    "- Ch 05: 5,7,8,9,15,23,27,31,41,52,56\n",
    "- Ch 06: 3,5,6,8,13,19,29,33,38,41,64,68,77\n",
    "- Ch 07: 1,5,7,19,21,29,31,33,35,41\n",
    "- Ch 08: 1,3,9,21,23,25,37,39,42,53,54,56,68,69\n",
    "- Ch 09: 1,6,12,15,31,33,34,48,51,63,64,71,73"
   ]
  },
  {
   "cell_type": "code",
   "execution_count": 7,
   "metadata": {
    "collapsed": true
   },
   "outputs": [],
   "source": [
    "import numpy as np\n",
    "import matplotlib.pyplot as plt\n",
    "\n",
    "from math3d import Vector\n",
    "from pprint import pprint\n",
    "\n",
    "%matplotlib inline"
   ]
  },
  {
   "cell_type": "code",
   "execution_count": 2,
   "metadata": {
    "collapsed": true
   },
   "outputs": [],
   "source": [
    "# def vdot(a, b):\n",
    "#     vdot = 0\n",
    "#     for i in range(len(a)):\n",
    "#         vdot += a[i] * b[i]\n",
    "#     return vdot\n",
    "\n",
    "# def vmag(a):\n",
    "#     return np.sqrt(vdot(a, a))\n",
    "\n",
    "# def vdir(a):\n",
    "#     return a / vmag(a)\n",
    "\n",
    "# def vang(a, out_index=0, up_index=1, deg=True):\n",
    "#     vang = np.arctan2(a[up_index], a[out_index])\n",
    "#     if deg:\n",
    "#         vang = vang * 180/np.pi\n",
    "#     return vang\n",
    "\n",
    "# def vect(mag, ang, deg=True):\n",
    "#     if deg: # convert to radians\n",
    "#         ang *= np.pi/180\n",
    "#     return mag * np.array([np.cos(ang), np.sin(ang)])"
   ]
  },
  {
   "cell_type": "code",
   "execution_count": 3,
   "metadata": {
    "collapsed": false
   },
   "outputs": [],
   "source": [
    "class Particle():\n",
    "    def __init__(self, t0=0.0, m0=1.0, p0=None, v0=None, r0=np.zeros(3)):\n",
    "        \n",
    "        if p0 is None:\n",
    "            if v0 is None:\n",
    "                p0 = np.zeros(3)\n",
    "                v0 = np.zeros(3)\n",
    "            else:\n",
    "                p0 = m0 * v0\n",
    "        else:\n",
    "            v0 = p0 / m0\n",
    "            \n",
    "        self.initial_state = (t0, m0, p0, v0, r0)\n",
    "        self.state_history = [self.initial_state]        \n",
    "        self.forces = []\n",
    "        \n",
    "    def increment(self, dt, n=1):\n",
    "        for _ in range(n):\n",
    "            t, m, p, v, r = self.state_history[-1]      \n",
    "            for force in self.forces:\n",
    "                p = p + force(t, m, p, v, r) * dt\n",
    "            v = p / m\n",
    "            r = r + v * dt\n",
    "            t = t + dt\n",
    "\n",
    "            state = (t, m, p, v, r)\n",
    "            self.state_history.append(state)\n",
    "        \n",
    "    def _unpack_data(self, data):\n",
    "        t, m, p, v, r = zip(*data)\n",
    "        px, py, pz = zip(*p)\n",
    "        vx, vy, vz = zip(*v)\n",
    "        rx, ry, rz = zip(*r)\n",
    "        variables = ['t','m','p','v','r'] + ['rx','ry','rz'] + ['vx','vy','vz'] + ['px','py','pz']\n",
    "        data_dict = {}\n",
    "        for variable in variables:\n",
    "            data_dict[variable] = locals()[variable]\n",
    "        return data_dict\n",
    "    \n",
    "    @property\n",
    "    def current_state(self):\n",
    "        t, m, p, v, r = obj.state_history[-1]\n",
    "        px, py, pz = p\n",
    "        vx, vy, vz = v\n",
    "        rx, ry, rz = r\n",
    "        variables = ['t','m','p','v','r'] + ['rx','ry','rz'] + ['vx','vy','vz'] + ['px','py','pz']\n",
    "        data_dict = {}\n",
    "        for variable in variables:\n",
    "            data_dict[variable] = locals()[variable]\n",
    "        return data_dict\n",
    "\n",
    "    @property\n",
    "    def worldline(self):\n",
    "        t, m, p, v, r = zip(*obj.state_history)\n",
    "        px, py, pz = zip(*p)\n",
    "        vx, vy, vz = zip(*v)\n",
    "        rx, ry, rz = zip(*r)\n",
    "        variables = ['t','m','p','v','r'] + ['rx','ry','rz'] + ['vx','vy','vz'] + ['px','py','pz']\n",
    "        data_dict = {}\n",
    "        for variable in variables:\n",
    "            data_dict[variable] = locals()[variable]\n",
    "        return data_dict\n",
    "    \n",
    "    def plot3view(self, grid=True, tocks=5):\n",
    "        if tocks:\n",
    "            markevery = int(len(self.state_history) / tocks)\n",
    "        else:\n",
    "            markevery = None\n",
    "            \n",
    "        x, y, z = zip(*obj.worldline['r'])\n",
    "        fig = plt.figure(figsize=(10, 3.5))\n",
    "        \n",
    "        ax1 = plt.subplot(131) # equivalent to: plt.subplot(2, 2, 1)\n",
    "\n",
    "        ax1.plot(x, y, c='b', markevery=[-1], marker='o', mfc='w', mec='b', mew=1)\n",
    "        if markevery:\n",
    "            ax1.plot(x[:-1], y[:-1], lw=0, markevery=markevery, marker='.', mec='b')\n",
    "        \n",
    "        ax1.grid(grid)\n",
    "        ax1.set_aspect('equal')\n",
    "        ax1.set_xlabel('x')\n",
    "        ax1.set_ylabel('y')\n",
    "        ax1.set_title('Top View')\n",
    "        \n",
    "        ax2 = plt.subplot(132, sharex=ax1)\n",
    "        \n",
    "        ax2.plot(x, z, c='b', markevery=[-1], marker='o', mfc='w', mec='b', mew=1)\n",
    "        if markevery:\n",
    "            ax2.plot(x[:-1], z[:-1], lw=0, markevery=markevery, marker='.', mec='b')\n",
    "\n",
    "        ax2.grid(grid)\n",
    "        ax2.set_aspect('equal')\n",
    "        ax2.set_xlabel('x')\n",
    "        ax2.set_ylabel('z')\n",
    "        ax2.set_title('Side View (x)')\n",
    "        \n",
    "        ax3 = plt.subplot(133, sharey=ax2)\n",
    "        \n",
    "        ax3.plot(y, z, c='b', markevery=[-1], marker='o', mfc='w', mec='b', mew=1)\n",
    "        if markevery:\n",
    "            ax3.plot(y[:-1], z[:-1], lw=0, markevery=markevery, marker='.', mec='b')\n",
    "            \n",
    "        ax3.grid(grid)\n",
    "        ax3.set_aspect('equal')\n",
    "        ax3.set_xlabel('y')\n",
    "        ax3.set_ylabel('z')\n",
    "        ax3.set_title('Side View (y)')\n",
    "        \n",
    "        plt.margins(0.1)\n",
    "        fig.tight_layout()"
   ]
  },
  {
   "cell_type": "code",
   "execution_count": 4,
   "metadata": {
    "collapsed": false
   },
   "outputs": [],
   "source": [
    "# obj = Particle(r0=np.array([1,0,0]),v0=np.array([3,0,10]))\n",
    "# obj.forces.append(lambda t, m, p, v, r: np.array([0,0,-10 * m]))\n",
    "# obj.increment(0.01, 100)\n",
    "# obj.plot3view()"
   ]
  },
  {
   "cell_type": "code",
   "execution_count": 5,
   "metadata": {
    "collapsed": false
   },
   "outputs": [],
   "source": [
    "# def gravitation(r, m, GM=1):\n",
    "#     return -GM * m * r / vmag(r) ** 3 # inverse square\n",
    "\n",
    "# m0 = 1.0\n",
    "# r0 = np.array([0.5, 0.0, 0.0])\n",
    "# v0 = np.array([0.0, 1.630, 0.0])\n",
    "\n",
    "# obj = Particle(m0=m0, r0=r0, v0=v0)\n",
    "# obj.forces.append(lambda t, m, p, v, r: gravitation(r, m))\n",
    "# obj.increment(0.01,400)\n",
    "# obj.plot3view()"
   ]
  },
  {
   "cell_type": "markdown",
   "metadata": {},
   "source": [
    "## Chapter 2"
   ]
  },
  {
   "cell_type": "markdown",
   "metadata": {},
   "source": [
    "### Problem 003\n",
    "\n",
    "Due to continental drift, the North American and European continents are drifiting apart at an average speed of about 0.03 meters per year. At this speed, how long (in years) will it take for them to drift apart by another 1500 meters? \n",
    "\n",
    "*Answer:* 50,000 years"
   ]
  },
  {
   "cell_type": "code",
   "execution_count": 11,
   "metadata": {
    "collapsed": true
   },
   "outputs": [],
   "source": [
    "import math\n",
    "\n",
    "class Vector():\n",
    "\n",
    "    def __init__(self, x=0, y=0, z=0):\n",
    "        self._data = [x, y, z]\n",
    "    \n",
    "    def copy(self):\n",
    "        return Vector(self)\n",
    "\n",
    "    def __getitem__(self, n):\n",
    "        return self._data[n]\n",
    "\n",
    "    def __getattr__(self, name):\n",
    "        if name == 'x':\n",
    "            return self._data[0]\n",
    "        elif name == 'y':\n",
    "            return self._data[1]\n",
    "        elif name == 'z':\n",
    "            return self._data[2]\n",
    "\n",
    "    def __setitem__(self, n, val):\n",
    "        self._data[n] = val\n",
    "        \n",
    "    def __setattr__(self, name, val):\n",
    "        if name == 'x':\n",
    "            self._data[0] = val\n",
    "        elif name == 'y':\n",
    "            self._data[1] = val\n",
    "        elif name == 'z':\n",
    "            self._data[2] = val\n",
    "        else:\n",
    "            object.__setattr__(self, name, val)\n",
    "\n",
    "    def __repr__(self):\n",
    "        return '<Vector: ({:.4f}, {:.4f}, {:.4f})>'.format(*self._data)\n",
    "\n",
    "    def __str__(self):\n",
    "        return self.__repr__()\n",
    "\n",
    "    def __eq__(self, other):\n",
    "        diff = 0\n",
    "        for i in range(3):\n",
    "            diff = ( self._data[i] - other._data[i] ) ** 2\n",
    "        return diff < 1e-06\n",
    "\n",
    "    def __add__(self, other):\n",
    "        a = self._data\n",
    "        b = other._data\n",
    "        return Vector(a[0] + b[0], a[1] + b[1], a[2] + b[2])\n",
    "    \n",
    "    def __rmul__(self, other):\n",
    "        if type(other) in (int, float):\n",
    "            a = self._data\n",
    "            return Vector(other * a[0], other * a[1], other * a[2])\n",
    "        elif type(other) == Vector:\n",
    "            a = self._data\n",
    "            b = other._data\n",
    "            return a[0] * b[0] + a[1] * b[1] + a[2] * b[2]\n",
    "        \n",
    "    __mul__ = __rmul__ # to support b*2 == 2*b\n",
    "\n",
    "    def __neg__(self):\n",
    "        return -1 * self\n",
    "\n",
    "    def __sub__(self, other):\n",
    "        return self + -1 * other\n",
    "    \n",
    "    def __truediv__(self, other):\n",
    "        return (1.0 / other) * self  \n",
    "    \n",
    "    __div__ = __truediv__\n",
    "\n",
    "    def __abs__(self):\n",
    "        return math.sqrt(self * self)\n",
    "    \n",
    "    def vmag(self):\n",
    "        return abs(self)\n",
    "    \n",
    "    def vdir(self):\n",
    "        return self / abs(self)\n",
    "    \n",
    "    def vect(mag, ang, deg=True):\n",
    "        if deg: # then convert to radians\n",
    "            ang = math.radians(ang)\n",
    "        return mag * Vector(math.cos(ang), 0, math.sin(ang))\n",
    "\n",
    "    def vang(self, other=None, deg=True):\n",
    "        if other is None:\n",
    "            other = self - self.proj(Vector(0,0,1))\n",
    "        cos_theta = self.vdir() * other.vdir()\n",
    "        vang = math.acos(cos_theta)\n",
    "        if deg:\n",
    "            vang = math.degrees(vang)\n",
    "        return vang\n",
    "        \n",
    "    def proj(self, other, normalize=True):\n",
    "        if normalize:\n",
    "            v_hat = other.vdir()\n",
    "        else:\n",
    "            v_hat = other\n",
    "        return (self * v_hat) * v_hat\n",
    "\n",
    "Vector.ex = Vector.e0 = Vector(1, 0, 0)\n",
    "Vector.ey = Vector.e1 = Vector(0, 1, 0)\n",
    "Vector.ez = Vector.e2 = Vector(0, 0, 1)"
   ]
  },
  {
   "cell_type": "code",
   "execution_count": 12,
   "metadata": {
    "collapsed": false
   },
   "outputs": [
    {
     "name": "stdout",
     "output_type": "stream",
     "text": [
      "Drift time = 50,000 years\n",
      "CPU times: user 5.43 s, sys: 14 ms, total: 5.44 s\n",
      "Wall time: 5.81 s\n"
     ]
    }
   ],
   "source": [
    "%%time\n",
    "\n",
    "r = Vector()\n",
    "v = Vector(0.03,0,0)\n",
    "t = 0\n",
    "\n",
    "dt = 0.1\n",
    "while True:\n",
    "    r = r + v * dt\n",
    "    t = t + dt\n",
    "    if r.x > 1500:\n",
    "        break\n",
    "        \n",
    "print('Drift time = {:,.0f} years'.format(t))        "
   ]
  },
  {
   "cell_type": "code",
   "execution_count": 9,
   "metadata": {
    "collapsed": false
   },
   "outputs": [
    {
     "name": "stdout",
     "output_type": "stream",
     "text": [
      "Drift time = 50,000 years\n",
      "CPU times: user 16.5 s, sys: 152 ms, total: 16.7 s\n",
      "Wall time: 18.1 s\n"
     ]
    }
   ],
   "source": [
    "%%time\n",
    "\n",
    "obj = Particle(p0=np.array([0.03,0,0]))\n",
    "while True:\n",
    "    obj.increment(0.1)\n",
    "    rx = obj.current_state['rx']\n",
    "    if rx > 1500:\n",
    "        break\n",
    "\n",
    "t = obj.current_state['t']\n",
    "print('Drift time = {:,.0f} years'.format(t))"
   ]
  },
  {
   "cell_type": "code",
   "execution_count": 28,
   "metadata": {
    "collapsed": false
   },
   "outputs": [
    {
     "name": "stdout",
     "output_type": "stream",
     "text": [
      "Drift time = 50,000 years\n",
      "CPU times: user 13.7 s, sys: 68 ms, total: 13.8 s\n",
      "Wall time: 14.1 s\n"
     ]
    }
   ],
   "source": [
    "%%time\n",
    "\n",
    "obj = Particle(p0=np.array([0.03,0,0]))\n",
    "# dt, n, self = 0.1, 1, obj\n",
    "t, m, p, v, r = 0.0, 1.0, np.array([0.03,0,0]), np.array([0.03,0,0]), np.array([0,0,0])\n",
    "\n",
    "dt = 0.1\n",
    "while True:\n",
    "    r = r + v * dt\n",
    "    t = t + dt\n",
    "\n",
    "    state = (t, m, p, v, r)\n",
    "    obj.state_history.append(state)\n",
    "        \n",
    "#     rx, ry, rz = r\n",
    "    rx = obj.current_state['rx']\n",
    "    if rx > 1500:\n",
    "        break\n",
    "\n",
    "t = obj.current_state['t']\n",
    "print('Drift time = {:,.0f} years'.format(t))"
   ]
  },
  {
   "cell_type": "code",
   "execution_count": 546,
   "metadata": {
    "collapsed": false
   },
   "outputs": [
    {
     "name": "stdout",
     "output_type": "stream",
     "text": [
      "Drift time = 50,000 years\n",
      "CPU times: user 404 ms, sys: 1 ms, total: 405 ms\n",
      "Wall time: 449 ms\n"
     ]
    }
   ],
   "source": [
    "%%time\n",
    "\n",
    "dt = 0.1 # years\n",
    "\n",
    "a = 0.0\n",
    "v = 0.03 # meters per year\n",
    "r = 0.0\n",
    "t = 0.0\n",
    "\n",
    "while True:\n",
    "    v += a * dt\n",
    "    r += v * dt\n",
    "    t += dt\n",
    "    if r > 1500:\n",
    "        break\n",
    "\n",
    "print('Drift time = {:,.0f} years'.format(t))"
   ]
  },
  {
   "cell_type": "markdown",
   "metadata": {},
   "source": [
    "### Problem 015\n",
    "\n",
    "(a) Suppose that a NASCAR race car is moving to the right with a constant velocity of +82 m/s. What is the average acceleration of of car? (b) Twelve seconds later, the car is halfway around the track and traveling in the opposite direction with the same speed. What is the average acceleration of the car?\n",
    "\n",
    "*Answer:* (a) 0 m/s² (b) −14 m/s²"
   ]
  },
  {
   "cell_type": "code",
   "execution_count": 42,
   "metadata": {
    "collapsed": false
   },
   "outputs": [
    {
     "name": "stdout",
     "output_type": "stream",
     "text": [
      "Average acceleration = -13.7 m/s²\n"
     ]
    }
   ],
   "source": [
    "v0 = +82\n",
    "vf = -82\n",
    "Dt = 12\n",
    "\n",
    "Dv = vf - v0\n",
    "avg_a = Dv / Dt\n",
    "print('Average acceleration = {:.1f} m/s²'.format(avg_a))"
   ]
  },
  {
   "cell_type": "markdown",
   "metadata": {},
   "source": [
    "### Problem 028\n",
    "\n",
    "(a) What is the magnitude of the average acceleration of a skier who, starting from rest, reaches a speed of 8.0 m/s when going down a slope for 5.0 seconds? (b) How far does the skier travel in this time?\n",
    "\n",
    "*Answer:* (a) 1.6 m/s²; (b) 20 meters"
   ]
  },
  {
   "cell_type": "code",
   "execution_count": 14,
   "metadata": {
    "collapsed": false
   },
   "outputs": [
    {
     "name": "stdout",
     "output_type": "stream",
     "text": [
      "Average acceleration = 1.60 m/s²\n"
     ]
    }
   ],
   "source": [
    "v0 = 0\n",
    "vf = 8.0\n",
    "Dt = 5.0\n",
    "\n",
    "Dv = vf - v0\n",
    "avg_a = Dv / Dt\n",
    "print('Average acceleration = {:.2f} m/s²'.format(avg_a))"
   ]
  },
  {
   "cell_type": "markdown",
   "metadata": {},
   "source": [
    "### Problem 029\n",
    "\n",
    "A jetliner, traveling northward, is landing with a speed of 69 m/s. Once the jet touches down, it has 750 meters of runway in which to reduce its speed to 6.1 m/s. Compute the average acceleration of the plane during landing.\n",
    "\n",
    "*Answer:* −3.1 m/s²"
   ]
  },
  {
   "cell_type": "code",
   "execution_count": 224,
   "metadata": {
    "collapsed": false
   },
   "outputs": [
    {
     "name": "stdout",
     "output_type": "stream",
     "text": [
      "Final speed = 6.10 m/s\n",
      "Final position = 749.8 meters\n",
      "Total duration = 20.0 seconds\n",
      "Average acceleration = -3.15 m/s²\n"
     ]
    }
   ],
   "source": [
    "dt = 0.001\n",
    "\n",
    "mag_a = 0\n",
    "for da in [100,10,1,0.1,0.01,0.001]:\n",
    "    for _ in range(10):\n",
    "        mag_a += da\n",
    "\n",
    "        t = 0.0\n",
    "        r = 0.0\n",
    "        v = 69.0\n",
    "        \n",
    "        while True:\n",
    "            a = -mag_a\n",
    "            v += a * dt\n",
    "            r += v * dt\n",
    "            t += dt\n",
    "\n",
    "            if v < 6.1:\n",
    "                break\n",
    "\n",
    "        if r < 750:\n",
    "            mag_a -= da\n",
    "            break\n",
    "\n",
    "print('Final speed = {:.2f} m/s'.format(v))\n",
    "print('Final position = {:.1f} meters'.format(r))\n",
    "print('Total duration = {:.1f} seconds'.format(t))\n",
    "print('Average acceleration = {:.2f} m/s²'.format(a))"
   ]
  },
  {
   "cell_type": "markdown",
   "metadata": {},
   "source": [
    "### Problem 045\n",
    "\n",
    "A piece of cardboard can be used to measure a person's reaction time. Hold the card at the top and suddenly drop it. Ask a friend to try to catch the card between his or her thumb and index finger. Initially, your friend's fingers must be level with the bottom of the card. By noting where your friend catches the card, you can determine his or her reaction time in milliseconds. Calculate the distance `d1` (180 ms), `d2` (120 ms), and `d3` (60.0 ms).\n",
    "\n",
    "*Answer:* (a) 0.018 meters (b) 0.071 meters (c) 0.16 meters"
   ]
  },
  {
   "cell_type": "code",
   "execution_count": 226,
   "metadata": {
    "collapsed": false
   },
   "outputs": [
    {
     "name": "stdout",
     "output_type": "stream",
     "text": [
      "Total duration = 0.180 seconds\n",
      "Final position = -0.160 meters\n",
      "Final speed = -1.764 m/s\n",
      "\n",
      "Total duration = 0.120 seconds\n",
      "Final position = -0.071 meters\n",
      "Final speed = -1.176 m/s\n",
      "\n",
      "Total duration = 0.060 seconds\n",
      "Final position = -0.018 meters\n",
      "Final speed = -0.588 m/s\n",
      "\n"
     ]
    }
   ],
   "source": [
    "dt = 0.001\n",
    "\n",
    "for tf in [0.180, 0.120, 0.060]:\n",
    "    \n",
    "    t = 0.0\n",
    "    r = 0.0\n",
    "    v = 0.0\n",
    "\n",
    "    while True:\n",
    "        a = -9.8\n",
    "        v += a * dt\n",
    "        r += v * dt\n",
    "        t += dt\n",
    "\n",
    "        if t > tf:\n",
    "            break\n",
    "\n",
    "    print('Total duration = {:.3f} seconds'.format(t))\n",
    "    print('Final position = {:.3f} meters'.format(r))\n",
    "    print('Final speed = {:.3f} m/s'.format(v))\n",
    "    print()"
   ]
  },
  {
   "cell_type": "markdown",
   "metadata": {},
   "source": [
    "### Problem 051\n",
    "\n",
    "A diver springs upward with an initial speed of 1.8 m/s from a 3.0-meter board. (a) Find the velocity with which he strikes the water. [Hint: When the diver reaches the water, his displacement is `y` = −3.0 meters (measured from the board), assuming that the downward direction is chosen as the negative direction.] (b) What is the highest point he reaches above the water?\n",
    "\n",
    "*Answer:* (a) −7.9 m/s; (b) 3.2 meters"
   ]
  },
  {
   "cell_type": "code",
   "execution_count": 227,
   "metadata": {
    "collapsed": false
   },
   "outputs": [
    {
     "name": "stdout",
     "output_type": "stream",
     "text": [
      "Total duration = 0.987 seconds\n",
      "Final position = -0.002 meters\n",
      "Final speed = -7.873 m/s\n"
     ]
    }
   ],
   "source": [
    "dt = 0.001\n",
    "\n",
    "t = 0.0\n",
    "r = 3.0\n",
    "v = 1.8\n",
    "\n",
    "while True:\n",
    "    a = -9.8\n",
    "    v += a * dt\n",
    "    r += v * dt\n",
    "    t += dt\n",
    "\n",
    "    if r < 0:\n",
    "        break\n",
    "\n",
    "print('Total duration = {:.3f} seconds'.format(t))\n",
    "print('Final position = {:.3f} meters'.format(r))\n",
    "print('Final speed = {:.3f} m/s'.format(v))"
   ]
  },
  {
   "cell_type": "code",
   "execution_count": 228,
   "metadata": {
    "collapsed": false
   },
   "outputs": [
    {
     "name": "stdout",
     "output_type": "stream",
     "text": [
      "Total duration = 0.184 seconds\n",
      "Final position = 3.164 meters\n",
      "Final speed = -0.003 m/s\n"
     ]
    }
   ],
   "source": [
    "dt = 0.001\n",
    "\n",
    "t = 0.0\n",
    "r = 3.0\n",
    "v = 1.8\n",
    "\n",
    "while True:\n",
    "    a = -9.8\n",
    "    v += a * dt\n",
    "    r += v * dt\n",
    "    t += dt\n",
    "\n",
    "    if v < 0:\n",
    "        break\n",
    "\n",
    "print('Total duration = {:.3f} seconds'.format(t))\n",
    "print('Final position = {:.3f} meters'.format(r))\n",
    "print('Final speed = {:.3f} m/s'.format(v))"
   ]
  },
  {
   "cell_type": "markdown",
   "metadata": {},
   "source": [
    "### Problem 053\n",
    "\n",
    "From her bedroom window a girl drops a water-filled balloon to the ground, 6.0 meters below. If the balloon is released from rest, how long is it in the air?\n",
    "\n",
    "*Answer:* 1.1 seconds"
   ]
  },
  {
   "cell_type": "code",
   "execution_count": 229,
   "metadata": {
    "collapsed": false
   },
   "outputs": [
    {
     "name": "stdout",
     "output_type": "stream",
     "text": [
      "Total duration = 1.107 seconds\n",
      "Final position = -0.010 meters\n",
      "Final speed = -10.85 m/s\n"
     ]
    }
   ],
   "source": [
    "dt = 0.001\n",
    "\n",
    "t = 0.0\n",
    "r = 6.0\n",
    "v = 0.0\n",
    "\n",
    "while True:\n",
    "    a = -9.8\n",
    "    v += a * dt\n",
    "    r += v * dt\n",
    "    t += dt\n",
    "\n",
    "    if r < 0:\n",
    "        break\n",
    "\n",
    "print('Total duration = {:.3f} seconds'.format(t))\n",
    "print('Final position = {:.3f} meters'.format(r))\n",
    "print('Final speed = {:.2f} m/s'.format(v))"
   ]
  },
  {
   "cell_type": "markdown",
   "metadata": {},
   "source": [
    "### Problem 067\n",
    "\n",
    "A snowmobile moves according to the velocity-time graph shown in the drawing. What is the snowmobile's average acceleration during each of the segments `A`, `B`, `C`?\n",
    "\n",
    "*Answer:* (a) 1.9 m/s² (b) 0 m/s² (c) 3.3 m/s²"
   ]
  },
  {
   "cell_type": "code",
   "execution_count": 230,
   "metadata": {
    "collapsed": false
   },
   "outputs": [
    {
     "data": {
      "image/png": "[encoded data removed]",
      "text/plain": [
       "<matplotlib.figure.Figure at 0x7f43d4bab128>"
      ]
     },
     "metadata": {},
     "output_type": "display_data"
    }
   ],
   "source": [
    "points = [(0,0),(21,40),(48,40),(60,80)]\n",
    "plt.plot(*zip(*points),marker='o')\n",
    "plt.margins(0.05)\n",
    "plt.xlabel('Time (s)')\n",
    "plt.ylabel('Velocity (m/s)')\n",
    "plt.show()"
   ]
  },
  {
   "cell_type": "code",
   "execution_count": 231,
   "metadata": {
    "collapsed": false
   },
   "outputs": [
    {
     "name": "stdout",
     "output_type": "stream",
     "text": [
      "Section 1 acceleration = 1.90 m/s²\n",
      "Section 2 acceleration = 0.00 m/s²\n",
      "Section 3 acceleration = 3.33 m/s²\n"
     ]
    }
   ],
   "source": [
    "for i in range(len(points)-1):\n",
    "    dv = points[i+1][1] - points[i][1]\n",
    "    dt = points[i+1][0] - points[i][0]\n",
    "    print('Section {} acceleration = {:.2f} m/s²'.format(i+1, dv/dt))"
   ]
  },
  {
   "cell_type": "markdown",
   "metadata": {},
   "source": [
    "### Problem 068\n",
    "\n",
    "A bus makes a trip according to the position-time graph shown in the drawing. What is the average velocity of the bus during each of the segments `A`, `B`, and `C`? Express your answers in km/h.\n",
    "\n",
    "*Answer:* −20 km/h; 10 km/h; 40 km/h"
   ]
  },
  {
   "cell_type": "code",
   "execution_count": 232,
   "metadata": {
    "collapsed": false,
    "scrolled": true
   },
   "outputs": [
    {
     "data": {
      "image/png": "[encoded data removed]",
      "text/plain": [
       "<matplotlib.figure.Figure at 0x7f43d4c7d5c0>"
      ]
     },
     "metadata": {},
     "output_type": "display_data"
    }
   ],
   "source": [
    "points = [(0.0,40),(1.5,10),(2.5,20),(3.0,40)]\n",
    "plt.plot(*zip(*points),marker='o')\n",
    "plt.margins(0.05)\n",
    "plt.xlabel('Time (hr)')\n",
    "plt.ylabel('Position (km)')\n",
    "plt.show()"
   ]
  },
  {
   "cell_type": "code",
   "execution_count": 233,
   "metadata": {
    "collapsed": false
   },
   "outputs": [
    {
     "name": "stdout",
     "output_type": "stream",
     "text": [
      "Section 1 velocity = -20.0 m/s\n",
      "Section 2 velocity =  10.0 m/s\n",
      "Section 3 velocity =  40.0 m/s\n"
     ]
    }
   ],
   "source": [
    "for i in range(len(points)-1):\n",
    "    dx = points[i+1][1] - points[i][1]\n",
    "    dt = points[i+1][0] - points[i][0]\n",
    "    print('Section {} velocity = {: .1f} m/s'.format(i+1, dx/dt))"
   ]
  },
  {
   "cell_type": "markdown",
   "metadata": {},
   "source": [
    "### Problem 078\n",
    "\n",
    "In 1998, NASA launched *Deep Space I* (DS-1), a spacecraft that successfully flew by the asteroid named 1992 KD (which orbits the sun millions of miles from the earth). The propulsion system of DS-1 worked by ejecting high-speed argon ions out the rear of the engine. The engine slowly increased the velocity of DS-1 by about +9.0 m/s per day. (a) How much time (in days) would it take to increase the velocity of DS-1 by +2700 m/s? (b) What was the acceleration of DS-1 (in m/s²)?\n",
    "\n",
    "*Answer:* (a) 300 days (b) 1.04E−4 m/s²"
   ]
  },
  {
   "cell_type": "code",
   "execution_count": 234,
   "metadata": {
    "collapsed": false
   },
   "outputs": [
    {
     "name": "stdout",
     "output_type": "stream",
     "text": [
      "Total duration = 300 days\n",
      "Final speed = 2700 m/s\n",
      "Average acceleration = 1.04e-04 m/s²\n"
     ]
    }
   ],
   "source": [
    "dt = 864 # 0.01 days\n",
    "\n",
    "t = 0.0\n",
    "v = 0.0\n",
    "\n",
    "while True:\n",
    "    a = 9.0 / 86400 # 9.0 \n",
    "    v = v + a * dt\n",
    "    t = t + dt\n",
    "\n",
    "    if v > 2700:\n",
    "        break\n",
    "\n",
    "print('Total duration = {:.0f} days'.format(t / 86400))\n",
    "print('Final speed = {:.0f} m/s'.format(v))\n",
    "print('Average acceleration = {:.2e} m/s²'.format(a))"
   ]
  },
  {
   "cell_type": "markdown",
   "metadata": {},
   "source": [
    "### Problem 079\n",
    "\n",
    "A cheetah is hunting. Its prey runs for 3.0 seconds at a constant velocity of +9.0 m/s. Starting from rest, what constant acceleration must the cheetah maintain in order to run the same distance as its prey runs in the same time?\n",
    "\n",
    "*Answer:* 6.0 m/s²"
   ]
  },
  {
   "cell_type": "code",
   "execution_count": 235,
   "metadata": {
    "collapsed": false,
    "scrolled": false
   },
   "outputs": [
    {
     "name": "stdout",
     "output_type": "stream",
     "text": [
      "Total duration = 3.00 seconds\n",
      "\n",
      "Final displacement of prey = 27.0 meters\n",
      "Final displacement of cheetah = 27.0 meters\n",
      "\n",
      "Final speed of prey = 9.0 m/s\n",
      "Final speed of cheetah = 18.0 m/s\n",
      "\n",
      "Acceleration of prey = 0.00 m/s²\n",
      "Acceleration of cheetah = 6.00 m/s²\n"
     ]
    }
   ],
   "source": [
    "dt = 0.001\n",
    "\n",
    "a1, a2 = 0.0, 0.0\n",
    "for da in [10,1,0.1,0.01,0.001]:\n",
    "    while True:\n",
    "        a2 += da\n",
    "        \n",
    "        r1, v1 = 0.0, 9.0\n",
    "        r2, v2 = 0.0, 0.0\n",
    "\n",
    "        t = 0.0\n",
    "        while True:\n",
    "            v1 += a1 * dt\n",
    "            r1 += v1 * dt\n",
    "\n",
    "            v2 += a2 * dt\n",
    "            r2 += v2 * dt\n",
    "\n",
    "            t += dt\n",
    "            if t > 3:\n",
    "                break\n",
    "        \n",
    "        if r2 >= r1:\n",
    "            a2 -= da\n",
    "            break\n",
    "\n",
    "print('Total duration = {:.2f} seconds'.format(t))\n",
    "print()\n",
    "print('Final displacement of prey = {:.1f} meters'.format(r1))\n",
    "print('Final displacement of cheetah = {:.1f} meters'.format(r2))\n",
    "print()\n",
    "print('Final speed of prey = {:.1f} m/s'.format(v1))\n",
    "print('Final speed of cheetah = {:.1f} m/s'.format(v2))\n",
    "print()\n",
    "print('Acceleration of prey = {:.2f} m/s²'.format(a1))\n",
    "print('Acceleration of cheetah = {:.2f} m/s²'.format(a2))"
   ]
  },
  {
   "cell_type": "markdown",
   "metadata": {},
   "source": [
    "### Problem 081\n",
    "\n",
    "A woman and her dog are out for a morning run to the river, which is located 4.0 kilometers away. The woman runs at 2.5 m/s in a straight line. The dog is unleashed and runs back and forth at 4.5 m/s between his owner and the river, until the woman reaches the river. What is the total distance run by the dog?\n",
    "\n",
    "*Answer:* 7200 meters"
   ]
  },
  {
   "cell_type": "code",
   "execution_count": 236,
   "metadata": {
    "collapsed": false,
    "scrolled": true
   },
   "outputs": [
    {
     "name": "stdout",
     "output_type": "stream",
     "text": [
      "Total duration = 1.60 seconds\n",
      "Final distance run by woman = 4.00 meters\n",
      "Final distance run by dog = 7.20 meters\n"
     ]
    }
   ],
   "source": [
    "dt = 0.001\n",
    "\n",
    "r1, v1 = 0.0, 2.5\n",
    "r2, v2 = 0.0, 4.5\n",
    "\n",
    "d1, d2 = r1, r2\n",
    "\n",
    "t = 0.0\n",
    "while True:\n",
    "    r1 += v1 * dt\n",
    "    r2 += v2 * dt\n",
    "    \n",
    "    d1 += abs(v1 * dt)\n",
    "    d2 += abs(v2 * dt)\n",
    "\n",
    "    t += dt\n",
    "    if r2 > 4.0 or r2 < r1:\n",
    "        v2 *= -1\n",
    "        \n",
    "    if r1 > 4.0:\n",
    "        break\n",
    "\n",
    "print('Total duration = {:.2f} seconds'.format(t))\n",
    "print('Final distance run by woman = {:.2f} meters'.format(d1))\n",
    "print('Final distance run by dog = {:.2f} meters'.format(d2))"
   ]
  },
  {
   "cell_type": "markdown",
   "metadata": {},
   "source": [
    "## Chapter 3"
   ]
  },
  {
   "cell_type": "markdown",
   "metadata": {},
   "source": [
    "### Problem 005\n",
    "\n",
    "In diving to a depth of 750 meters, an elephant seal also moves 460 meters due east of his starting point. What is the magnitude of the player's displacement.\n",
    "\n",
    "*Answer:* 880 meters"
   ]
  },
  {
   "cell_type": "code",
   "execution_count": 217,
   "metadata": {
    "collapsed": false
   },
   "outputs": [
    {
     "data": {
      "text/plain": [
       "879.82952894296523"
      ]
     },
     "execution_count": 217,
     "metadata": {},
     "output_type": "execute_result"
    }
   ],
   "source": [
    "vmag(np.array([460,-750]))"
   ]
  },
  {
   "cell_type": "markdown",
   "metadata": {},
   "source": [
    "### Problem 007\n",
    "\n",
    "A radar antenna is tracking a satellite orbiting the earth. At a certain time, the radar screen shows the satellite to be 162 kilometers away. The radar antenna is pointing upward at an angle of 62.3° from the ground. Find the `x` and `y` components (in kilometers) of the position vector of the satellite, relative to the antenna.\n",
    "\n",
    "*Answer:* (a) 75.3 kilometers (b) 143 kilometers"
   ]
  },
  {
   "cell_type": "code",
   "execution_count": 216,
   "metadata": {
    "collapsed": false
   },
   "outputs": [
    {
     "data": {
      "text/plain": [
       "array([  75.30441141,  143.43376737])"
      ]
     },
     "execution_count": 216,
     "metadata": {},
     "output_type": "execute_result"
    }
   ],
   "source": [
    "vect(162, 62.3)"
   ]
  },
  {
   "cell_type": "markdown",
   "metadata": {},
   "source": [
    "### Problem 008\n",
    "\n",
    "In a mall, a shopper rides up an escalator between floors. At the top of the escalator, the shopper turns right and walks 9.00 meters to a store. The magnitude of the shopper's displacement from the bottom of the escalator to the store is 16.0 meters. The vertical distance between the floors is 6.00 meters. At what angle is the escalator inclined above the horizontal?\n",
    "\n",
    "*Answer:* 27.0°"
   ]
  },
  {
   "cell_type": "code",
   "execution_count": 220,
   "metadata": {
    "collapsed": false
   },
   "outputs": [
    {
     "name": "stdout",
     "output_type": "stream",
     "text": [
      "Components of the displacement are 9.00, 11.79, 6.00\n",
      "The angle of the escalator is 27.0 degrees\n"
     ]
    }
   ],
   "source": [
    "rx = 9.00 # right\n",
    "ry = None # forward\n",
    "rz = 6.00 # up\n",
    "\n",
    "ry = 0.00\n",
    "for dy in [1, 0.1, 0.01, 0.001]:\n",
    "    while True:\n",
    "        ry += dy\n",
    "        r = np.array([rx,ry,rz])\n",
    "        if vmag(r) > 16:\n",
    "            ry -= dy\n",
    "            break\n",
    "\n",
    "print('Components of the displacement are {:.2f}, {:.2f}, {:.2f}'.format(rx, ry, rz))\n",
    "\n",
    "angle = vang(r,out_index=1,up_index=2)\n",
    "print('The angle of the escalator is {:.1f} degrees'.format(angle))"
   ]
  },
  {
   "cell_type": "markdown",
   "metadata": {},
   "source": [
    "### Problem 009\n",
    "\n",
    "A skateboarder, starting from rest, rolls down a 12.0-meter ramp. When she arrives at the bottom of the ramp her speed is 7.70 m/s. (a) Determine the magnitude of her acceleration, assumed to be constant. (b) If the ramp is inclined at 25.0° with respect to the ground, what is the component of her acceleration that is parallel to the ground?\n",
    "          \n",
    "*Answer:* (a) 2.47 m/s²; (b) 2.24 m/s²"
   ]
  },
  {
   "cell_type": "markdown",
   "metadata": {},
   "source": [
    "### Problem 019\n",
    "\n",
    "A golfer imparts a speed of 30.3 m/s to a ball, and it travels the maximum possible distance before landing on the green. The tee and the green are at the same elevation. (a) How much time does the ball spend in the air? (b) What is the longest hole in one that the golfer can make, if the ball does not roll when it hits the green?\n",
    "\n",
    "*Answer:* (a) 4.37 seconds; (b) 93.5 meters"
   ]
  },
  {
   "cell_type": "markdown",
   "metadata": {},
   "source": [
    "### Problem 030\n",
    "\n",
    "A quarterback claims that he can throw the football a horizontal distance of 183 meters (200 yards). Furthermore, he claims that he can do this by launching the ball at the relatively low angle of 30.0° above the horizontal. To evaluate this claim, determine the speed with which this quarterback must throw the ball. Assume that the ball is launched and caught at the same vertical level and that air resistance can be ignored. For comparison, a baseball pitcher who can accurately throw a fastball at 45 m/s (100 mph) would be considered exceptional.\n",
    "\n",
    "*Answer:* 45.5 m/s"
   ]
  },
  {
   "cell_type": "markdown",
   "metadata": {},
   "source": [
    "### Problem 035\n",
    "\n",
    "A rocket is fired at a speed of 75.0 m/s from ground level, at an angle of 60.0° above the horizontal. The rocket is fired toward an 11.0-meter wall, which is located 27.0 meters away. The rocket attains its launch speed in a negligibly short period of time, after which its engines shut down and the rocket coasts. By how much does the rocket clear the top of the wall?\n",
    "\n",
    "*Answer:* 33.2 meters"
   ]
  },
  {
   "cell_type": "markdown",
   "metadata": {},
   "source": [
    "### Problem 057\n",
    "\n",
    "You are in a hot-air balloon that, relative to the ground, has a velocity of 6.0 m/s in a direction due east. You see a hawk moving directly away from the balloon in a direction due north. The speed of the hawk relative to you is 2.0 m/s. What are the magnitude and direction of the hawk's velocity relative to the ground? Express the directional angle relative to due east.\n",
    "\n",
    "*Answer:* 18° north of east"
   ]
  },
  {
   "cell_type": "markdown",
   "metadata": {},
   "source": [
    "### Problem 059\n",
    "\n",
    "Two passenger trains are passing each other on adjacent tracks. Train A is moving east with a speed of 13 m/s, and train B is traveling wast with a speed of 28 m/s. (a) What is the velocity (magnitude and direction) of train A as seen by the passenders in train B? (b) What is the velocity (magnitude and direction) of train B as seen by the passengers in train A?\n",
    "\n",
    "*Answer:* (a) +41 m/s (b) −41 m/s"
   ]
  },
  {
   "cell_type": "markdown",
   "metadata": {},
   "source": [
    "### Problem 069\n",
    "\n",
    "A golf ball rolls off a horizontal cliff with an initial speed of 11.4 m/s. The ball falls a vertical distance of 15.5 meters into a lake below. (a) How much time does the ball spend in the air? (b) What is the speed `v` of the ball just before it strikes the water?\n",
    "\n",
    "*Answer:* (a) 1.78 seconds (b) 20.8 m/s"
   ]
  },
  {
   "cell_type": "markdown",
   "metadata": {},
   "source": [
    "### Problem 071\n",
    "\n",
    "A diver runs horizontally with a speed of 1.20 m/s off a platform that is 10.0 meters above the water. What is his speed just before striking the water?\n",
    "\n",
    "*Answer:* 14.1 m/s"
   ]
  },
  {
   "cell_type": "code",
   "execution_count": null,
   "metadata": {
    "collapsed": true
   },
   "outputs": [],
   "source": []
  }
 ],
 "metadata": {
  "anaconda-cloud": {},
  "kernelspec": {
   "display_name": "Python [Root]",
   "language": "python",
   "name": "Python [Root]"
  },
  "language_info": {
   "codemirror_mode": {
    "name": "ipython",
    "version": 3
   },
   "file_extension": ".py",
   "mimetype": "text/x-python",
   "name": "python",
   "nbconvert_exporter": "python",
   "pygments_lexer": "ipython3",
   "version": "3.5.2"
  }
 },
 "nbformat": 4,
 "nbformat_minor": 0
}
