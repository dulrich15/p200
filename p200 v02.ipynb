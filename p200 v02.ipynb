{
 "cells": [
  {
   "cell_type": "code",
   "execution_count": 1,
   "metadata": {
    "collapsed": true
   },
   "outputs": [],
   "source": [
    "import matplotlib.pyplot as plt\n",
    "import numpy as np\n",
    "import types # used to re-define acceleration / force\n",
    "\n",
    "from mpl_toolkits.mplot3d.axes3d import Axes3D\n",
    "\n",
    "%matplotlib inline"
   ]
  },
  {
   "cell_type": "code",
   "execution_count": 21,
   "metadata": {
    "collapsed": true
   },
   "outputs": [],
   "source": [
    "class WorldEvent:\n",
    "    def __init__(self, time, position):\n",
    "        self.time = time\n",
    "        self.position = position\n",
    "\n",
    "    def __repr__(self):\n",
    "        return '({}, {})'.format(self.time, self.position)"
   ]
  },
  {
   "cell_type": "code",
   "execution_count": 22,
   "metadata": {
    "collapsed": false
   },
   "outputs": [],
   "source": [
    "class WorldLine:\n",
    "    def __init__(self, events=[]):\n",
    "        self.events = []\n",
    "        [self.append(event) for event in events]\n",
    "\n",
    "    def _sort(self):\n",
    "        self.events = sorted(self.events, key=lambda e: e.time)\n",
    "        \n",
    "    def append(self, event):\n",
    "        if isinstance(event, WorldEvent):\n",
    "            self.events.append(event)\n",
    "            self._sort()\n",
    "\n",
    "    def get_index(self, event):\n",
    "        try:\n",
    "            return self.events.index(event)\n",
    "        except:\n",
    "            return None\n",
    "        \n",
    "    def get_prev(self, event):\n",
    "        try:\n",
    "            return self.events[self.get_index(event) - 1]\n",
    "        except:\n",
    "            return None\n",
    "    \n",
    "    def get_next(self, event):\n",
    "        try:\n",
    "            return self.events[self.get_index(event) + 1]\n",
    "        except:\n",
    "            return None\n",
    "\n",
    "    def get_event(self, time):\n",
    "        for e in reversed(self.events):\n",
    "            if e.time <= time: break\n",
    "        if e.time <= time:\n",
    "            return e\n",
    "        \n",
    "    def position(self, time):\n",
    "        e = self.get_event(time)\n",
    "        n = self.get_next(e)\n",
    "        if e and n:\n",
    "            e_weight = 1 - ( time - e.time ) / ( n.time - e.time )\n",
    "            n_weight = 1 - ( n.time - time ) / ( n.time - e.time )\n",
    "            position = e.position * e_weight + n.position * n_weight\n",
    "            return position\n",
    "\n",
    "    def velocity(self, time):\n",
    "        e = self.get_event(time)\n",
    "        n = self.get_next(e)\n",
    "        if e and n:\n",
    "            velocity = ( n.position - e.position ) / ( n.time - e.time )\n",
    "            return velocity\n",
    "\n",
    "    def acceleration(self, time):\n",
    "        e = self.get_event(time)\n",
    "        n = self.get_next(e)\n",
    "        p = self.get_prev(e)\n",
    "        if e and n and p:\n",
    "            v1 = ( n.position - e.position ) / ( n.time - e.time )\n",
    "            v0 = ( e.position - p.position ) / ( e.time - p.time )\n",
    "            dv = v1 - v0\n",
    "            dt = 0.5 * ( n.time - p.time )    \n",
    "            return dv / dt\n",
    "        \n",
    "    def r(self, time):\n",
    "        return self.position(time)\n",
    "    \n",
    "    def v(self, time):\n",
    "        return self.velocity(time)\n",
    "    \n",
    "    def a(self, time):\n",
    "        return self.acceleration(time)\n",
    "\n",
    "    @property\n",
    "    def title(self):\n",
    "        return ''\n",
    "    \n",
    "    def plot(self, toggle='rva', grid=True, legend_loc='lower left', arrows=False):\n",
    "        rx, ry = zip(*[wl.r(e.time) for e in wl.events[1:-1]])\n",
    "        if 'r' in toggle:\n",
    "            plt.plot(rx, ry, 'b-', label='position')\n",
    "            rx, ry = zip(*[wl.r(e.time) for e in wl.events[1:-1:4]])\n",
    "            plt.plot(rx, ry, 'b.')\n",
    "            rx, ry = zip(*[wl.r(e.time) for e in [wl.events[-2]]])\n",
    "            plt.plot(rx, ry, 'bo', mec='b')\n",
    "        \n",
    "        rx, ry = zip(*[wl.r(e.time) for e in [wl.events[-2]]])\n",
    "\n",
    "        vx, vy = zip(*[wl.v(e.time) for e in wl.events[1:-1]])\n",
    "        if 'v' in toggle:\n",
    "            plt.plot(vx, vy, 'g-', label='velocity')\n",
    "            vx, vy = zip(*[wl.v(e.time) for e in wl.events[1:-1:4]])\n",
    "            plt.plot(vx, vy, 'g.')\n",
    "            vx, vy = zip(*[wl.v(e.time) for e in [wl.events[-2]]])\n",
    "            plt.plot(vx, vy, 'go', mec='g')\n",
    "\n",
    "        ax, ay = zip(*[wl.a(e.time) for e in wl.events[1:-1]])\n",
    "        if 'a' in toggle:\n",
    "            plt.plot(ax, ay, 'r-', label='acceleration')\n",
    "            ax, ay = zip(*[wl.a(e.time) for e in wl.events[1:-1:4]])\n",
    "            plt.plot(ax, ay, 'r.')\n",
    "            ax, ay = zip(*[wl.a(e.time) for e in [wl.events[-2]]])\n",
    "            plt.plot(ax, ay, 'ro', mec='r')\n",
    "            \n",
    "        if arrows:\n",
    "            xmin, xmax = plt.xlim()\n",
    "            ymin, ymax = plt.ylim()\n",
    "            size = 0.5 * (xmax - xmin) + 0.5 * (ymax - ymin)\n",
    "            head_size = {\n",
    "                'head_width': 0.03 * size,\n",
    "                'head_length': 0.05 * size,\n",
    "            }\n",
    "            if 'v' in toggle:\n",
    "                plt.axes().arrow(rx[0], ry[0], vx[0], vy[0], fc='g', ec='g', **head_size)\n",
    "            if 'a' in toggle:\n",
    "                plt.axes().arrow(rx[0], ry[0], ax[0], ay[0], fc='r', ec='r', **head_size)\n",
    "\n",
    "        plt.title(self.title)\n",
    "        plt.legend(loc=legend_loc, numpoints=1)\n",
    "\n",
    "        plt.axes().set_aspect('equal') # anything else will mess up angles\n",
    "        plt.margins(0.05)\n",
    "        if grid:\n",
    "            plt.axes().axhline(0, c='k')\n",
    "            plt.axes().axvline(0, c='k')\n",
    "            plt.grid(True)\n"
   ]
  },
  {
   "cell_type": "code",
   "execution_count": 23,
   "metadata": {
    "collapsed": false
   },
   "outputs": [
    {
     "data": {
      "image/png": "[encoded data removed]",
      "text/plain": [
       "<matplotlib.figure.Figure at 0x7fac2f397400>"
      ]
     },
     "metadata": {},
     "output_type": "display_data"
    }
   ],
   "source": [
    "wl = WorldLine()\n",
    "for q in range(60):\n",
    "    t = q / 10\n",
    "    x = 1.0 * np.cos(t)\n",
    "    y = 1.0 * np.sin(t)\n",
    "    wl.append(WorldEvent(t/2, np.array([x,y])))\n",
    "wl.plot('rva', arrows=True)"
   ]
  },
  {
   "cell_type": "code",
   "execution_count": null,
   "metadata": {
    "collapsed": true
   },
   "outputs": [],
   "source": []
  },
  {
   "cell_type": "code",
   "execution_count": null,
   "metadata": {
    "collapsed": true
   },
   "outputs": [],
   "source": []
  },
  {
   "cell_type": "code",
   "execution_count": null,
   "metadata": {
    "collapsed": true
   },
   "outputs": [],
   "source": []
  }
 ],
 "metadata": {
  "kernelspec": {
   "display_name": "Python 3",
   "language": "python",
   "name": "python3"
  },
  "language_info": {
   "codemirror_mode": {
    "name": "ipython",
    "version": 3
   },
   "file_extension": ".py",
   "mimetype": "text/x-python",
   "name": "python",
   "nbconvert_exporter": "python",
   "pygments_lexer": "ipython3",
   "version": "3.5.1"
  }
 },
 "nbformat": 4,
 "nbformat_minor": 0
}
