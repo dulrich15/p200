{
 "cells": [
  {
   "cell_type": "code",
   "execution_count": 442,
   "metadata": {
    "collapsed": false
   },
   "outputs": [],
   "source": [
    "import math\n",
    "\n",
    "class Vector():\n",
    "\n",
    "    def __init__(self, x=0, y=0, z=0):\n",
    "        self._data = (x, y, z)\n",
    "    \n",
    "    def copy(self):\n",
    "        return Vector(self)\n",
    "\n",
    "    def __getitem__(self, n):\n",
    "        return self._data[n]\n",
    "\n",
    "    def __getattr__(self, name):\n",
    "        if name == 'x':\n",
    "            return self._data[0]\n",
    "        elif name == 'y':\n",
    "            return self._data[1]\n",
    "        elif name == 'z':\n",
    "            return self._data[2]\n",
    "\n",
    "    def __setitem__(self, n, val):\n",
    "        self._data[n] = val\n",
    "        \n",
    "    def __setattr__(self, name, val):\n",
    "        if name == 'x':\n",
    "            self._data[0] = val\n",
    "        elif name == 'y':\n",
    "            self._data[1] = val\n",
    "        elif name == 'z':\n",
    "            self._data[2] = val\n",
    "        else:\n",
    "            object.__setattr__(self, name, val)\n",
    "\n",
    "    def __repr__(self):\n",
    "        return '<Vector: ({:.4f}, {:.4f}, {:.4f})>'.format(*self._data)\n",
    "\n",
    "    def __str__(self):\n",
    "        return self.__repr__()\n",
    "\n",
    "    def __eq__(self, other):\n",
    "        diff = 0\n",
    "        for i in range(3):\n",
    "            diff = ( self._data[i] - other._data[i] ) ** 2\n",
    "        return diff < 1e-06\n",
    "\n",
    "    def __add__(self, other):\n",
    "        a = self._data\n",
    "        b = other._data\n",
    "        return Vector(a[0] + b[0], a[1] + b[1], a[2] + b[2])\n",
    "    \n",
    "    def __rmul__(self, other):\n",
    "        if type(other) in (int, float):\n",
    "            a = self._data\n",
    "            return Vector(other * a[0], other * a[1], other * a[2])\n",
    "        elif type(other) == Vector:\n",
    "            a = self._data\n",
    "            b = other._data\n",
    "            return a[0] * b[0] + a[1] * b[1] + a[2] * b[2]\n",
    "        \n",
    "    __mul__ = __rmul__ # to support b*2 == 2*b\n",
    "\n",
    "    def __neg__(self):\n",
    "        return -1 * self\n",
    "\n",
    "    def __sub__(self, other):\n",
    "        return self + -1 * other\n",
    "    \n",
    "    def __truediv__(self, other):\n",
    "        return (1.0 / other) * self  \n",
    "    \n",
    "    __div__ = __truediv__\n",
    "\n",
    "    def __abs__(self):\n",
    "        return math.sqrt(self * self)\n",
    "    \n",
    "    def vmag(self):\n",
    "        return abs(self)\n",
    "    \n",
    "    def vdir(self):\n",
    "        return self / abs(self)\n",
    "    \n",
    "    def vect(mag, ang, deg=True):\n",
    "        if deg: # then convert to radians\n",
    "            ang = math.radians(ang)\n",
    "        return mag * Vector(math.cos(ang), 0, math.sin(ang))\n",
    "\n",
    "    def vang(self, other=None, deg=True):\n",
    "        if other is None:\n",
    "            other = self - self.proj(Vector(0,0,1))\n",
    "        cos_theta = self.vdir() * other.vdir()\n",
    "        vang = math.acos(cos_theta)\n",
    "        if deg:\n",
    "            vang = math.degrees(vang)\n",
    "        return vang\n",
    "        \n",
    "    def proj(self, other, normalize=True):\n",
    "        if normalize:\n",
    "            v_hat = other.vdir()\n",
    "        else:\n",
    "            v_hat = other\n",
    "        return (self * v_hat) * v_hat\n",
    "\n",
    "Vector.ex = Vector.e0 = Vector(1, 0, 0)\n",
    "Vector.ey = Vector.e1 = Vector(0, 1, 0)\n",
    "Vector.ez = Vector.e2 = Vector(0, 0, 1)"
   ]
  },
  {
   "cell_type": "code",
   "execution_count": 443,
   "metadata": {
    "collapsed": true
   },
   "outputs": [],
   "source": [
    "a = Vector(1,1,1)"
   ]
  },
  {
   "cell_type": "code",
   "execution_count": 444,
   "metadata": {
    "collapsed": false
   },
   "outputs": [
    {
     "data": {
      "text/plain": [
       "1.7320508075688772"
      ]
     },
     "execution_count": 444,
     "metadata": {},
     "output_type": "execute_result"
    }
   ],
   "source": [
    "a.vmag()"
   ]
  },
  {
   "cell_type": "code",
   "execution_count": 451,
   "metadata": {
    "collapsed": false
   },
   "outputs": [
    {
     "data": {
      "text/plain": [
       "<Vector: (1.0000, 0.0000, 0.0000)>"
      ]
     },
     "execution_count": 451,
     "metadata": {},
     "output_type": "execute_result"
    }
   ],
   "source": [
    "x = Vector.ex\n",
    "x"
   ]
  },
  {
   "cell_type": "code",
   "execution_count": 456,
   "metadata": {
    "collapsed": false
   },
   "outputs": [
    {
     "data": {
      "text/plain": [
       "<Vector: (1.7321, 1.0000, 0.0000)>"
      ]
     },
     "execution_count": 456,
     "metadata": {},
     "output_type": "execute_result"
    }
   ],
   "source": [
    "3*a.vdir().proj(x) + Vector.ey"
   ]
  },
  {
   "cell_type": "code",
   "execution_count": null,
   "metadata": {
    "collapsed": true
   },
   "outputs": [],
   "source": []
  },
  {
   "cell_type": "code",
   "execution_count": null,
   "metadata": {
    "collapsed": true
   },
   "outputs": [],
   "source": []
  },
  {
   "cell_type": "code",
   "execution_count": null,
   "metadata": {
    "collapsed": true
   },
   "outputs": [],
   "source": []
  },
  {
   "cell_type": "code",
   "execution_count": null,
   "metadata": {
    "collapsed": true
   },
   "outputs": [],
   "source": []
  },
  {
   "cell_type": "code",
   "execution_count": null,
   "metadata": {
    "collapsed": true
   },
   "outputs": [],
   "source": []
  },
  {
   "cell_type": "code",
   "execution_count": null,
   "metadata": {
    "collapsed": true
   },
   "outputs": [],
   "source": []
  },
  {
   "cell_type": "code",
   "execution_count": null,
   "metadata": {
    "collapsed": true
   },
   "outputs": [],
   "source": []
  },
  {
   "cell_type": "code",
   "execution_count": null,
   "metadata": {
    "collapsed": true
   },
   "outputs": [],
   "source": []
  },
  {
   "cell_type": "code",
   "execution_count": null,
   "metadata": {
    "collapsed": true
   },
   "outputs": [],
   "source": []
  },
  {
   "cell_type": "code",
   "execution_count": null,
   "metadata": {
    "collapsed": true
   },
   "outputs": [],
   "source": []
  },
  {
   "cell_type": "code",
   "execution_count": null,
   "metadata": {
    "collapsed": true
   },
   "outputs": [],
   "source": []
  },
  {
   "cell_type": "code",
   "execution_count": null,
   "metadata": {
    "collapsed": true
   },
   "outputs": [],
   "source": []
  },
  {
   "cell_type": "code",
   "execution_count": null,
   "metadata": {
    "collapsed": true
   },
   "outputs": [],
   "source": []
  },
  {
   "cell_type": "code",
   "execution_count": null,
   "metadata": {
    "collapsed": true
   },
   "outputs": [],
   "source": []
  },
  {
   "cell_type": "code",
   "execution_count": null,
   "metadata": {
    "collapsed": true
   },
   "outputs": [],
   "source": []
  },
  {
   "cell_type": "code",
   "execution_count": 441,
   "metadata": {
    "collapsed": false
   },
   "outputs": [
    {
     "ename": "IndexError",
     "evalue": "tuple index out of range",
     "output_type": "error",
     "traceback": [
      "\u001b[1;31m---------------------------------------------------------------------------\u001b[0m",
      "\u001b[1;31mIndexError\u001b[0m                                Traceback (most recent call last)",
      "\u001b[1;32m<ipython-input-441-696924e47ca9>\u001b[0m in \u001b[0;36m<module>\u001b[1;34m()\u001b[0m\n\u001b[1;32m----> 1\u001b[1;33m \u001b[0mget_ipython\u001b[0m\u001b[1;33m(\u001b[0m\u001b[1;33m)\u001b[0m\u001b[1;33m.\u001b[0m\u001b[0mrun_cell_magic\u001b[0m\u001b[1;33m(\u001b[0m\u001b[1;34m'time'\u001b[0m\u001b[1;33m,\u001b[0m \u001b[1;34m''\u001b[0m\u001b[1;33m,\u001b[0m \u001b[1;34m\"\\nr = Vector()\\nv = Vector(0.03,0,0)\\nt = 0\\n\\ndt = 0.1\\nwhile True:\\n    r = r + v * dt\\n    t = t + dt\\n    if r.x > 1500:\\n        break\\n        \\nprint('Drift time = {:,.0f} years'.format(t))        \"\u001b[0m\u001b[1;33m)\u001b[0m\u001b[1;33m\u001b[0m\u001b[0m\n\u001b[0m",
      "\u001b[1;32m/home/dave/anaconda3/lib/python3.5/site-packages/IPython/core/interactiveshell.py\u001b[0m in \u001b[0;36mrun_cell_magic\u001b[1;34m(self, magic_name, line, cell)\u001b[0m\n\u001b[0;32m   2118\u001b[0m             \u001b[0mmagic_arg_s\u001b[0m \u001b[1;33m=\u001b[0m \u001b[0mself\u001b[0m\u001b[1;33m.\u001b[0m\u001b[0mvar_expand\u001b[0m\u001b[1;33m(\u001b[0m\u001b[0mline\u001b[0m\u001b[1;33m,\u001b[0m \u001b[0mstack_depth\u001b[0m\u001b[1;33m)\u001b[0m\u001b[1;33m\u001b[0m\u001b[0m\n\u001b[0;32m   2119\u001b[0m             \u001b[1;32mwith\u001b[0m \u001b[0mself\u001b[0m\u001b[1;33m.\u001b[0m\u001b[0mbuiltin_trap\u001b[0m\u001b[1;33m:\u001b[0m\u001b[1;33m\u001b[0m\u001b[0m\n\u001b[1;32m-> 2120\u001b[1;33m                 \u001b[0mresult\u001b[0m \u001b[1;33m=\u001b[0m \u001b[0mfn\u001b[0m\u001b[1;33m(\u001b[0m\u001b[0mmagic_arg_s\u001b[0m\u001b[1;33m,\u001b[0m \u001b[0mcell\u001b[0m\u001b[1;33m)\u001b[0m\u001b[1;33m\u001b[0m\u001b[0m\n\u001b[0m\u001b[0;32m   2121\u001b[0m             \u001b[1;32mreturn\u001b[0m \u001b[0mresult\u001b[0m\u001b[1;33m\u001b[0m\u001b[0m\n\u001b[0;32m   2122\u001b[0m \u001b[1;33m\u001b[0m\u001b[0m\n",
      "\u001b[1;32m<decorator-gen-60>\u001b[0m in \u001b[0;36mtime\u001b[1;34m(self, line, cell, local_ns)\u001b[0m\n",
      "\u001b[1;32m/home/dave/anaconda3/lib/python3.5/site-packages/IPython/core/magic.py\u001b[0m in \u001b[0;36m<lambda>\u001b[1;34m(f, *a, **k)\u001b[0m\n\u001b[0;32m    191\u001b[0m     \u001b[1;31m# but it's overkill for just that one bit of state.\u001b[0m\u001b[1;33m\u001b[0m\u001b[1;33m\u001b[0m\u001b[0m\n\u001b[0;32m    192\u001b[0m     \u001b[1;32mdef\u001b[0m \u001b[0mmagic_deco\u001b[0m\u001b[1;33m(\u001b[0m\u001b[0marg\u001b[0m\u001b[1;33m)\u001b[0m\u001b[1;33m:\u001b[0m\u001b[1;33m\u001b[0m\u001b[0m\n\u001b[1;32m--> 193\u001b[1;33m         \u001b[0mcall\u001b[0m \u001b[1;33m=\u001b[0m \u001b[1;32mlambda\u001b[0m \u001b[0mf\u001b[0m\u001b[1;33m,\u001b[0m \u001b[1;33m*\u001b[0m\u001b[0ma\u001b[0m\u001b[1;33m,\u001b[0m \u001b[1;33m**\u001b[0m\u001b[0mk\u001b[0m\u001b[1;33m:\u001b[0m \u001b[0mf\u001b[0m\u001b[1;33m(\u001b[0m\u001b[1;33m*\u001b[0m\u001b[0ma\u001b[0m\u001b[1;33m,\u001b[0m \u001b[1;33m**\u001b[0m\u001b[0mk\u001b[0m\u001b[1;33m)\u001b[0m\u001b[1;33m\u001b[0m\u001b[0m\n\u001b[0m\u001b[0;32m    194\u001b[0m \u001b[1;33m\u001b[0m\u001b[0m\n\u001b[0;32m    195\u001b[0m         \u001b[1;32mif\u001b[0m \u001b[0mcallable\u001b[0m\u001b[1;33m(\u001b[0m\u001b[0marg\u001b[0m\u001b[1;33m)\u001b[0m\u001b[1;33m:\u001b[0m\u001b[1;33m\u001b[0m\u001b[0m\n",
      "\u001b[1;32m/home/dave/anaconda3/lib/python3.5/site-packages/IPython/core/magics/execution.py\u001b[0m in \u001b[0;36mtime\u001b[1;34m(self, line, cell, local_ns)\u001b[0m\n\u001b[0;32m   1175\u001b[0m         \u001b[1;32melse\u001b[0m\u001b[1;33m:\u001b[0m\u001b[1;33m\u001b[0m\u001b[0m\n\u001b[0;32m   1176\u001b[0m             \u001b[0mst\u001b[0m \u001b[1;33m=\u001b[0m \u001b[0mclock2\u001b[0m\u001b[1;33m(\u001b[0m\u001b[1;33m)\u001b[0m\u001b[1;33m\u001b[0m\u001b[0m\n\u001b[1;32m-> 1177\u001b[1;33m             \u001b[0mexec\u001b[0m\u001b[1;33m(\u001b[0m\u001b[0mcode\u001b[0m\u001b[1;33m,\u001b[0m \u001b[0mglob\u001b[0m\u001b[1;33m,\u001b[0m \u001b[0mlocal_ns\u001b[0m\u001b[1;33m)\u001b[0m\u001b[1;33m\u001b[0m\u001b[0m\n\u001b[0m\u001b[0;32m   1178\u001b[0m             \u001b[0mend\u001b[0m \u001b[1;33m=\u001b[0m \u001b[0mclock2\u001b[0m\u001b[1;33m(\u001b[0m\u001b[1;33m)\u001b[0m\u001b[1;33m\u001b[0m\u001b[0m\n\u001b[0;32m   1179\u001b[0m             \u001b[0mout\u001b[0m \u001b[1;33m=\u001b[0m \u001b[1;32mNone\u001b[0m\u001b[1;33m\u001b[0m\u001b[0m\n",
      "\u001b[1;32m<timed exec>\u001b[0m in \u001b[0;36m<module>\u001b[1;34m()\u001b[0m\n",
      "\u001b[1;32m<ipython-input-440-afa82a38f3a7>\u001b[0m in \u001b[0;36m__mul__\u001b[1;34m(self, other)\u001b[0m\n\u001b[0;32m    303\u001b[0m             \u001b[1;32mreturn\u001b[0m \u001b[0mnp\u001b[0m\u001b[1;33m.\u001b[0m\u001b[0mdot\u001b[0m\u001b[1;33m(\u001b[0m\u001b[0mself\u001b[0m\u001b[1;33m.\u001b[0m\u001b[0m_data\u001b[0m\u001b[1;33m,\u001b[0m \u001b[0mother\u001b[0m\u001b[1;33m.\u001b[0m\u001b[0m_data\u001b[0m\u001b[1;33m)\u001b[0m\u001b[1;33m\u001b[0m\u001b[0m\n\u001b[0;32m    304\u001b[0m         \u001b[1;32melif\u001b[0m \u001b[0mutils\u001b[0m\u001b[1;33m.\u001b[0m\u001b[0mis_num_type\u001b[0m\u001b[1;33m(\u001b[0m\u001b[0mother\u001b[0m\u001b[1;33m)\u001b[0m\u001b[1;33m:\u001b[0m\u001b[1;33m\u001b[0m\u001b[0m\n\u001b[1;32m--> 305\u001b[1;33m             \u001b[1;32mreturn\u001b[0m \u001b[0mVector\u001b[0m\u001b[1;33m(\u001b[0m\u001b[0mnp\u001b[0m\u001b[1;33m.\u001b[0m\u001b[0mdot\u001b[0m\u001b[1;33m(\u001b[0m\u001b[0mself\u001b[0m\u001b[1;33m.\u001b[0m\u001b[0m_data\u001b[0m\u001b[1;33m,\u001b[0m \u001b[0mother\u001b[0m\u001b[1;33m)\u001b[0m\u001b[1;33m)\u001b[0m\u001b[1;33m\u001b[0m\u001b[0m\n\u001b[0m\u001b[0;32m    306\u001b[0m         \u001b[1;32melse\u001b[0m\u001b[1;33m:\u001b[0m\u001b[1;33m\u001b[0m\u001b[0m\n\u001b[0;32m    307\u001b[0m             \u001b[1;32mreturn\u001b[0m \u001b[0mNotImplemented\u001b[0m\u001b[1;33m\u001b[0m\u001b[0m\n",
      "\u001b[1;32m<ipython-input-440-afa82a38f3a7>\u001b[0m in \u001b[0;36m__init__\u001b[1;34m(self, *args, **kwargs)\u001b[0m\n\u001b[0;32m     33\u001b[0m             \u001b[0marg\u001b[0m \u001b[1;33m=\u001b[0m \u001b[0margs\u001b[0m\u001b[1;33m[\u001b[0m\u001b[1;36m0\u001b[0m\u001b[1;33m]\u001b[0m\u001b[1;33m\u001b[0m\u001b[0m\n\u001b[0;32m     34\u001b[0m             \u001b[1;32mif\u001b[0m \u001b[0mutils\u001b[0m\u001b[1;33m.\u001b[0m\u001b[0mis_three_sequence\u001b[0m\u001b[1;33m(\u001b[0m\u001b[0marg\u001b[0m\u001b[1;33m)\u001b[0m\u001b[1;33m:\u001b[0m\u001b[1;33m\u001b[0m\u001b[0m\n\u001b[1;32m---> 35\u001b[1;33m                 \u001b[0mself\u001b[0m\u001b[1;33m.\u001b[0m\u001b[0m_data\u001b[0m \u001b[1;33m=\u001b[0m \u001b[1;33m(\u001b[0m\u001b[0margs\u001b[0m\u001b[1;33m[\u001b[0m\u001b[1;36m0\u001b[0m\u001b[1;33m]\u001b[0m\u001b[1;33m,\u001b[0m \u001b[0margs\u001b[0m\u001b[1;33m[\u001b[0m\u001b[1;36m1\u001b[0m\u001b[1;33m]\u001b[0m\u001b[1;33m,\u001b[0m \u001b[0margs\u001b[0m\u001b[1;33m[\u001b[0m\u001b[1;36m2\u001b[0m\u001b[1;33m]\u001b[0m\u001b[1;33m)\u001b[0m\u001b[1;33m\u001b[0m\u001b[0m\n\u001b[0m\u001b[0;32m     36\u001b[0m             \u001b[1;32melif\u001b[0m \u001b[0mutils\u001b[0m\u001b[1;33m.\u001b[0m\u001b[0mis_sequence\u001b[0m\u001b[1;33m(\u001b[0m\u001b[0marg\u001b[0m\u001b[1;33m)\u001b[0m \u001b[1;32mand\u001b[0m \u001b[0mlen\u001b[0m\u001b[1;33m(\u001b[0m\u001b[0marg\u001b[0m\u001b[1;33m)\u001b[0m \u001b[1;33m==\u001b[0m \u001b[1;36m2\u001b[0m\u001b[1;33m:\u001b[0m\u001b[1;33m\u001b[0m\u001b[0m\n\u001b[0;32m     37\u001b[0m                 \u001b[0mself\u001b[0m\u001b[1;33m.\u001b[0m\u001b[0m_data\u001b[0m \u001b[1;33m=\u001b[0m \u001b[1;33m(\u001b[0m\u001b[0marg\u001b[0m\u001b[1;33m[\u001b[0m\u001b[1;36m0\u001b[0m\u001b[1;33m]\u001b[0m\u001b[1;33m,\u001b[0m \u001b[0marg\u001b[0m\u001b[1;33m[\u001b[0m\u001b[1;36m1\u001b[0m\u001b[1;33m]\u001b[0m\u001b[1;33m,\u001b[0m \u001b[1;36m0\u001b[0m\u001b[1;33m)\u001b[0m\u001b[1;33m\u001b[0m\u001b[0m\n",
      "\u001b[1;31mIndexError\u001b[0m: tuple index out of range"
     ]
    }
   ],
   "source": [
    "%%time\n",
    "\n",
    "r = Vector()\n",
    "v = Vector(0.03,0,0)\n",
    "t = 0\n",
    "\n",
    "dt = 0.1\n",
    "while True:\n",
    "    r = r + v * dt\n",
    "    t = t + dt\n",
    "    if r.x > 1500:\n",
    "        break\n",
    "        \n",
    "print('Drift time = {:,.0f} years'.format(t))        "
   ]
  },
  {
   "cell_type": "code",
   "execution_count": null,
   "metadata": {
    "collapsed": true
   },
   "outputs": [],
   "source": []
  },
  {
   "cell_type": "code",
   "execution_count": 440,
   "metadata": {
    "collapsed": false
   },
   "outputs": [],
   "source": [
    "from math3d import utils\n",
    "\n",
    "class Vector(object):\n",
    "    \"\"\"A Vector is a 3D vector (member of R3) with standard Euclidian\n",
    "    operations.\"\"\"\n",
    "\n",
    "    @classmethod\n",
    "    def canCreateOn(cls, *arg):\n",
    "        if type(arg) == cls:\n",
    "            return True\n",
    "        elif utils.is_sequence(arg):\n",
    "            if len(arg) <= 3 and utils.is_num_types(arg):\n",
    "                return True\n",
    "            elif len(arg) == 1:\n",
    "                return cls.canCreateOn(*arg[0])\n",
    "            else:\n",
    "                return False\n",
    "        else:\n",
    "            return False\n",
    "\n",
    "    def __init__(self, *args, **kwargs):\n",
    "        \"\"\"Constructor for Vector. If optional keyword argument\n",
    "        'position' evaluates to True, or is not given, the vector is\n",
    "        represented as a position vector. Otherwise it is represented\n",
    "        as a free vector.\"\"\"\n",
    "        if len(args) == 0:\n",
    "            self._data = (0, 0, 0)\n",
    "        elif len(args) == 3 and utils.is_num_types(args):\n",
    "            self._data = (args[0], args[1], args[2])\n",
    "        elif len(args) == 2 and utils.is_num_types(args):\n",
    "            self._data = (args[0], args[1], 0)\n",
    "        elif len(args) == 1:\n",
    "            arg = args[0] \n",
    "            if utils.is_three_sequence(arg):\n",
    "                self._data = (args[0], args[1], args[2])\n",
    "            elif utils.is_sequence(arg) and len(arg) == 2:\n",
    "                self._data = (arg[0], arg[1], 0)\n",
    "            elif type(arg) == Vector:\n",
    "#                 self._data = arg.array\n",
    "                self._data = arg._data\n",
    "            else:\n",
    "                raise utils.Error(\n",
    "                    ('__init__ : could not create vector on argument ' +\n",
    "                     ': \"{}\" of type \"{}\"')\n",
    "                    .format(str(args[0]), str(type(args[0]))))\n",
    "        else:\n",
    "            raise utils.Error('__init__ : could not create vector on ' +\n",
    "                              'argument : \"{}\" of type \"{}\"'\n",
    "                              .format(str(args[0]), str(type(args[0]))))\n",
    "        self._is_position = kwargs.get('position', 1)\n",
    "\n",
    "    def __copy__(self):\n",
    "        \"\"\"Copy method for creating a copy of this Vector.\"\"\"\n",
    "        return Vector(self)\n",
    "\n",
    "    def __deepcopy__(self, memo):\n",
    "        return self.__copy__()\n",
    "\n",
    "    def copy(self, other=None):\n",
    "        \"\"\"Copy data from 'other' to self. If no argument given,\n",
    "        i.e. 'other==None', return a copy of this Vector.\"\"\"\n",
    "        if other is None:\n",
    "            return Vector(self)\n",
    "        else:\n",
    "            self._data[:] = other._data\n",
    "\n",
    "    def __getattr__(self, name):\n",
    "        if name == 'x':\n",
    "            return self._data[0]\n",
    "        elif name == 'y':\n",
    "            return self._data[1]\n",
    "        elif name == 'z':\n",
    "            return self._data[2]\n",
    "        else:\n",
    "            raise AttributeError('Attribute \"{}\" not found in Vector'\n",
    "                                 .format(name))\n",
    "\n",
    "    def __setattr__(self, name, val):\n",
    "        if name == 'x':\n",
    "            self._data[0] = val\n",
    "        elif name == 'y':\n",
    "            self._data[1] = val\n",
    "        elif name == 'z':\n",
    "            self._data[2] = val\n",
    "        # elif name == '_data':\n",
    "        #     # Important for initialization? Or would\n",
    "        #     # object.__setattr__ take care of it?\n",
    "        #     self.__dict__[name] = val\n",
    "        elif name == 'pos':\n",
    "            if type(val) == Vector:\n",
    "                self._data[:] = val.array\n",
    "            elif utils.is_three_sequence(val):\n",
    "                self._data[:] = np.array(val)\n",
    "        else:\n",
    "            object.__setattr__(self, name, val)\n",
    "\n",
    "    # These pose some semantic problems with numpy array multiplication.\n",
    "    # def __len__(self):\n",
    "    #     return 3\n",
    "\n",
    "    # def __iter__(self):\n",
    "    #     return iter(self._data)\n",
    "\n",
    "    def __getitem__(self, n):\n",
    "        return self._data[n]\n",
    "\n",
    "    def __setitem__(self, n, val):\n",
    "        self._data[n] = val\n",
    "\n",
    "    def __eq__(self, other):\n",
    "        if type(other) == Vector:\n",
    "            diff = 0\n",
    "            for i in range(3):\n",
    "                diff = (self._data[i] - other._data[i])**2\n",
    "            return diff < utils._eps\n",
    "        else:\n",
    "            return NotImplemented\n",
    "\n",
    "    def __repr__(self):\n",
    "        return ('<Vector: ({:.5f}, {:.5f}, {:.5f})>'\n",
    "                .format(*self._data))\n",
    "\n",
    "    def __str__(self):\n",
    "        return self.__repr__()\n",
    "\n",
    "    def get_is_position(self):\n",
    "        \"\"\"If the vector is a position vector, the default, then it\n",
    "        transforms differently than a real vector.\n",
    "        \"\"\"\n",
    "        return self._is_position\n",
    "\n",
    "    is_position = property(get_is_position)\n",
    "\n",
    "    def projection(self, v, normalize=True):\n",
    "        \"\"\"Get the projection vector of this vector onto a direction given by\n",
    "        another vector, 'v'. If 'normalize' is True, the default, 'v'\n",
    "        is first normalized. For performance reasons, normalization of\n",
    "        'v' can be avoided if the caller assures that it is of unit\n",
    "        length, and this can be flagged by setting normalize to False.\n",
    "        \"\"\"\n",
    "        if normalize:\n",
    "            v_hat = v.normalized\n",
    "        else:\n",
    "            v_hat = v\n",
    "        return (self * v_hat) * v_hat\n",
    "\n",
    "    def angle(self, other):\n",
    "        \"\"\"Return the angle (radians) to the 'other' vector. This is the\n",
    "        absolute, positive angle.\n",
    "        \"\"\"\n",
    "        costheta = (self * other) / (self.length * other.length)\n",
    "        if costheta > 1:\n",
    "            costheta = 1\n",
    "        elif costheta < -1:\n",
    "            costheta = -1\n",
    "        return np.arccos(costheta)\n",
    "\n",
    "    def signed_angle(self, other, ref_vec=None):\n",
    "        \"\"\"With default reference rotation vector as Z-axis (if\n",
    "        'ref_vec' == None), compute the signed angle of rotation from\n",
    "        self to 'other'.\n",
    "        \"\"\"\n",
    "        theta = self.angle(other)\n",
    "        xprod = self.cross(other)\n",
    "        if ref_vec is not None:\n",
    "            if xprod * ref_vec < 0:\n",
    "                theta = -theta\n",
    "        else:\n",
    "            if xprod.z < 0:\n",
    "                theta = -theta\n",
    "        return theta\n",
    "\n",
    "    def get_length(self):\n",
    "        \"\"\"Return the Euclidean length.\"\"\"\n",
    "        return np.sqrt(self.length_squared)\n",
    "\n",
    "    length = property(get_length)\n",
    "\n",
    "    def get_length_squared(self):\n",
    "        \"\"\"Return the square of the standard Euclidean length.\"\"\"\n",
    "        return np.dot(self._data, self._data)\n",
    "\n",
    "    length_squared = property(get_length_squared)\n",
    "\n",
    "    def normalize(self):\n",
    "        \"\"\"In-place normalization of this Vector.\"\"\"\n",
    "        l = self.length\n",
    "        if l != 1.0:\n",
    "            self._data = self._data / l\n",
    "\n",
    "    def get_normalized(self):\n",
    "        \"\"\"Return a normalized Vector with same direction as this\n",
    "        one.\n",
    "        \"\"\"\n",
    "        nv = Vector(self)\n",
    "        nv.normalize()\n",
    "        return nv\n",
    "\n",
    "    normalized = property(get_normalized)\n",
    "\n",
    "    def dist(self, other):\n",
    "        \"\"\"Compute euclidean distance between points given by self\n",
    "        and 'other'.\"\"\"\n",
    "        return np.sqrt(self.dist_squared(other))\n",
    "\n",
    "    def dist_squared(self, other):\n",
    "        \"\"\"Compute euclidean distance between points given by self\n",
    "        and 'other'.\"\"\"\n",
    "        return (self - other).length_squared\n",
    "\n",
    "    def get_cross_operator(self):\n",
    "        \"\"\"Return the cross product operator for this Vector. I.e. the\n",
    "        skew-symmetric operator cross_op, such that cross_op * u == v\n",
    "        x u, for any vector u.\"\"\"\n",
    "        cross_op = np.zeros((3, 3))\n",
    "        cross_op[0, 1] = -self._data[2]\n",
    "        cross_op[0, 2] = self._data[1]\n",
    "        cross_op[1, 0] = self._data[2]\n",
    "        cross_op[1, 2] = -self._data[0]\n",
    "        cross_op[2, 0] = -self._data[1]\n",
    "        cross_op[2, 1] = self._data[0]\n",
    "        return cross_op\n",
    "\n",
    "    cross_operator = property(get_cross_operator)\n",
    "\n",
    "    def get_alt_cross_operator(self):\n",
    "        \"\"\"Return the cross product operator for this Vector. I.e. the\n",
    "        skew-symmetric operator cross_op, such that cross_op * u == v\n",
    "        x u, for any vector u.\"\"\"\n",
    "        cross_op = np.zeros((3, 3))\n",
    "        # cross_op[0, 1] = -self._data[2]\n",
    "        cross_op[0, 2] = self._data[1]\n",
    "        cross_op[1, 0] = self._data[2]\n",
    "        # cross_op[1, 2] = -self._data[0]\n",
    "        # cross_op[2, 0] = -self._data[1]\n",
    "        cross_op[2, 1] = self._data[0]\n",
    "        return cross_op - cross_op.T\n",
    "\n",
    "    alt_cross_operator = property(get_alt_cross_operator)\n",
    "\n",
    "    def cross(self, other):\n",
    "        \"\"\"Return the cross product with 'other'.\"\"\"\n",
    "        return Vector(np.cross(self._data, other._data))\n",
    "\n",
    "    def get_array(self):\n",
    "        \"\"\"Return a copy of the ndarray which is the fundamental data\n",
    "        of the Vector.\"\"\"\n",
    "        return self._data.copy()\n",
    "\n",
    "    array = property(get_array)\n",
    "\n",
    "    def get_array_ref(self):\n",
    "        \"\"\"Return a reference to the (3,) ndarray, which is the\n",
    "        fundamental data of the Orientation. Caution: Use this method\n",
    "        only for optimization, since it eliminates copying, and be\n",
    "        sure not to compromize the data.\n",
    "        \"\"\"\n",
    "        return self._data\n",
    "\n",
    "    array_ref = property(get_array_ref)\n",
    "\n",
    "    def get_list(self):\n",
    "        \"\"\"Return the fundamental data of the Vector as a list.\"\"\"\n",
    "        return self._data.tolist()\n",
    "    list = property(get_list)\n",
    "\n",
    "    def get_matrix(self):\n",
    "        \"\"\"Property for getting a single-column np-matrix with the data\n",
    "        from the vector.\"\"\"\n",
    "        return np.matrix(self._data).T\n",
    "\n",
    "    matrix = property(get_matrix)\n",
    "\n",
    "    def get_column(self):\n",
    "        \"\"\"Property for getting a single-column array with the data\n",
    "        from the vector.\"\"\"\n",
    "        return self._data.reshape((3, 1))\n",
    "\n",
    "    column = property(get_column)\n",
    "\n",
    "    def __sub__(self, other):\n",
    "        \"\"\"Subtract another vector from this. The semantics regarding\n",
    "        free and position vectors should be: If this is free, and\n",
    "        other is a position, or opposite, the new should be\n",
    "        position. If both are free or both are positions, the new\n",
    "        should be free.\"\"\"\n",
    "        if type(other) == Vector:\n",
    "            return Vector(np.subtract(self._data, other._data))\n",
    "        else:\n",
    "            return NotImplemented\n",
    "\n",
    "    def __isub__(self, other):\n",
    "        if type(other) == Vector:\n",
    "            self._data -= other._data\n",
    "        else:\n",
    "            return NotImplemented\n",
    "        return self\n",
    "\n",
    "    def __mul__(self, other):\n",
    "        \"\"\"Multiplication with an 'other' Vector (inner product) or\n",
    "        with a scalar.\"\"\"\n",
    "        if type(other) == Vector:\n",
    "            return np.dot(self._data, other._data)\n",
    "        elif utils.is_num_type(other):\n",
    "            return Vector(np.dot(self._data, other))\n",
    "        else:\n",
    "            return NotImplemented\n",
    "\n",
    "    def __imul__(self, other):\n",
    "        \"\"\"In-place multiplication with a scalar, 'other'. \"\"\"\n",
    "        if utils.is_num_type(other):\n",
    "            self._data *= other\n",
    "        else:\n",
    "            return NotImplemented\n",
    "            # raise utils.Error('__imul__ : Could not multiply by non-number')\n",
    "        return self\n",
    "\n",
    "    def __rmul__(self, other):\n",
    "        \"\"\"Right multiplication with a scalar, 'other'. \"\"\"\n",
    "        if utils.is_num_type(other):\n",
    "            return Vector(other * self._data)\n",
    "        else:\n",
    "            raise utils.Error('__rmul__ : Could not multiply by non-number')\n",
    "\n",
    "#     def __truediv__(self, other):\n",
    "#         \"\"\"Division with a scalar, 'other'. \"\"\"\n",
    "#         if utils.is_num_type(other):\n",
    "#             return Vector(1.0 / other * self._data)\n",
    "#         else:\n",
    "#             raise utils.Error('__rdiv__ : Could not divide by non-number')\n",
    "#     __div__ = __truediv__\n",
    "\n",
    "    def __add__(self, other):\n",
    "        \"\"\"Return the sum of this and the 'other' vector.\"\"\"\n",
    "        if type(other) == Vector:\n",
    "            a = self._data\n",
    "            b = other._data\n",
    "            return Vector(a[0]+b[0], a[1]+b[1], a[2]+b[2])\n",
    "        else:\n",
    "            return NotImplemented\n",
    "\n",
    "#     def __iadd__(self, other):\n",
    "#         \"\"\"In-place add the 'other' vector to this vector.\"\"\"\n",
    "#         if type(other) == Vector:\n",
    "#             self._data += other._data\n",
    "#         else:\n",
    "#             return NotImplemented\n",
    "#         return self\n",
    "\n",
    "    def __neg__(self):\n",
    "        return Vector(-self._data)\n",
    "\n",
    "# Unit Vectors\n",
    "Vector.ex = Vector.e0 = Vector(1, 0, 0)\n",
    "Vector.ey = Vector.e1 = Vector(0, 1, 0)\n",
    "Vector.ez = Vector.e2 = Vector(0, 0, 1)"
   ]
  },
  {
   "cell_type": "code",
   "execution_count": 27,
   "metadata": {
    "collapsed": true
   },
   "outputs": [],
   "source": [
    "a = Vector(1,2)\n",
    "b = Vector(3,4)\n",
    "c = Vector(4,6)"
   ]
  },
  {
   "cell_type": "code",
   "execution_count": 28,
   "metadata": {
    "collapsed": false
   },
   "outputs": [
    {
     "data": {
      "text/plain": [
       "True"
      ]
     },
     "execution_count": 28,
     "metadata": {},
     "output_type": "execute_result"
    }
   ],
   "source": [
    "c == a + b"
   ]
  },
  {
   "cell_type": "code",
   "execution_count": 18,
   "metadata": {
    "collapsed": false
   },
   "outputs": [
    {
     "data": {
      "text/plain": [
       "True"
      ]
     },
     "execution_count": 18,
     "metadata": {},
     "output_type": "execute_result"
    }
   ],
   "source": [
    "a == r"
   ]
  },
  {
   "cell_type": "code",
   "execution_count": 2,
   "metadata": {
    "collapsed": false
   },
   "outputs": [
    {
     "name": "stdout",
     "output_type": "stream",
     "text": [
      "Drift time = 50,000 years\n",
      "CPU times: user 274 ms, sys: 0 ns, total: 274 ms\n",
      "Wall time: 317 ms\n"
     ]
    }
   ],
   "source": [
    "%%time\n",
    "\n",
    "r = 0\n",
    "v = 0.03\n",
    "t = 0\n",
    "\n",
    "dt = 0.1\n",
    "while True:\n",
    "    r = r + v * dt\n",
    "    t = t + dt\n",
    "    if r > 1500:\n",
    "        break\n",
    "        \n",
    "print('Drift time = {:,.0f} years'.format(t))        "
   ]
  },
  {
   "cell_type": "code",
   "execution_count": null,
   "metadata": {
    "collapsed": true
   },
   "outputs": [],
   "source": []
  }
 ],
 "metadata": {
  "kernelspec": {
   "display_name": "Python [Root]",
   "language": "python",
   "name": "Python [Root]"
  },
  "language_info": {
   "codemirror_mode": {
    "name": "ipython",
    "version": 3
   },
   "file_extension": ".py",
   "mimetype": "text/x-python",
   "name": "python",
   "nbconvert_exporter": "python",
   "pygments_lexer": "ipython3",
   "version": "3.5.2"
  }
 },
 "nbformat": 4,
 "nbformat_minor": 0
}
