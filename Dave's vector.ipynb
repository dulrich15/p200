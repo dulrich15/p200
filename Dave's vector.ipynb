{
 "cells": [
  {
   "cell_type": "code",
   "execution_count": 442,
   "metadata": {
    "collapsed": false
   },
   "outputs": [],
   "source": [
    "import math\n",
    "\n",
    "class Vector():\n",
    "\n",
    "    def __init__(self, x=0, y=0, z=0):\n",
    "        self._data = (x, y, z)\n",
    "    \n",
    "    def copy(self):\n",
    "        return Vector(self)\n",
    "\n",
    "    def __getitem__(self, n):\n",
    "        return self._data[n]\n",
    "\n",
    "    def __getattr__(self, name):\n",
    "        if name == 'x':\n",
    "            return self._data[0]\n",
    "        elif name == 'y':\n",
    "            return self._data[1]\n",
    "        elif name == 'z':\n",
    "            return self._data[2]\n",
    "\n",
    "    def __setitem__(self, n, val):\n",
    "        self._data[n] = val\n",
    "        \n",
    "    def __setattr__(self, name, val):\n",
    "        if name == 'x':\n",
    "            self._data[0] = val\n",
    "        elif name == 'y':\n",
    "            self._data[1] = val\n",
    "        elif name == 'z':\n",
    "            self._data[2] = val\n",
    "        else:\n",
    "            object.__setattr__(self, name, val)\n",
    "\n",
    "    def __repr__(self):\n",
    "        return '<Vector: ({:.4f}, {:.4f}, {:.4f})>'.format(*self._data)\n",
    "\n",
    "    def __str__(self):\n",
    "        return self.__repr__()\n",
    "\n",
    "    def __eq__(self, other):\n",
    "        diff = 0\n",
    "        for i in range(3):\n",
    "            diff = ( self._data[i] - other._data[i] ) ** 2\n",
    "        return diff < 1e-06\n",
    "\n",
    "    def __add__(self, other):\n",
    "        a = self._data\n",
    "        b = other._data\n",
    "        return Vector(a[0] + b[0], a[1] + b[1], a[2] + b[2])\n",
    "    \n",
    "    def __rmul__(self, other):\n",
    "        if type(other) in (int, float):\n",
    "            a = self._data\n",
    "            return Vector(other * a[0], other * a[1], other * a[2])\n",
    "        elif type(other) == Vector:\n",
    "            a = self._data\n",
    "            b = other._data\n",
    "            return a[0] * b[0] + a[1] * b[1] + a[2] * b[2]\n",
    "        \n",
    "    __mul__ = __rmul__ # to support b*2 == 2*b\n",
    "\n",
    "    def __neg__(self):\n",
    "        return -1 * self\n",
    "\n",
    "    def __sub__(self, other):\n",
    "        return self + -1 * other\n",
    "    \n",
    "    def __truediv__(self, other):\n",
    "        return (1.0 / other) * self  \n",
    "    \n",
    "    __div__ = __truediv__\n",
    "\n",
    "    def __abs__(self):\n",
    "        return math.sqrt(self * self)\n",
    "    \n",
    "    def vmag(self):\n",
    "        return abs(self)\n",
    "    \n",
    "    def vdir(self):\n",
    "        return self / abs(self)\n",
    "    \n",
    "    def vect(mag, ang, deg=True):\n",
    "        if deg: # then convert to radians\n",
    "            ang = math.radians(ang)\n",
    "        return mag * Vector(math.cos(ang), 0, math.sin(ang))\n",
    "\n",
    "    def vang(self, other=None, deg=True):\n",
    "        if other is None:\n",
    "            other = self - self.proj(Vector(0,0,1))\n",
    "        cos_theta = self.vdir() * other.vdir()\n",
    "        vang = math.acos(cos_theta)\n",
    "        if deg:\n",
    "            vang = math.degrees(vang)\n",
    "        return vang\n",
    "        \n",
    "    def proj(self, other, normalize=True):\n",
    "        if normalize:\n",
    "            v_hat = other.vdir()\n",
    "        else:\n",
    "            v_hat = other\n",
    "        return (self * v_hat) * v_hat\n",
    "\n",
    "Vector.ex = Vector.e0 = Vector(1, 0, 0)\n",
    "Vector.ey = Vector.e1 = Vector(0, 1, 0)\n",
    "Vector.ez = Vector.e2 = Vector(0, 0, 1)"
   ]
  },
  {
   "cell_type": "code",
   "execution_count": 443,
   "metadata": {
    "collapsed": true
   },
   "outputs": [],
   "source": [
    "a = Vector(1,1,1)"
   ]
  },
  {
   "cell_type": "code",
   "execution_count": 444,
   "metadata": {
    "collapsed": false
   },
   "outputs": [
    {
     "data": {
      "text/plain": [
       "1.7320508075688772"
      ]
     },
     "execution_count": 444,
     "metadata": {},
     "output_type": "execute_result"
    }
   ],
   "source": [
    "a.vmag()"
   ]
  },
  {
   "cell_type": "code",
   "execution_count": 451,
   "metadata": {
    "collapsed": false
   },
   "outputs": [
    {
     "data": {
      "text/plain": [
       "<Vector: (1.0000, 0.0000, 0.0000)>"
      ]
     },
     "execution_count": 451,
     "metadata": {},
     "output_type": "execute_result"
    }
   ],
   "source": [
    "x = Vector.ex\n",
    "x"
   ]
  },
  {
   "cell_type": "code",
   "execution_count": 456,
   "metadata": {
    "collapsed": false
   },
   "outputs": [
    {
     "data": {
      "text/plain": [
       "<Vector: (1.7321, 1.0000, 0.0000)>"
      ]
     },
     "execution_count": 456,
     "metadata": {},
     "output_type": "execute_result"
    }
   ],
   "source": [
    "3*a.vdir().proj(x) + Vector.ey"
   ]
  },
  {
   "cell_type": "code",
   "execution_count": null,
   "metadata": {
    "collapsed": true
   },
   "outputs": [],
   "source": []
  },
  {
   "cell_type": "code",
   "execution_count": null,
   "metadata": {
    "collapsed": true
   },
   "outputs": [],
   "source": []
  },
  {
   "cell_type": "code",
   "execution_count": null,
   "metadata": {
    "collapsed": true
   },
   "outputs": [],
   "source": []
  },
  {
   "cell_type": "code",
   "execution_count": null,
   "metadata": {
    "collapsed": true
   },
   "outputs": [],
   "source": []
  },
  {
   "cell_type": "code",
   "execution_count": null,
   "metadata": {
    "collapsed": true
   },
   "outputs": [],
   "source": []
  },
  {
   "cell_type": "code",
   "execution_count": null,
   "metadata": {
    "collapsed": true
   },
   "outputs": [],
   "source": []
  },
  {
   "cell_type": "code",
   "execution_count": null,
   "metadata": {
    "collapsed": true
   },
   "outputs": [],
   "source": []
  },
  {
   "cell_type": "code",
   "execution_count": null,
   "metadata": {
    "collapsed": true
   },
   "outputs": [],
   "source": []
  },
  {
   "cell_type": "code",
   "execution_count": null,
   "metadata": {
    "collapsed": true
   },
   "outputs": [],
   "source": []
  },
  {
   "cell_type": "code",
   "execution_count": null,
   "metadata": {
    "collapsed": true
   },
   "outputs": [],
   "source": []
  },
  {
   "cell_type": "code",
   "execution_count": null,
   "metadata": {
    "collapsed": true
   },
   "outputs": [],
   "source": []
  }
 ],
 "metadata": {
  "kernelspec": {
   "display_name": "Python [Root]",
   "language": "python",
   "name": "Python [Root]"
  },
  "language_info": {
   "codemirror_mode": {
    "name": "ipython",
    "version": 3
   },
   "file_extension": ".py",
   "mimetype": "text/x-python",
   "name": "python",
   "nbconvert_exporter": "python",
   "pygments_lexer": "ipython3",
   "version": "3.5.2"
  }
 },
 "nbformat": 4,
 "nbformat_minor": 0
}
