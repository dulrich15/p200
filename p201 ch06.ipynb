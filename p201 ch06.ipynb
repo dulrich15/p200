{
 "cells": [
  {
   "cell_type": "code",
   "execution_count": 111,
   "metadata": {
    "collapsed": true
   },
   "outputs": [],
   "source": [
    "import matplotlib.pyplot as plt\n",
    "import numpy as np\n",
    "\n",
    "from mpl_toolkits.mplot3d.axes3d import Axes3D\n",
    "from pprint import pprint\n",
    "\n",
    "%matplotlib inline"
   ]
  },
  {
   "cell_type": "code",
   "execution_count": 112,
   "metadata": {
    "collapsed": true
   },
   "outputs": [],
   "source": [
    "class TimeValue:\n",
    "    def __init__(self, time, value):\n",
    "        self.time = time * 1.0\n",
    "        self.value = value * 1.0\n",
    "\n",
    "    def __repr__(self):\n",
    "        return '({}, {})'.format(self.time, self.value)"
   ]
  },
  {
   "cell_type": "code",
   "execution_count": 163,
   "metadata": {
    "collapsed": false
   },
   "outputs": [],
   "source": [
    "class TimeSeries:\n",
    "    def __init__(self, points=[]):\n",
    "        self.series = []\n",
    "        for (time, value) in points:\n",
    "            self.append(time, value)\n",
    "        \n",
    "    def append(self, time, value):\n",
    "        self.series.append(TimeValue(time, value))\n",
    "        self.series = sorted(self.series, key=lambda x: x.time)\n",
    "        \n",
    "    @property\n",
    "    def initial(self):\n",
    "        return self.series[0]\n",
    "    \n",
    "    @property\n",
    "    def timeline(self):\n",
    "        return [x.time for x in self.series]\n",
    "    \n",
    "    @property\n",
    "    def values(self):\n",
    "        return [x.value for x in self.series]\n",
    "    \n",
    "    @property\n",
    "    def components(self, i=None):\n",
    "        try:\n",
    "            return list(zip(*self.values))\n",
    "        except:\n",
    "            return [self.values]\n",
    "\n",
    "    def plot(self, toggle='0', loc='best', pad=False, grid=True, marker=None, labels=None, colors=None, lw=1):\n",
    "        if len(self.components) > 1:\n",
    "            plt.plot(self.timeline, self.values, marker=marker)\n",
    "            if loc:\n",
    "                plt.legend(['x','y','z'][:len(self.components)], loc=loc, numpoints=1)\n",
    "        else:\n",
    "            ts = dict()\n",
    "            ts['0'] = self\n",
    "            ts['1'] = self.rate_of_change()\n",
    "            ts['2'] = self.rate_of_change().rate_of_change()\n",
    "            \n",
    "            if colors is None:\n",
    "                colors = [None, None, None]\n",
    "            else:\n",
    "                colors = colors * len(toggle) # just in case...\n",
    "\n",
    "            if labels is None:\n",
    "                labels = ['position', 'velocity', 'acceleration']\n",
    "            else:\n",
    "                labels += [None] * (len(toggle) - len(labels)) # just in case...\n",
    "\n",
    "            if len(toggle) > 1:\n",
    "                plt.figure(figsize=(6 * len(toggle), 4))\n",
    "                \n",
    "            for i, tog in enumerate(toggle):\n",
    "                if len(toggle) > 1:\n",
    "                    plt.subplot(1, len(toggle), toggle.index(tog) + 1)\n",
    "                plt.plot(ts[tog].timeline, ts[tog].values, marker=marker, \n",
    "                         label=labels[i], color=colors[i], lw=lw)\n",
    "                plt.xlabel('Time')\n",
    "                if pad:\n",
    "                    plt.margins(0.05)\n",
    "                    dt = 0.03 * (self.timeline[-1] - self.timeline[0])\n",
    "                    plt.axes().set_xlim([self.timeline[0] - dt, self.timeline[-1] + dt])\n",
    "                if grid:\n",
    "                    plt.grid(True)\n",
    "                    plt.gca().axhline(0, c='k')\n",
    "                if loc and labels[i]:\n",
    "                    plt.legend(loc=loc, numpoints=1)\n",
    "                            \n",
    "    def plot2d(self, toggle='0', x_index=0, y_index=1, title='', colors='', labels=[],\n",
    "               grid=True, pad=0.10, loc=None, markevery=0, arrows=False, lim=False):\n",
    "        \n",
    "        x = dict()\n",
    "        y = dict()\n",
    "        \n",
    "        r = self\n",
    "        x['0'] = r.components[x_index]\n",
    "        y['0'] = r.components[y_index]\n",
    "\n",
    "        v = r.rate_of_change()\n",
    "        x['1'] = v.components[x_index]\n",
    "        y['1'] = v.components[y_index]\n",
    "\n",
    "        a = v.rate_of_change()\n",
    "        x['2'] = a.components[x_index]\n",
    "        y['2'] = a.components[y_index]\n",
    "\n",
    "        color = dict()\n",
    "        if colors:\n",
    "            for i, tog in enumerate(toggle):\n",
    "                color[tog] = colors[i]\n",
    "        else:\n",
    "            color['0'] = 'b'\n",
    "            color['1'] = 'g'\n",
    "            color['2'] = 'r'            \n",
    "\n",
    "        label = dict()\n",
    "        if labels:\n",
    "            for i, tog in enumerate(toggle):\n",
    "                label[tog] = labels[i]\n",
    "        else:\n",
    "            label['0'] = 'position'\n",
    "            label['1'] = 'velocity'\n",
    "            label['2'] = 'acceleration'\n",
    "                \n",
    "        for i, tog in enumerate(toggle):\n",
    "            plt.plot(x[tog], y[tog], c=color[tog], markevery=[-1], \n",
    "                     marker='o', mfc='w', mec=color[tog], mew=1)\n",
    "            if markevery:\n",
    "                plt.plot(x[tog][:-1], y[tog][:-1], lw=0, markevery=markevery, \n",
    "                         marker='.', mec=color[tog])\n",
    "            \n",
    "        plt.axes().set_aspect('equal')\n",
    "        plt.margins(pad)\n",
    "        if loc:\n",
    "            plt.legend(numpoints=1, loc=loc, labels=labels)\n",
    "        plt.title(title)\n",
    "        \n",
    "        if grid:\n",
    "            plt.grid(True)\n",
    "            plt.axes().axhline(0, c='k')\n",
    "            plt.axes().axvline(0, c='k')\n",
    "\n",
    "        if arrows:\n",
    "            xmin, xmax = plt.xlim()\n",
    "            ymin, ymax = plt.ylim()\n",
    "            size = 0.5 * (xmax - xmin) + 0.5 * (ymax - ymin)\n",
    "            head_size = {\n",
    "                'head_width': 0.03 * size,\n",
    "                'head_length': 0.05 * size,\n",
    "            }\n",
    "            if '1' in toggle:\n",
    "                plt.axes().arrow(x['0'][-1], y['0'][-1], x['1'][-1], y['1'][-1], \n",
    "                                 fc=color['1'], ec=color['1'], **head_size)\n",
    "            if '2' in toggle:\n",
    "                plt.axes().arrow(x['0'][-1], y['0'][-1], x['2'][-1], y['2'][-1], \n",
    "                                 fc=color['2'], ec=color['2'], **head_size)\n",
    "#             xmax = max(xmax,x['0'][-1],x['1'][-1],x['2'][-1])\n",
    "#             xmin = min(xmin,x['0'][-1],x['1'][-1],x['2'][-1])\n",
    "#             ymax = max(ymax,y['0'][-1],y['1'][-1],y['2'][-1])\n",
    "#             ymin = min(ymin,y['0'][-1],y['1'][-1],y['2'][-1])\n",
    "#             plt.axes().set_xlim([xmin,xmax])\n",
    "#             plt.axes().set_ylim([ymin,ymax])\n",
    "        if lim:\n",
    "            assert len(lim) == 4\n",
    "            plt.axes().set_xlim([lim[0],lim[1]])\n",
    "            plt.axes().set_ylim([lim[2],lim[3]])\n",
    "\n",
    "    def plot3view(self, grid=True, markevery=0):\n",
    "        assert len(self.components) == 3\n",
    "        x,y,z = self.components\n",
    "        fig = plt.figure(figsize=(10, 3.5))\n",
    "        \n",
    "        ax1 = plt.subplot(131) # equivalent to: plt.subplot(2, 2, 1)\n",
    "\n",
    "        ax1.plot(x, y, c='b', markevery=[-1], marker='o', mfc='w', mec='b', mew=1)\n",
    "        if markevery:\n",
    "            ax1.plot(x[:-1], y[:-1], lw=0, markevery=markevery, marker='.', mec='b')\n",
    "        \n",
    "        ax1.grid(grid)\n",
    "        ax1.set_aspect('equal')\n",
    "        ax1.set_xlabel('x')\n",
    "        ax1.set_ylabel('y')\n",
    "        ax1.set_title('Top View')\n",
    "        \n",
    "        ax2 = plt.subplot(132, sharex=ax1)\n",
    "        \n",
    "        ax2.plot(x, z, c='b', markevery=[-1], marker='o', mfc='w', mec='b', mew=1)\n",
    "        if markevery:\n",
    "            ax2.plot(x[:-1], z[:-1], lw=0, markevery=markevery, marker='.', mec='b')\n",
    "\n",
    "        ax2.grid(grid)\n",
    "        ax2.set_aspect('equal')\n",
    "        ax2.set_xlabel('x')\n",
    "        ax2.set_ylabel('z')\n",
    "        ax2.set_title('Side View (x)')\n",
    "        \n",
    "        ax3 = plt.subplot(133, sharey=ax1)\n",
    "        \n",
    "        ax3.plot(y, z, c='b', markevery=[-1], marker='o', mfc='w', mec='b', mew=1)\n",
    "        if markevery:\n",
    "            ax3.plot(y[:-1], z[:-1], lw=0, markevery=markevery, marker='.', mec='b')\n",
    "            \n",
    "        ax3.grid(grid)\n",
    "        ax3.set_aspect('equal')\n",
    "        ax3.set_xlabel('y')\n",
    "        ax3.set_ylabel('z')\n",
    "        ax3.set_title('Side View (y)')\n",
    "        fig.tight_layout()\n",
    "            \n",
    "    @property\n",
    "    def intervals(self):\n",
    "        intervals = []\n",
    "        for i in range(1, len(self.series)):\n",
    "            intervals.append((self.series[i - 1], self.series[i]))\n",
    "        return intervals    \n",
    " \n",
    "    def get_interval(self, time): # closed on left [a, b)\n",
    "        tmin = min(self.timeline)\n",
    "        tmax = max(self.timeline)\n",
    "        if time < tmin:\n",
    "            return None, self.series[0]\n",
    "        elif time >= tmax:\n",
    "            return self.series[-1], None\n",
    "        else:\n",
    "            for a, b in self.intervals:\n",
    "                if a.time <= time and time < b.time:\n",
    "                    return a, b\n",
    "    \n",
    "    def rate_of_change(self):\n",
    "        ts = TimeSeries()\n",
    "        for i, (a, b) in enumerate(self.intervals):\n",
    "            dx = b.value - a.value\n",
    "            dt = b.time - a.time\n",
    "            if 1 == 0:\n",
    "                ts.append(a.time, dx/dt)\n",
    "            else:\n",
    "                ts.append(a.time + dt/2, dx/dt)\n",
    "        return ts\n",
    "                \n",
    "    def __call__(self, time):\n",
    "        a, b = self.get_interval(time)\n",
    "        \n",
    "        if b is None: # then extrapolate...\n",
    "            try:\n",
    "                c, d = self.intervals[-2] # note: a == d\n",
    "                dx = d.value - c.value\n",
    "                dt = d.time - c.time\n",
    "                return a.value + dx/dt * (time - a.time)\n",
    "            except:\n",
    "                return a.value\n",
    "        else:\n",
    "            dx = b.value - a.value\n",
    "            dt = b.time - a.time\n",
    "            return a.value + dx/dt * (time - a.time)\n",
    "\n",
    "    def __getitem__(self, index):\n",
    "        if isinstance(index, int):\n",
    "            return self.series[index]\n",
    "        elif isinstance(index, slice):\n",
    "            return self.series[index]\n",
    "        else:\n",
    "            raise TypeError(\"index must be int or slice\")\n",
    "        \n",
    "    def __repr__(self):\n",
    "        import pprint\n",
    "        return pprint.pformat(self.series)\n"
   ]
  },
  {
   "cell_type": "code",
   "execution_count": 114,
   "metadata": {
    "collapsed": false
   },
   "outputs": [],
   "source": [
    "class Particle():\n",
    "    def __init__(self, mass=1, t0=0, r0=None, v0=None, p0=None, dim=1, E0=0):\n",
    "        \n",
    "        # The only purpose of the following is to redefine the defaults\n",
    "        # I am *not* error-checking the input parameters...\n",
    "\n",
    "        if isinstance(r0, np.ndarray):\n",
    "            dim = max(len(r0), dim)\n",
    "        if isinstance(v0, np.ndarray):\n",
    "            dim = max(len(v0), dim)\n",
    "\n",
    "        if r0 is None:\n",
    "            if dim == 1:\n",
    "                r0 = 0\n",
    "            else:\n",
    "                r0 = np.zeros(dim)\n",
    "            \n",
    "        if v0 is None:\n",
    "            if dim == 1:\n",
    "                v0 = 0\n",
    "            else:\n",
    "                v0 = np.zeros(dim)\n",
    "                    \n",
    "        self.mass = mass\n",
    "        self.position = TimeSeries([(t0, r0)])\n",
    "        if self.mass and p0 is None:\n",
    "            self.momentum = TimeSeries([(t0, self.mass * v0)])\n",
    "        else:\n",
    "            self.momentum = TimeSeries([(t0, p0)])\n",
    "        self.forces = {}\n",
    "        \n",
    "        self.energy = TimeSeries([(t0, E0)])\n",
    "\n",
    "    def add_force(self, force, name=None):\n",
    "        if name is None:\n",
    "            name = len(self.forces)\n",
    "        self.forces[name] = ( lambda t, obj=self: force(obj, t) )\n",
    "        \n",
    "    def net_force(self, time): # momentum flow or rate of change\n",
    "        net_force = 0\n",
    "        for name, force in self.forces.items():\n",
    "            net_force += force(time)\n",
    "        return net_force\n",
    "\n",
    "    def velocity(self, time): # position flow or rate of change\n",
    "        if time > max(self.momentum.timeline):\n",
    "            time = max(self.momentum.timeline)\n",
    "        return self.momentum(time) / self.mass\n",
    "\n",
    "    def acceleration(self, time):\n",
    "        r = self.position\n",
    "        v = r.rate_of_change()\n",
    "        a = v.rate_of_change()\n",
    "        if time >= a.timeline[-1]:\n",
    "            return a.values[-1]\n",
    "        elif time <= a.timeline[0]:\n",
    "            return a.values[0]\n",
    "        else:\n",
    "            return a(time)\n",
    "    \n",
    "    def increment(self, dt, n=1):\n",
    "        for i in range(n):\n",
    "            t = max(self.position.timeline)\n",
    "\n",
    "            if len(self.position.timeline) == 1: # then only go forward half an increment            \n",
    "                \n",
    "                next_p = self.momentum(t) + self.net_force(t) * dt/2\n",
    "                next_E = self.energy(t) + vdot( self.net_force(t), self.velocity(t) ) * dt/2\n",
    "                \n",
    "                self.momentum = TimeSeries() # throw out that \"initial\" value\n",
    "                self.energy = TimeSeries() # throw out that \"initial\" value\n",
    "                \n",
    "            else: # reach back half an increment to calculate the new momentum value\n",
    "                \n",
    "                next_p = self.momentum(t - dt/2) + self.net_force(t) * dt\n",
    "                next_E = self.energy(t - dt/2) + vdot( self.net_force(t), self.velocity(t) ) * dt\n",
    "\n",
    "            self.momentum.append(t + dt/2, next_p)\n",
    "            self.energy.append(t + dt/2, next_E)\n",
    "\n",
    "            next_r = self.position(t) + self.velocity(t + dt/2) * dt        \n",
    "            self.position.append(t + dt, next_r)\n",
    "            \n",
    "    def plot(self, **kwargs):\n",
    "        self.position.plot(**kwargs)\n",
    "        \n",
    "    def plot2d(self, **kwargs):\n",
    "        self.position.plot2d(**kwargs)\n",
    "        \n",
    "    def plot3view(self, **kwargs):\n",
    "        self.position.plot3view(**kwargs)"
   ]
  },
  {
   "cell_type": "code",
   "execution_count": 115,
   "metadata": {
    "collapsed": true
   },
   "outputs": [],
   "source": [
    "# class PhysicalSystem():\n",
    "#     def __init__(self, initial=[]):\n",
    "#         self.objs = list()\n",
    "#         for (mass, r0, v0) in initial:\n",
    "#             self.objs.append(Particle(mass=mass, r0=r0, v0=v0))\n",
    "                    \n",
    "#         for obj1 in self.objs:\n",
    "#             for obj2 in self.objs:\n",
    "#                 if obj1 != obj2: # no self-interactions !\n",
    "#                     internal_force = lambda t, obj1=obj1, obj2=obj2: self.interaction(obj1, obj2, t)\n",
    "#                     obj1.forces.append(internal_force)\n",
    "                    \n",
    "#     def interaction(self, obj1, obj2, time):\n",
    "#         return 0\n",
    "                    \n",
    "#     def increment(self, dt, n=1):\n",
    "#         for i in range(n):\n",
    "#             for obj in self.objs:\n",
    "#                 obj.increment(dt)\n",
    "                \n",
    "#     def plot(self):\n",
    "#         for i, obj in enumerate(self.objs):\n",
    "#             obj.position.plot(legend_loc=None)\n",
    "            \n",
    "#     def plot2d(self, colors='bgrcmyk'*9, **kwargs):\n",
    "#         for i, obj in enumerate(self.objs):\n",
    "#             obj.position.plot2d(color=colors[i], **kwargs)"
   ]
  },
  {
   "cell_type": "code",
   "execution_count": 116,
   "metadata": {
    "collapsed": true
   },
   "outputs": [],
   "source": [
    "# import cmath\n",
    "\n",
    "# class RigidObject(Particle):\n",
    "#     def __init__(self, mass=1, t0=0, r0=0, p0=0, v0=None, moi=1, q0=1+0j, L0=0+0j, w0=None):\n",
    "#         Particle.__init__(self, mass, t0, r0, p0, v0)\n",
    "#         self.moi = moi\n",
    "#         self.attitude = TimeSeries([(t0, q0)])\n",
    "#         self.angular_displacement = TimeSeries([(t0, cmath.phase(q0))])\n",
    "#         if self.moi and w0 is not None:\n",
    "#             self.angular_momentum = TimeSeries([(t0, self.moi * w0)])\n",
    "#         else:\n",
    "#             self.angular_momentum = TimeSeries([(t0, L0)])\n",
    "#         self.torques = []\n",
    "    \n",
    "#     def add_torque(self, torque):\n",
    "#         self.torques.append(lambda t, obj=self: torque(obj, t))        \n",
    "        \n",
    "#     def net_torque(self, time): # angular_momentum flow or rate of change\n",
    "#         net_torque = 0+0j\n",
    "#         for tau in self.torques:\n",
    "#             net_torque += tau(time)\n",
    "#         return net_torque\n",
    "\n",
    "#     def rotational_velocity(self, time): # attitude flow or rate of change\n",
    "#         if time > max(self.angular_momentum.timeline):\n",
    "#             time = max(self.angular_momentum.timeline)\n",
    "#         return self.angular_momentum(time) / self.moi\n",
    "    \n",
    "#     def increment(self, dt, n=1):\n",
    "#         for i in range(n):\n",
    "#             Particle.increment(self, dt, 1)\n",
    "            \n",
    "#             t = max(self.attitude.timeline)\n",
    "\n",
    "#             if len(self.attitude.timeline) == 1: # then only go forward half an increment            \n",
    "#                 next_L = self.angular_momentum(t) + self.net_torque(t) * dt/2\n",
    "#                 self.angular_momentum = TimeSeries() # throw out that \"initial\" value\n",
    "#             else: # reach back half an increment to calculate the new momentum value\n",
    "#                 next_L = self.angular_momentum(t - dt/2) + self.net_torque(t) * dt                \n",
    "\n",
    "#                 q = self.angular_displacement(t - dt)\n",
    "#                 q += self.rotational_velocity(t + dt/2) * dt\n",
    "#                 self.angular_displacement.append(t, q)\n",
    "\n",
    "#             self.angular_momentum.append(t + dt/2, next_L)\n",
    "#             rotor = np.exp( 1j * self.rotational_velocity(t + dt/2) * dt )\n",
    "#             next_attitude = self.attitude(t) * rotor\n",
    "#             self.attitude.append(t + dt, next_attitude)"
   ]
  },
  {
   "cell_type": "code",
   "execution_count": 124,
   "metadata": {
    "collapsed": true
   },
   "outputs": [],
   "source": [
    "def vmag(a):\n",
    "    return np.sqrt(vdot(a, a))\n",
    "\n",
    "def vdir(a):\n",
    "    if vmag(a) == 0:\n",
    "        vdir = np.array([1]+[0]*(len(a)-1)) # it doesn't matter since magnitude = 0\n",
    "    else:\n",
    "        vdir = a / vmag(a)\n",
    "    return vdir\n",
    "        \n",
    "def vang(a, deg=True, x_index=0, y_index=1):\n",
    "    vang = np.arctan2(a[y_index], a[x_index])\n",
    "    if deg:\n",
    "        vang = vang * 180/np.pi\n",
    "    return vang\n",
    "\n",
    "def vect(mag, ang, deg=True):\n",
    "    if deg:\n",
    "        ang = ang * np.pi/180\n",
    "    return mag * np.array([np.cos(ang), np.sin(ang)])\n",
    "\n",
    "def vdot(a, b):\n",
    "    if isinstance(a, float):\n",
    "        return a * b\n",
    "\n",
    "    assert len(a) == len(b)    \n",
    "    vdot = 0\n",
    "    for i in range(len(a)):\n",
    "        vdot += a[i] * b[i]\n",
    "    return vdot"
   ]
  },
  {
   "cell_type": "code",
   "execution_count": 169,
   "metadata": {
    "collapsed": true
   },
   "outputs": [],
   "source": [
    "def weight(obj):\n",
    "    return np.array([0, -9.8 * obj.mass])\n",
    "\n",
    "def support(obj, t, normal=np.array([0,1])):\n",
    "    normal = vdir(normal)\n",
    "    net_force = obj.net_force(t)\n",
    "    net_force_proj = vdot(net_force, normal)\n",
    "    support = -net_force_proj * normal\n",
    "    return support\n",
    "\n",
    "def friction(obj, t, support, mu_s=1, mu_k=1):\n",
    "    net_force = obj.net_force(t)\n",
    "    v = obj.velocity(t)\n",
    "    \n",
    "    frickin = False\n",
    "    if vmag(v) > 0:\n",
    "        frickin = True\n",
    "    if vmag(net_force) > mu_s * vmag(support): # maximum static friction\n",
    "        frickin = True\n",
    "        \n",
    "    if frickin: # then use kinetic friction\n",
    "        friction = -mu_k * vmag(support) * vdir(v)\n",
    "    else: # create equilibrium\n",
    "        friction = -net_force\n",
    "        \n",
    "    return friction"
   ]
  },
  {
   "cell_type": "markdown",
   "metadata": {},
   "source": [
    "# Chapter 6"
   ]
  },
  {
   "cell_type": "markdown",
   "metadata": {},
   "source": [
    "**Problem 003**\n",
    "\n",
    "The brakes of a truck cause it to slow down by applying a retarding force of 3000 newtons to the truck over a distance of 850 meters. What is the work done by this force on the truck? Is the work positive or negative? Why?\n",
    "\n",
    "*Answer:* −2.6E+6 joules"
   ]
  },
  {
   "cell_type": "code",
   "execution_count": 164,
   "metadata": {
    "collapsed": false,
    "scrolled": false
   },
   "outputs": [
    {
     "name": "stdout",
     "output_type": "stream",
     "text": [
      "-2.58e+06\n"
     ]
    }
   ],
   "source": [
    "dt = 0.1\n",
    "obj = Particle(mass=1000,v0=100) # we have to get the position to at least 850, but other  \n",
    "                                 # than that, the answer is independent of these values\n",
    "obj.add_force(lambda obj, t: -3000.0)\n",
    "\n",
    "while True:\n",
    "    obj.increment(dt)\n",
    "    if obj.position.values[-1] > 850:\n",
    "        break\n",
    "\n",
    "t = max(obj.position.timeline)\n",
    "obj.position(t)\n",
    "print('{:.3g}'.format(obj.energy(t)))"
   ]
  },
  {
   "cell_type": "markdown",
   "metadata": {},
   "source": [
    "**Problem 005**\n",
    "\n",
    "Suppose that +1100 joules of work is done by a force (magnitude 30.0 newtons) in moving the suitcase a distance of 50.0 meters. At what angle is the force oriented with respect to the ground?\n",
    "\n",
    "*Answer:* 42.8°"
   ]
  },
  {
   "cell_type": "code",
   "execution_count": 168,
   "metadata": {
    "collapsed": false
   },
   "outputs": [
    {
     "name": "stdout",
     "output_type": "stream",
     "text": [
      "The angle of the external force = 42.8°\n",
      "The total displacement = 50.1\n",
      "The change in energy = 1098.1\n"
     ]
    },
    {
     "data": {
      "image/png": "[encoded data removed]",
      "text/plain": [
       "<matplotlib.figure.Figure at 0x7fbcd0f32cf8>"
      ]
     },
     "metadata": {},
     "output_type": "display_data"
    }
   ],
   "source": [
    "dt = 0.005\n",
    "\n",
    "q = 45\n",
    "q = 0\n",
    "for dq in [10,1,0.1]:\n",
    "    while True:\n",
    "        q += dq\n",
    "        \n",
    "        obj = Particle(r0=np.array([0,5]))\n",
    "\n",
    "        w = np.array([0,-9.8 * obj.mass])\n",
    "        obj.add_force(lambda obj, t: w, 'weight')\n",
    "\n",
    "        f = 30 * np.array([np.cos(q * np.pi/180),np.sin(q * np.pi/180)])\n",
    "        obj.add_force(lambda obj, t: f, 'pushing')\n",
    "\n",
    "        t = obj.position.timeline[-1]\n",
    "\n",
    "        s = support(obj, t)\n",
    "        obj.add_force(lambda obj, t: s, 'support')\n",
    "\n",
    "        while True:\n",
    "            obj.increment(dt)\n",
    "            x,y = obj.position.values[-1]\n",
    "            if x > 50:\n",
    "                break\n",
    "\n",
    "        t = max(obj.position.timeline)\n",
    "        if obj.energy(t) < 1100:\n",
    "            q -= dq\n",
    "            break\n",
    "            \n",
    "t = max(obj.position.timeline)\n",
    "x,y = obj.position(t)\n",
    "E = obj.energy(t)\n",
    "\n",
    "print('The angle of the external force = {:.1f}°'.format(q))\n",
    "print('The total displacement = {:.1f}'.format(x))\n",
    "print('The change in energy = {:.1f}'.format(E))\n",
    "\n",
    "obj.plot2d(lim=[0,60,0,10])"
   ]
  },
  {
   "cell_type": "markdown",
   "metadata": {},
   "source": [
    "**Problem 006**\n",
    "\n",
    "A person pushes a 16.0-kilogram shopping cart at a constant velocity for a distance of 22.0 meters. She pushes in a direction below the horizontal. A 48.0-newton frictional force opposes the motion of the cart. (a) What is the magnitude of the force that the shopper exerts? Determine the work done by (b) the pushing force, (c) the frictional force, and (d) the gravitational force.\n",
    "\n",
    "*Answer:* (a) 54.9 newtons (b) 1060 joules (c) −1060 joules (d) 0 joules"
   ]
  },
  {
   "cell_type": "code",
   "execution_count": 175,
   "metadata": {
    "collapsed": false
   },
   "outputs": [
    {
     "name": "stdout",
     "output_type": "stream",
     "text": [
      "Pushing force = 48.0 newtons\n"
     ]
    }
   ],
   "source": [
    "# mag_ext_force = 0\n",
    "# for dF in [100, 10, 1, 0.1, 0.01]:\n",
    "#     while True:\n",
    "#         mag_ext_force += dF\n",
    "\n",
    "#         obj = Particle(mass=16, v0=np.array([1,0]))\n",
    "#         obj.add_force(lambda obj, t: weight(obj))\n",
    "#         obj.add_force(lambda obj, t: np.array([mag_ext_force, 0]))\n",
    "\n",
    "#         t = obj.position.timeline[-1]\n",
    "\n",
    "#         x = support(obj, t)\n",
    "#         obj.add_force(lambda obj, t: x)\n",
    "\n",
    "# #         y = friction(obj, t, support=x, mu_s=0.760, mu_k=0.410)\n",
    "# #         obj.add_force(lambda obj, t: y)\n",
    "\n",
    "#         y = np.array([-48.0,0])\n",
    "#         obj.add_force(lambda obj, t: y)\n",
    "\n",
    "#         obj.increment(0.1,10)\n",
    "\n",
    "#         ax, ay = obj.acceleration(t)\n",
    "\n",
    "#         if ax > 0.00001:\n",
    "#             break\n",
    "\n",
    "#     mag_ext_force -= dF \n",
    "    \n",
    "# print('Pushing force = {:.1f} newtons'.format(mag_ext_force))"
   ]
  },
  {
   "cell_type": "markdown",
   "metadata": {},
   "source": [
    "**Problem 008**\n",
    "\n",
    "A person pulls a toboggan for a distance of 35.0 meters along the snow with a rope directed 25.0° above the snow. The tension in the rope is 94.0 newtons. (a) How much work is done on the toboggan by the tension force? (b) How much work is done if the same tension is directed parallel to the snow?\n",
    "\n",
    "*Answer:* (a) 2980 joules (b) 3290 joules"
   ]
  },
  {
   "cell_type": "markdown",
   "metadata": {},
   "source": [
    "**Problem 013**\n",
    "\n",
    "A fighter jet is launched from an aircraft carrier with the aid of its own engines and a steam-powered catapult. The thrust of its engines is 2.3E+5 netwons. In being launched from rest it moves through a distance of 87 meters and has a kinetic energy of 4.5E+7 joules at lift-off. What is the work done on the jet by the catapult?\n",
    "\n",
    "*Answer:* 2.5E+7 joules"
   ]
  },
  {
   "cell_type": "markdown",
   "metadata": {},
   "source": [
    "**Problem 019**\n",
    "\n",
    "The hammer throw is a track-and-field event in which a 7.3-kilogram ball (the \"hammer\"), starting from rest, is whirled around in a circle several times and released. It then moves upward on the familiar curving path of projectile motion. In one throw, the hammer is given a speed of 29 m/s. For comparison, a .22 caliber bullet has a mass of 2.6 grams and, starting from rest, exits the barrel of a gun at a speed of 410 m/s. Determine the work done to launch the motion of (a) the hammer and (b) the bullet.\n",
    "\n",
    "*Answer:* (a) 3100 joules (b) 220 joules"
   ]
  },
  {
   "cell_type": "markdown",
   "metadata": {},
   "source": [
    "**Problem 029**\n",
    "\n",
    "A 75.0-kilogram skier rides a 2830-meter-long lift to the top of a mountain. The lift makes an angle of 14.6° with the horizontal. What is the change in the skier's gravitational potential energy?\n",
    "\n",
    "*Answer:* 5.24E+5 joules"
   ]
  },
  {
   "cell_type": "markdown",
   "metadata": {},
   "source": [
    "**Problem 033**\n",
    "\n",
    "A bicyclist rides 5.0 kilometers due east, while the resistive force from the air has a magnitude of 3.0 newtons and points due west. The rider then turns around and rides 5.0 kilometers due west, back to her starting point. The resistive force from the air on the return trip has a magnitude of 3.0 newtons and points due east. (a) Find the work done by the resistive force during the round trip. (b) Based on your answer to part (a), is the resistive force a conservative force? Explain.\n",
    "\n",
    "*Answer:* (a) −3.0E+4 joules (b) No"
   ]
  },
  {
   "cell_type": "markdown",
   "metadata": {},
   "source": [
    "**Problem 038**\n",
    "\n",
    "The skateboarder in the draw-ing starts down the left side of the ramp with an initial speed of 5.4 m/s. Neglect nonconservative forces, such as friction and air resistance, and find the height h of the highest point reached by the skateboarder on the right side of the ramp. \n",
    "\n",
    "*Answer:* 1.5 meters"
   ]
  },
  {
   "cell_type": "markdown",
   "metadata": {},
   "source": [
    "**Problem 041**\n",
    "\n",
    "A 47.0-gram golf ball is driven from the tee with an initial speed of and rises to a height of 24.6 meters. (a) Neglect air resistance and determine the kinetic energy of the ball at its highest point. (b) What is its speed when it is 8.0 meters below its highest point?\n",
    "\n",
    "*Answer:* (a) 52.2 joules (b) 48.8 joules"
   ]
  },
  {
   "cell_type": "markdown",
   "metadata": {},
   "source": [
    "**Problem 064**\n",
    "\n",
    "You are working out on a rowing machine. Each time you pull the rowing bar (which simulates the oars) toward you, it moves a distance of 1.2 meters in a time of 1.5 seconds. The readout on the display indicates that the average power you are producing is 82 watts. What is the magnitude of the force that you exert on the handle?\n",
    "\n",
    "*Answer:* 100 newtons"
   ]
  },
  {
   "cell_type": "markdown",
   "metadata": {},
   "source": [
    "**Problem 068**\n",
    "\n",
    "In 2.0 minutes, a ski lift raises four skiers at constant speed to a height of 140 meters. The average mass of each skier is 65 kilograms. What is the average power provided by the tension in the cable pulling the lift?\n",
    "\n",
    "*Answer:* 3000 watts"
   ]
  },
  {
   "cell_type": "markdown",
   "metadata": {},
   "source": [
    "**Problem 077**\n",
    "\n",
    "A 2.00-kilogram rock is released from rest at a height of 20.0 meters. Ignore air resistance and determine the kinetic energy, gravitational potential energy, and total mechanical energy at each of the following heights: 20.0, 10.0, and 0 meters.\n",
    "\n",
    "\n",
    "*Answer:* (a) 0, 392, 392 joules (b) 196, 196, 392 joules (c) 392, 0, 392 joules"
   ]
  },
  {
   "cell_type": "markdown",
   "metadata": {},
   "source": [
    "# Chapter 7"
   ]
  },
  {
   "cell_type": "markdown",
   "metadata": {},
   "source": [
    "**Problem 001**\n",
    "\n",
    "A 46-kilogram skater is standing still in front of a wall. By pushing against the wall she propels herself backward with a velocity of −1.2 m/s. Her hands are in contact with the wall for 0.80 seconds. Ignore friction and wind resistance. Find the magnitude and direction of the average force she exerts on the wall (which has the same magnitude as, but opposite direction to, the force that the wall applies to her).\n",
    "\n",
    "*Answer:* +69 newtons"
   ]
  },
  {
   "cell_type": "markdown",
   "metadata": {},
   "source": [
    "**Problem 005**\n",
    "\n",
    "A volleyball is spiked so that its incoming velocity of +4.0 m/s is changed to an outgoing velocity of −21 m/s. The mass of the volleyball is 0.35 kilograms. What impulse does the player apply to the ball?\n",
    "\n",
    "*Answer:* −8.7 kg-m/s"
   ]
  },
  {
   "cell_type": "markdown",
   "metadata": {},
   "source": [
    "**Problem 007**\n",
    "\n",
    "A hockey goalie is standing on ice. Another player fires a puck (mass = 0.17 kilograms) at the goalie with a velocity of +65 m/s. (a) If the goalie catches the puck with his glove in a time of 5.0E−3 seconds, what is the average force (magnitude and direction) exerted on the goalie by the puck? (b) Instead of catching the puck, the goalie slaps it with his stick and returns the puck straight back to the player with a velocity of −65 m/s. The puck and stick are in contact for a time of 5.0E−3 seconds. Now what is the average force exerted on the goalie by the puck?\n",
    "\n",
    "*Answer:* (a) 2200 newtons (b) 4400 newtons"
   ]
  },
  {
   "cell_type": "markdown",
   "metadata": {},
   "source": [
    "**Problem 019**\n",
    "\n",
    "A lumberjack (mass = 98 kilograms) is standing at rest on one end of a floating log (mass = 230 kilograms) that is also at rest. The lumberjack runs to the other end of the log, attaining a velocity of +3.6 m/s relative to the shore, and then hops onto an identical floating log that is initially at rest. Neglect any friction and resistance between the logs and the water. (a) What is the velocity of the first log just before the lumberjack jumps off? (b) Determine the velocity of the second log if the lumberjack comes to rest on it.\n",
    "\n",
    "*Answer:* (a) −1.5 m/s (b) +1.1 m/s"
   ]
  },
  {
   "cell_type": "markdown",
   "metadata": {},
   "source": [
    "**Problem 021**\n",
    "\n",
    "A two-stage rocket moves in space at a constant velocity of 4900 m/s. The two stages are then separated by a small explosive charge placed between them. Immediately after the explosion the velocity of the 1200-kilogram upper stage is 5700 m/s in the same direction as before the explosion. What is the velocity (magnitude and direction) of the 2400-kilogram lower stage after the explosion?\n",
    "\n",
    "*Answer:* +4500 m/s"
   ]
  },
  {
   "cell_type": "markdown",
   "metadata": {},
   "source": [
    "**Problem 029**\n",
    "\n",
    "A 2.50-gram bullet, traveling at a speed of 425 m/s, strikes the wooden block of a ballistic pendulum. The block has a mass of 215 grams. (a) Find the speed of the bullet–block combination immediately after the collision. (b) How high does the combination rise above its initial position?\n",
    "\n",
    "*Answer:* (a) 4.89 m/s (b) 1.22 meters"
   ]
  },
  {
   "cell_type": "markdown",
   "metadata": {},
   "source": [
    "**Problem 031**\n",
    "\n",
    "Batman (mass = 91 kilograms) jumps straight down from a bridge into a boat (mass = 510 kilograms) in which a criminal is fleeing. The velocity of the boat is initially +11 m/s. What is the velocity of the boat after Batman lands in it?\n",
    "\n",
    "*Answer:* +9.3 m/s"
   ]
  },
  {
   "cell_type": "markdown",
   "metadata": {},
   "source": [
    "**Problem 033**\n",
    "\n",
    "A 5.00-kilogram ball, moving to the right at a velocity of on a frictionless table, collides head-on with a stationary 7.50-kg ball. Find the final velocities of the balls if the collision is (a) elastic and (b) completely inelastic.\n",
    "\n",
    "*Answer:* (a) −0.400 m/s and +1.60 m/s (b) +0.800 m/s"
   ]
  },
  {
   "cell_type": "markdown",
   "metadata": {},
   "source": [
    "**Problem 035**\n",
    "\n",
    "A projectile (mass = 0.20 kilograms) is fired at and embeds itself in a stationary target (mass = 2.50 kilograms). With what percentage of the projectile's incident kinetic energy does the target (with the projectile in it) fly off after being struck?\n",
    "\n",
    "*Answer:* 7.4%"
   ]
  },
  {
   "cell_type": "markdown",
   "metadata": {},
   "source": [
    "**Problem 041**\n",
    "\n",
    "A 50.0-kilogram skater is traveling due east at a speed of 3.00 m/s. A 70.0-kilogram skater is moving due south at a speed of 7.00 m/s. They collide and hold on to each other after the collision, managing to move off at an angle south of east. Find (a) the angle and (b) the speed, assuming that friction can be ignored.\n",
    "\n",
    "*Answer:* (a) 73.0° (b) 4.28 m/s"
   ]
  },
  {
   "cell_type": "markdown",
   "metadata": {},
   "source": [
    "# Chapter 8"
   ]
  },
  {
   "cell_type": "markdown",
   "metadata": {},
   "source": [
    "**Problem 001**\n",
    "\n",
    "A pitcher throws a curveball that reaches the catcher in 0.60 seconds. The ball curves because it is spinning at an average angular velocity of 330 rpm (assumed constant) on its way to the catcher's mitt. What is the angular displacement of the baseball (in radians) as it travels from the pitcher to the catcher?\n",
    "\n",
    "*Answer:* 21 radians"
   ]
  },
  {
   "cell_type": "markdown",
   "metadata": {},
   "source": [
    "**Problem 003**\n",
    "\n",
    "The earth spins on its axis once a day and orbits the sun once a year (365¼ days). Determine the average angular velocity (in rad/s) of the earth as it (a) spins on its axis and (b) orbits the sun. In each case, take the positive direction for the angular displacement to be the direction of the earth's motion.\n",
    "\n",
    "*Answer:* (a) 7.3E−5 rad/s (b) 2.0E−7 rad/s"
   ]
  },
  {
   "cell_type": "markdown",
   "metadata": {},
   "source": [
    "**Problem 009**\n",
    "\n",
    "A Ferris wheel rotates at an angular velocity of 0.24 rad/s. Starting from rest, it reaches its operating speed with an average angular acceleration of 0.030 rad/s². How long does it take the wheel to come up to operating speed?\n",
    "\n",
    "*Answer:* 8.0 seconds"
   ]
  },
  {
   "cell_type": "markdown",
   "metadata": {},
   "source": [
    "**Problem 021**\n",
    "\n",
    "A gymnast is performing a floor routine. In a tumbling run she spins through the air, increasing her angular velocity from 3.00 to 5.00 rev/s while rotating through one-half of a revolution. How much time does this maneuver take?\n",
    "\n",
    "*Answer:* 0.125 seconds"
   ]
  },
  {
   "cell_type": "markdown",
   "metadata": {},
   "source": [
    "**Problem 023**\n",
    "\n",
    "A wind turbine is initially spinning at a constant angular speed. As the wind's strength gradually increases, the turbine experiences a constant angular acceleration of 0.140 rad/s². After making 2870 revolutions, its angular speed is 137 rad/s. (a) What is the initial angular velocity of the turbine? (b) How much time elapses while the turbine is speeding up?\n",
    "\n",
    "*Answer:* (a) 117 rad/s (b) 140 seconds"
   ]
  },
  {
   "cell_type": "markdown",
   "metadata": {},
   "source": [
    "**Problem 025**\n",
    "\n",
    "The wheels of a bicycle have an angular velocity of +20.0 rad/s. Then, the brakes are applied. In coming to rest, each wheel makes an angular displacement of +15.92 revolutions. (a) How much time does it take for the bike to come to rest? (b) What is the angular acceleration (in rad/s²) of each wheel?\n",
    "\n",
    "*Answer:* (a) 10.0 seconds (b) −2.00 rad/s²"
   ]
  },
  {
   "cell_type": "markdown",
   "metadata": {},
   "source": [
    "**Problem 037**\n",
    "\n",
    "A string trimmer is a tool for cutting grass and weeds; it utilizes a length of nylon \"string\" that rotates about an axis perpendicular to one end of the string. The string rotates at an angular speed of 47 rev/s, and its tip has a tangential speed of 54 m/s. What is the length of the rotating string?\n",
    "\n",
    "*Answer:* 0.18 meters"
   ]
  },
  {
   "cell_type": "markdown",
   "metadata": {},
   "source": [
    "**Problem 039**\n",
    "\n",
    "The take-up reel of a cassette tape has an average radius of 1.4 centimeters. Find the length of tape (in meters) that passes around the reel in 13 seconds when the reel rotates at an average angular speed of 3.4 rad/s.\n",
    "\n",
    "*Answer:* 0.62 meters"
   ]
  },
  {
   "cell_type": "markdown",
   "metadata": {},
   "source": [
    "**Problem 042**\n",
    "\n",
    "A person lowers a bucket into a well by turning the hand crank (axle diameter = 0.100 meters, crank diameter = 0.400 meters). The crank handle moves with a constant tangential speed of 1.20 m/s on its circular path. The rope holding the bucket unwinds without slipping on the barrel of the crank. Find the linear speed with which the bucket moves down the well. \n",
    "\n",
    "*Answer:* 0.300 m/s"
   ]
  },
  {
   "cell_type": "markdown",
   "metadata": {},
   "source": [
    "**Problem 053**\n",
    "\n",
    "A motorcycle accelerates uniformly from rest and reaches a linear speed of 22.0 m/s in a time of 9.00 seconds. The radius of each tire is 0.280 meters. What is the magnitude of the angular acceleration of each tire?\n",
    "\n",
    "*Answer:* 8.71 rad/s²"
   ]
  },
  {
   "cell_type": "markdown",
   "metadata": {},
   "source": [
    "**Problem 054**\n",
    "\n",
    "An automobile tire has a radius of 0.330 meters, and its center moves forward with a linear speed of 15.0 m/s. (a) Determine the angular speed of the wheel. (b) Relative to the axle, what is the tangential speed of a point located 0.175 meters from the axle?\n",
    "\n",
    "*Answer:* (a) 45.5 rad/s (b) 7.96 m/s"
   ]
  },
  {
   "cell_type": "markdown",
   "metadata": {},
   "source": [
    "**Problem 056**\n",
    "\n",
    "Suppose you are riding a stationary exercise bicycle, and the electronic meter indicates that the wheel is rotating at 9.1 rad/s. The wheel has a radius of 0.45 meters. If you ride the bike for 35 minutes, how far would you have gone if the bike could move?\n",
    "\n",
    "*Answer:* 8600 meters"
   ]
  },
  {
   "cell_type": "markdown",
   "metadata": {},
   "source": [
    "**Problem 068**\n",
    "\n",
    "During a tennis serve, a racket is given an angular acceleration of magnitude 160 rad/s². At the top of the serve, the racket has an angular speed of 14 rad/s. If the distance between the top of the racket and the shoulder is 1.5 meters, find the magnitude of the total acceleration of the top of the racket.\n",
    "\n",
    "*Answer:* 380 m/s²"
   ]
  },
  {
   "cell_type": "markdown",
   "metadata": {},
   "source": [
    "**Problem 069**\n",
    "\n",
    "The drawing shows a chain-saw blade. The rotating sprocket tip at the end of the guide bar has a radius of 4.0E−2 meters. The linear speed of a chain link is 5.6 m/s. Find the angular speed of the sprocket tip in rev/s. \n",
    "\n",
    "*Answer:* 22 rev/s"
   ]
  },
  {
   "cell_type": "markdown",
   "metadata": {},
   "source": [
    "# Chapter 9"
   ]
  },
  {
   "cell_type": "markdown",
   "metadata": {},
   "source": [
    "**Problem 001**\n",
    "\n",
    "The wheel of a car has a radius of 0.350 meters. The engine of the car applies a torque of 295 newtons to this wheel, which does not slip against the road surface. Since the wheel does not slip, the road must be applying a force of static friction to the wheel that produces a counter-torque. Moreover, the car has a constant velocity, so this counter-torque balances the applied torque. What is the magnitude of the static frictional force?\n",
    "\n",
    "*Answer:* 843 newtons"
   ]
  },
  {
   "cell_type": "markdown",
   "metadata": {},
   "source": [
    "**Problem 006**\n",
    "\n",
    "A square, 0.40 meters on a side, is mounted so that it can rotate about an axis that passes through the center of the square. The axis is perpendicular to the plane of the square. A force of 15 newtons lies in this plane and is applied to the square. What is the magnitude of the maximum torque that such a force could produce?\n",
    "\n",
    "*Answer:* 4.2 newton-meters"
   ]
  },
  {
   "cell_type": "markdown",
   "metadata": {},
   "source": [
    "**Problem 012**\n",
    "\n",
    "The drawing shows a person (weight = 584 newtons) doing push-ups. Find the normal force exerted by the floor on each hand and each foot, assuming that the person holds this position. \n",
    "\n",
    "*Answer:* (a) 196 newtons (b) 96 newtons"
   ]
  },
  {
   "cell_type": "markdown",
   "metadata": {},
   "source": [
    "**Problem 015**\n",
    "\n",
    "A person exerts a horizontal force of 190 newtons in the test apparatus shown in the drawing. Find the horizontal force (magnitude and direction) that his flexor muscle exerts on his forearm. (Muscle is 0.054 meters from elbow joint, apparatus is 0.34 meters from the joint.)\n",
    "\n",
    "*Answer:* 1200 newtons"
   ]
  },
  {
   "cell_type": "markdown",
   "metadata": {},
   "source": [
    "**Problem 031**\n",
    "\n",
    "A CD has a mass of 17 grams and a radius of 6.0 centimeters. When inserted into a player, the CD starts from rest and accelerates to an angular velocity of 21 rad/s in 0.80 seconds. Assuming the CD is a uniform solid disk, determine the net torque acting on it.\n",
    "\n",
    "*Answer:* 8.0E−4 newton-meters"
   ]
  },
  {
   "cell_type": "markdown",
   "metadata": {},
   "source": [
    "**Problem 033**\n",
    "\n",
    "A solid circular disk has a mass of 1.2 kilograms and a radius of 0.16 meters. Each of three identical thin rods has a mass of 0.15 kilograms. The rods are attached perpendicularly to the plane of the disk at its outer edge to form a three-legged stool (see the drawing). Find the moment of inertia of the stool with respect to an axis that is perpendicular to the plane of the disk at its center. \n",
    "\n",
    "(Hint: When considering the moment of inertia of each rod, note that all of the mass of each rod is located at the same perpendicular distance from the axis.)\n",
    "\n",
    "*Answer:* 0.027 kg-m²"
   ]
  },
  {
   "cell_type": "markdown",
   "metadata": {},
   "source": [
    "**Problem 034**\n",
    "\n",
    "A ceiling fan is turned on and a net torque of 18 newton-meters is applied to the blades. The blades have a total moment of inertia of 0.22 kg-m². What is the angular acceleration of the blades?\n",
    "\n",
    "*Answer:* 8.2 rad/s²"
   ]
  },
  {
   "cell_type": "markdown",
   "metadata": {},
   "source": [
    "**Problem 048**\n",
    "\n",
    "Calculate the kinetic energy that the earth has because of (a) its rotation about its own axis and (b) its motion around the sun. Assume that the earth is a uniform sphere and that its path around the sun is circular. For comparison, the total energy used in the United States in one year is about 1.1E+20 joules.\n",
    "\n",
    "*Answer:* (a) 2.57E+29 joules (b) 2.67E+33 joules"
   ]
  },
  {
   "cell_type": "markdown",
   "metadata": {},
   "source": [
    "**Problem 051**\n",
    "\n",
    "A flywheel is a solid disk that rotates about an axis that is perpendicular to the disk at its center. Rotating flywheels provide a means for storing energy in the form of rotational kinetic energy and are being considered as a possible alternative to batteries in electric cars. The gasoline burned in a 300-mile trip in a typical midsize car produces about 1.2E+9 joules of energy. How fast would a 13-kilograms flywheel with a radius of 0.30 m have to rotate to store this much energy? Give your answer in rpm.\n",
    "\n",
    "*Answer:* 6.1E+5 rpm"
   ]
  },
  {
   "cell_type": "markdown",
   "metadata": {},
   "source": [
    "**Problem 063**\n",
    "\n",
    "A thin rod has a length of 0.25 meters and rotates in a circle on a frictionless tabletop. The axis is perpendicular to the length of the rod at one of its ends. The rod has an angular velocity of 0.32 rad/s and a moment of inertia of 1.1E−3 kg-m². A bug standing on the axis decides to crawl out to the other end of the rod. When the bug (mass = 4.2E−3 kilograms) gets where it's going, what is the angular velocity of the rod?\n",
    "\n",
    "*Answer:* 0.26 rad/s"
   ]
  },
  {
   "cell_type": "markdown",
   "metadata": {},
   "source": [
    "**Problem 064**\n",
    "\n",
    "As seen from above, a playground carousel is rotating counterclockwise about its center on frictionless bearings. A person standing still on the ground grabs onto one of the bars on the carousel very close to its outer edge and climbs aboard. Thus, this person begins with an angular speed of zero and ends up with a nonzero angular speed, which means that he underwent a counterclockwise angular acceleration. The carousel has a radius of 1.50 meters, an initial angular speed of 3.14 rad/s, and a moment of inertia of 125 kg-m². The mass of the person is 40.0 kilograms. Find the final angular speed of the carousel after the person climbs aboard.\n",
    "\n",
    "*Answer:* 1.83 rad/s"
   ]
  },
  {
   "cell_type": "markdown",
   "metadata": {},
   "source": [
    "**Problem 071**\n",
    "\n",
    "A solid cylindrical disk has a radius of 0.15 meters. It is mounted to an axle that is perpendicular to the circular end of the disk at its center. When a 45-newton force is applied tangentially to the disk, perpendicular to the radius, the disk acquires an angular acceleration of 120 rad/s². What is the mass of the disk?\n",
    "\n",
    "*Answer:* 5.0 kilograms"
   ]
  },
  {
   "cell_type": "markdown",
   "metadata": {},
   "source": [
    "**Problem 073**\n",
    "\n",
    "A rotating door is made from four rectangular sections (1.2 meters long), as indicated in the drawing. The mass of each section is 85 kilograms. A person pushes on the outer edge of one section with a force of 68 newtons that is directed perpendicular to the section. Determine the magnitude of the door's angular acceleration. \n",
    "\n",
    "*Answer:* 0.50 rad/s²"
   ]
  },
  {
   "cell_type": "markdown",
   "metadata": {},
   "source": []
  },
  {
   "cell_type": "markdown",
   "metadata": {},
   "source": []
  },
  {
   "cell_type": "markdown",
   "metadata": {},
   "source": []
  },
  {
   "cell_type": "markdown",
   "metadata": {},
   "source": [
    "# Chapter 10\n",
    "\n",
    "- 1,4,7,11,17,21,32,33,43,44,51,53,76,80"
   ]
  },
  {
   "cell_type": "markdown",
   "metadata": {},
   "source": [
    "# Chapter 11\n",
    "\n",
    "- 1,3,11,12,20,33,35,40,41,56,57,63,73,93"
   ]
  },
  {
   "cell_type": "markdown",
   "metadata": {},
   "source": [
    "# Chapter 12\n",
    "\n",
    "- 3,11,15,28,29,35,47,57,59,63,92"
   ]
  },
  {
   "cell_type": "markdown",
   "metadata": {},
   "source": [
    "# Chapter 13\n",
    "\n",
    "- 2,5,9,22,25,29,37"
   ]
  },
  {
   "cell_type": "markdown",
   "metadata": {},
   "source": [
    "# Chapter 14\n",
    "\n",
    "- 5,15,17,35,40,41,49,53,57"
   ]
  },
  {
   "cell_type": "markdown",
   "metadata": {},
   "source": [
    "# Chapter 15\n",
    "\n",
    "- 1,6,8,21,22,44,47,51,63,64,78"
   ]
  },
  {
   "cell_type": "markdown",
   "metadata": {},
   "source": [
    "# Chapter 16\n",
    "\n",
    "- 1,3,4,5,12,35,53,65,67,69,76,80,92,93"
   ]
  },
  {
   "cell_type": "markdown",
   "metadata": {},
   "source": [
    "# Chapter 17\n",
    "\n",
    "- 2,3,12,19,21,23,27,33,43,45,55,59"
   ]
  },
  {
   "cell_type": "markdown",
   "metadata": {},
   "source": [
    "# Chapter 24\n",
    "\n",
    "- 1,2,3,7,15,17,35,36"
   ]
  },
  {
   "cell_type": "markdown",
   "metadata": {},
   "source": [
    "# Chapter 25\n",
    "\n",
    "- 5,6,16,20,21,38,39"
   ]
  },
  {
   "cell_type": "markdown",
   "metadata": {},
   "source": [
    "# Chapter 26\n",
    "\n",
    "- 1,10,11,13,45,50,53,75,77,105,108,113,115"
   ]
  },
  {
   "cell_type": "markdown",
   "metadata": {},
   "source": []
  },
  {
   "cell_type": "markdown",
   "metadata": {},
   "source": []
  },
  {
   "cell_type": "markdown",
   "metadata": {},
   "source": [
    "# Chapter 18\n",
    "\n",
    "- 1,5,10,11,12,17,18, 31,33,40,66,67,68"
   ]
  },
  {
   "cell_type": "markdown",
   "metadata": {},
   "source": [
    "# Chapter 19\n",
    "\n",
    "- 3,5,6,13,18,21,25,32,35,37,42,45,59,61"
   ]
  },
  {
   "cell_type": "markdown",
   "metadata": {},
   "source": [
    "# Chapter 20\n",
    "\n",
    "- 3,4,12,15,23,25,27,34,37,42,43,54,55,57,110,116"
   ]
  },
  {
   "cell_type": "markdown",
   "metadata": {},
   "source": [
    "# Chapter 20\n",
    "\n",
    "- 64,65,67,79,83,93,97,103,105,112"
   ]
  },
  {
   "cell_type": "markdown",
   "metadata": {},
   "source": [
    "# Chapter 21\n",
    "\n",
    "- 3,4,7,13,14,15,19,31,35,55,58,59,76"
   ]
  },
  {
   "cell_type": "markdown",
   "metadata": {},
   "source": [
    "# Chapter 22\n",
    "\n",
    "- 3,5,11,13,15,21,22,34,36,49,50,51,55,60,61,72,73,74"
   ]
  },
  {
   "cell_type": "markdown",
   "metadata": {},
   "source": [
    "# Chapter 23\n",
    "\n",
    "- 2,5,9,10,13,17,19,22,31,33,46,47,48"
   ]
  },
  {
   "cell_type": "markdown",
   "metadata": {},
   "source": [
    "# Chapter 24\n",
    "\n",
    "- 4,49,51,52"
   ]
  },
  {
   "cell_type": "markdown",
   "metadata": {},
   "source": [
    "# Chapter 28\n",
    "\n",
    "- 1,3,4,8,9,10,21,25,27,29,30,43,45"
   ]
  },
  {
   "cell_type": "markdown",
   "metadata": {},
   "source": [
    "# Chapter 29\n",
    "\n",
    "- 1,3,5,7,15,18,19,25,26,37,39,43"
   ]
  },
  {
   "cell_type": "markdown",
   "metadata": {},
   "source": []
  },
  {
   "cell_type": "markdown",
   "metadata": {},
   "source": []
  },
  {
   "cell_type": "markdown",
   "metadata": {},
   "source": []
  },
  {
   "cell_type": "markdown",
   "metadata": {},
   "source": []
  },
  {
   "cell_type": "markdown",
   "metadata": {},
   "source": []
  },
  {
   "cell_type": "markdown",
   "metadata": {},
   "source": []
  },
  {
   "cell_type": "markdown",
   "metadata": {},
   "source": []
  },
  {
   "cell_type": "markdown",
   "metadata": {},
   "source": []
  },
  {
   "cell_type": "markdown",
   "metadata": {},
   "source": []
  },
  {
   "cell_type": "markdown",
   "metadata": {},
   "source": []
  },
  {
   "cell_type": "markdown",
   "metadata": {},
   "source": []
  },
  {
   "cell_type": "markdown",
   "metadata": {},
   "source": []
  }
 ],
 "metadata": {
  "anaconda-cloud": {},
  "kernelspec": {
   "display_name": "Python [Root]",
   "language": "python",
   "name": "Python [Root]"
  },
  "language_info": {
   "codemirror_mode": {
    "name": "ipython",
    "version": 3
   },
   "file_extension": ".py",
   "mimetype": "text/x-python",
   "name": "python",
   "nbconvert_exporter": "python",
   "pygments_lexer": "ipython3",
   "version": "3.5.2"
  }
 },
 "nbformat": 4,
 "nbformat_minor": 0
}
