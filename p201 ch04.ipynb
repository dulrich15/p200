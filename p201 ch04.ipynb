{
 "cells": [
  {
   "cell_type": "code",
   "execution_count": 1,
   "metadata": {
    "collapsed": true
   },
   "outputs": [],
   "source": [
    "import matplotlib.pyplot as plt\n",
    "import numpy as np\n",
    "\n",
    "from mpl_toolkits.mplot3d.axes3d import Axes3D\n",
    "\n",
    "%matplotlib inline"
   ]
  },
  {
   "cell_type": "code",
   "execution_count": 2,
   "metadata": {
    "collapsed": true
   },
   "outputs": [],
   "source": [
    "class TimeValue:\n",
    "    def __init__(self, time, value):\n",
    "        self.time = time * 1.0\n",
    "        self.value = value * 1.0\n",
    "\n",
    "    def __repr__(self):\n",
    "        return '({}, {})'.format(self.time, self.value)"
   ]
  },
  {
   "cell_type": "code",
   "execution_count": 3,
   "metadata": {
    "collapsed": false
   },
   "outputs": [],
   "source": [
    "class TimeSeries:\n",
    "    def __init__(self, points=[]):\n",
    "        self.series = []\n",
    "        for (time, value) in points:\n",
    "            self.append(time, value)\n",
    "        \n",
    "    def append(self, time, value):\n",
    "        self.series.append(TimeValue(time, value))\n",
    "        self.series = sorted(self.series, key=lambda x: x.time)\n",
    "        \n",
    "    @property\n",
    "    def initial(self):\n",
    "        return self.series[0]\n",
    "    \n",
    "    @property\n",
    "    def timeline(self):\n",
    "        return [x.time for x in self.series]\n",
    "    \n",
    "    @property\n",
    "    def values(self):\n",
    "        return [x.value for x in self.series]\n",
    "    \n",
    "    @property\n",
    "    def components(self, i=None):\n",
    "        try:\n",
    "            return list(zip(*self.values))\n",
    "        except:\n",
    "            return [self.values]\n",
    "\n",
    "    def plot(self, toggle='0', loc='best', pad=False, grid=True, marker=None, labels=None, colors=None, lw=1):\n",
    "        if len(self.components) > 1:\n",
    "            plt.plot(self.timeline, self.values, marker=marker)\n",
    "            if loc:\n",
    "                plt.legend(['x','y','z'][:len(self.components)], loc=loc, numpoints=1)\n",
    "        else:\n",
    "            ts = dict()\n",
    "            ts['0'] = self\n",
    "            ts['1'] = self.rate_of_change()\n",
    "            ts['2'] = self.rate_of_change().rate_of_change()\n",
    "            \n",
    "            if colors is None:\n",
    "                colors = [None, None, None]\n",
    "            else:\n",
    "                colors = colors * len(toggle) # just in case...\n",
    "\n",
    "            if labels is None:\n",
    "                labels = ['position', 'velocity', 'acceleration']\n",
    "            else:\n",
    "                labels += [None] * (len(toggle) - len(labels)) # just in case...\n",
    "\n",
    "            if len(toggle) > 1:\n",
    "                plt.figure(figsize=(6 * len(toggle), 4))\n",
    "                \n",
    "            for i, tog in enumerate(toggle):\n",
    "                if len(toggle) > 1:\n",
    "                    plt.subplot(1, len(toggle), toggle.index(tog) + 1)\n",
    "                plt.plot(ts[tog].timeline, ts[tog].values, marker=marker, \n",
    "                         label=labels[i], color=colors[i], lw=lw)\n",
    "                plt.xlabel('Time')\n",
    "                if pad:\n",
    "                    plt.margins(0.05)\n",
    "                    dt = 0.03 * (self.timeline[-1] - self.timeline[0])\n",
    "                    plt.axes().set_xlim([self.timeline[0] - dt, self.timeline[-1] + dt])\n",
    "                if grid:\n",
    "                    plt.grid(True)\n",
    "                    plt.gca().axhline(0, c='k')\n",
    "                if loc and labels[i]:\n",
    "                    plt.legend(loc=loc, numpoints=1)\n",
    "                            \n",
    "    def plot2d(self, toggle='0', x_index=0, y_index=1, title='', colors='', labels=[],\n",
    "               grid=True, pad=0.05, loc=None, markevery=0, arrows=False):\n",
    "        \n",
    "        x = dict()\n",
    "        y = dict()\n",
    "        \n",
    "        r = self\n",
    "        x['0'] = r.components[x_index]\n",
    "        y['0'] = r.components[y_index]\n",
    "\n",
    "        v = r.rate_of_change()\n",
    "        x['1'] = v.components[x_index]\n",
    "        y['1'] = v.components[y_index]\n",
    "\n",
    "        a = v.rate_of_change()\n",
    "        x['2'] = a.components[x_index]\n",
    "        y['2'] = a.components[y_index]\n",
    "\n",
    "        color = dict()\n",
    "        if colors:\n",
    "            for i, tog in enumerate(toggle):\n",
    "                color[tog] = colors[i]\n",
    "        else:\n",
    "            color['0'] = 'b'\n",
    "            color['1'] = 'g'\n",
    "            color['2'] = 'r'            \n",
    "\n",
    "        label = dict()\n",
    "        if labels:\n",
    "            for i, tog in enumerate(toggle):\n",
    "                label[tog] = labels[i]\n",
    "        else:\n",
    "            label['0'] = 'position'\n",
    "            label['1'] = 'velocity'\n",
    "            label['2'] = 'acceleration'\n",
    "                \n",
    "        for i, tog in enumerate(toggle):\n",
    "            plt.plot(x[tog], y[tog], c=color[tog], markevery=[-1], \n",
    "                     marker='o', mfc='w', mec=color[tog], mew=1)\n",
    "            if markevery:\n",
    "                plt.plot(x[tog][:-1], y[tog][:-1], lw=0, markevery=markevery, \n",
    "                         marker='.', mec=color[tog])\n",
    "            \n",
    "        plt.axes().set_aspect('equal')\n",
    "        plt.margins(pad)\n",
    "        if loc:\n",
    "            plt.legend(numpoints=1, loc=loc, labels=labels)\n",
    "        plt.title(title)\n",
    "        \n",
    "        if grid:\n",
    "            plt.grid(True)\n",
    "            plt.axes().axhline(0, c='k')\n",
    "            plt.axes().axvline(0, c='k')\n",
    "\n",
    "        if arrows:\n",
    "            xmin, xmax = plt.xlim()\n",
    "            ymin, ymax = plt.ylim()\n",
    "            size = 0.5 * (xmax - xmin) + 0.5 * (ymax - ymin)\n",
    "            head_size = {\n",
    "                'head_width': 0.03 * size,\n",
    "                'head_length': 0.05 * size,\n",
    "            }\n",
    "            if '1' in toggle:\n",
    "                plt.axes().arrow(x['0'][-1], y['0'][-1], x['1'][-1], y['1'][-1], \n",
    "                                 fc=color['1'], ec=color['1'], **head_size)\n",
    "            if '2' in toggle:\n",
    "                plt.axes().arrow(x['0'][-1], y['0'][-1], x['2'][-1], y['2'][-1], \n",
    "                                 fc=color['2'], ec=color['2'], **head_size)\n",
    "             \n",
    "    @property\n",
    "    def intervals(self):\n",
    "        intervals = []\n",
    "        for i in range(1, len(self.series)):\n",
    "            intervals.append((self.series[i - 1], self.series[i]))\n",
    "        return intervals    \n",
    " \n",
    "    def get_interval(self, time): # closed on left [a, b)\n",
    "        tmin = min(self.timeline)\n",
    "        tmax = max(self.timeline)\n",
    "        if time < tmin:\n",
    "            return None, self.series[0]\n",
    "        elif time >= tmax:\n",
    "            return self.series[-1], None\n",
    "        else:\n",
    "            for a, b in self.intervals:\n",
    "                if a.time <= time and time < b.time:\n",
    "                    return a, b\n",
    "    \n",
    "    def rate_of_change(self):\n",
    "        ts = TimeSeries()\n",
    "        for i, (a, b) in enumerate(self.intervals):\n",
    "            dx = b.value - a.value\n",
    "            dt = b.time - a.time\n",
    "            if 1 == 0:\n",
    "                ts.append(a.time, dx/dt)\n",
    "            else:\n",
    "                ts.append(a.time + dt/2, dx/dt)\n",
    "        return ts\n",
    "                \n",
    "    def __call__(self, time):\n",
    "        a, b = self.get_interval(time)\n",
    "        # this method will not extrapolate, but we do need to take care of this edge case...\n",
    "        if b is None and round(a.time - time, 10) == 0:\n",
    "            return a.value\n",
    "        else:\n",
    "            dx = b.value - a.value\n",
    "            dt = b.time - a.time\n",
    "            return a.value + dx/dt * (time - a.time)\n",
    "\n",
    "    def __getitem__(self, index):\n",
    "        if isinstance(index, int):\n",
    "            return self.series[index]\n",
    "        elif isinstance(index, slice):\n",
    "            return self.series[index]\n",
    "        else:\n",
    "            raise TypeError(\"index must be int or slice\")\n",
    "        \n",
    "    def __repr__(self):\n",
    "        import pprint\n",
    "        return pprint.pformat(self.series)\n"
   ]
  },
  {
   "cell_type": "code",
   "execution_count": 4,
   "metadata": {
    "collapsed": false
   },
   "outputs": [],
   "source": [
    "class Particle():\n",
    "    def __init__(self, mass=1, t0=0, r0=None, v0=None, p0=None, dim=1):\n",
    "        \n",
    "        # The only purpose of the following is to redefine the defaults\n",
    "        # I am *not* error-checking the input parameters...\n",
    "\n",
    "        if isinstance(r0, np.ndarray):\n",
    "            dim = max(len(r0), dim)\n",
    "        if isinstance(v0, np.ndarray):\n",
    "            dim = max(len(v0), dim)\n",
    "\n",
    "        if r0 is None:\n",
    "            if dim == 1:\n",
    "                r0 = 0\n",
    "            else:\n",
    "                r0 = np.zeros(dim)\n",
    "            \n",
    "        if v0 is None:\n",
    "            if dim == 1:\n",
    "                v0 = 0\n",
    "            else:\n",
    "                v0 = np.zeros(dim)\n",
    "                    \n",
    "        self.mass = mass\n",
    "        self.position = TimeSeries([(t0, r0)])\n",
    "        if self.mass and p0 is None:\n",
    "            self.momentum = TimeSeries([(t0, self.mass * v0)])\n",
    "        else:\n",
    "            self.momentum = TimeSeries([(t0, p0)])\n",
    "        self.forces = {}\n",
    "\n",
    "    def add_force(self, force, name=None):\n",
    "        if name is None:\n",
    "            name = len(self.forces)\n",
    "        self.forces[name] = ( lambda t, obj=self: force(obj, t) )\n",
    "        \n",
    "    def net_force(self, time): # momentum flow or rate of change\n",
    "        net_force = 0\n",
    "        for name, force in self.forces.items():\n",
    "            net_force += force(time)\n",
    "        return net_force\n",
    "\n",
    "    def velocity(self, time): # position flow or rate of change\n",
    "        if time > max(self.momentum.timeline):\n",
    "            time = max(self.momentum.timeline)\n",
    "        return self.momentum(time) / self.mass\n",
    "\n",
    "    def acceleration(self, time):\n",
    "        r = self.position\n",
    "        v = r.rate_of_change()\n",
    "        a = v.rate_of_change()\n",
    "        if time >= a.timeline[-1]:\n",
    "            return a.values[-1]\n",
    "        elif time <= a.timeline[0]:\n",
    "            return a.values[0]\n",
    "        else:\n",
    "            return a(time)\n",
    "    \n",
    "    def increment(self, dt, n=1):\n",
    "        for i in range(n):\n",
    "            t = max(self.position.timeline)\n",
    "\n",
    "            if len(self.position.timeline) == 1: # then only go forward half an increment            \n",
    "                next_p = self.momentum(t) + self.net_force(t) * dt/2\n",
    "                self.momentum = TimeSeries() # throw out that \"initial\" value\n",
    "            else: # reach back half an increment to calculate the new momentum value\n",
    "                next_p = self.momentum(t - dt/2) + self.net_force(t) * dt\n",
    "\n",
    "            self.momentum.append(t + dt/2, next_p)\n",
    "            next_r = self.position(t) + self.velocity(t + dt/2) * dt        \n",
    "            self.position.append(t + dt, next_r)"
   ]
  },
  {
   "cell_type": "code",
   "execution_count": 5,
   "metadata": {
    "collapsed": true
   },
   "outputs": [],
   "source": [
    "class PhysicalSystem():\n",
    "    def __init__(self, initial=[]):\n",
    "        self.objs = list()\n",
    "        for (mass, r0, v0) in initial:\n",
    "            self.objs.append(Particle(mass=mass, r0=r0, v0=v0))\n",
    "                    \n",
    "        for obj1 in self.objs:\n",
    "            for obj2 in self.objs:\n",
    "                if obj1 != obj2: # no self-interactions !\n",
    "                    internal_force = lambda t, obj1=obj1, obj2=obj2: self.interaction(obj1, obj2, t)\n",
    "                    obj1.forces.append(internal_force)\n",
    "                    \n",
    "    def interaction(self, obj1, obj2, time):\n",
    "        return 0\n",
    "                    \n",
    "    def increment(self, dt, n=1):\n",
    "        for i in range(n):\n",
    "            for obj in self.objs:\n",
    "                obj.increment(dt)\n",
    "                \n",
    "    def plot(self):\n",
    "        for i, obj in enumerate(self.objs):\n",
    "            obj.position.plot(legend_loc=None)\n",
    "            \n",
    "    def plot2d(self, colors='bgrcmyk'*9, **kwargs):\n",
    "        for i, obj in enumerate(self.objs):\n",
    "            obj.position.plot2d(color=colors[i], **kwargs)"
   ]
  },
  {
   "cell_type": "code",
   "execution_count": 6,
   "metadata": {
    "collapsed": true
   },
   "outputs": [],
   "source": [
    "import cmath\n",
    "\n",
    "class RigidObject(Particle):\n",
    "    def __init__(self, mass=1, t0=0, r0=0, p0=0, v0=None, moi=1, q0=1+0j, L0=0+0j, w0=None):\n",
    "        Particle.__init__(self, mass, t0, r0, p0, v0)\n",
    "        self.moi = moi\n",
    "        self.attitude = TimeSeries([(t0, q0)])\n",
    "        self.angular_displacement = TimeSeries([(t0, cmath.phase(q0))])\n",
    "        if self.moi and w0 is not None:\n",
    "            self.angular_momentum = TimeSeries([(t0, self.moi * w0)])\n",
    "        else:\n",
    "            self.angular_momentum = TimeSeries([(t0, L0)])\n",
    "        self.torques = []\n",
    "    \n",
    "    def add_torque(self, torque):\n",
    "        self.torques.append(lambda t, obj=self: torque(obj, t))        \n",
    "        \n",
    "    def net_torque(self, time): # angular_momentum flow or rate of change\n",
    "        net_torque = 0+0j\n",
    "        for tau in self.torques:\n",
    "            net_torque += tau(time)\n",
    "        return net_torque\n",
    "\n",
    "    def rotational_velocity(self, time): # attitude flow or rate of change\n",
    "        if time > max(self.angular_momentum.timeline):\n",
    "            time = max(self.angular_momentum.timeline)\n",
    "        return self.angular_momentum(time) / self.moi\n",
    "    \n",
    "    def increment(self, dt, n=1):\n",
    "        for i in range(n):\n",
    "            Particle.increment(self, dt, 1)\n",
    "            \n",
    "            t = max(self.attitude.timeline)\n",
    "\n",
    "            if len(self.attitude.timeline) == 1: # then only go forward half an increment            \n",
    "                next_L = self.angular_momentum(t) + self.net_torque(t) * dt/2\n",
    "                self.angular_momentum = TimeSeries() # throw out that \"initial\" value\n",
    "            else: # reach back half an increment to calculate the new momentum value\n",
    "                next_L = self.angular_momentum(t - dt/2) + self.net_torque(t) * dt                \n",
    "\n",
    "                q = self.angular_displacement(t - dt)\n",
    "                q += self.rotational_velocity(t + dt/2) * dt\n",
    "                self.angular_displacement.append(t, q)\n",
    "\n",
    "            self.angular_momentum.append(t + dt/2, next_L)\n",
    "            rotor = np.exp( 1j * self.rotational_velocity(t + dt/2) * dt )\n",
    "            next_attitude = self.attitude(t) * rotor\n",
    "            self.attitude.append(t + dt, next_attitude)"
   ]
  },
  {
   "cell_type": "markdown",
   "metadata": {},
   "source": [
    "- Ch 01: 1,3,5,12,13,45,46,49,59,61\n",
    "- Ch 02: 1,3,15,28,29,45,51,53,67,68,78,79,81\n",
    "- Ch 03: 5,7,8,9,19,30,35,57,59,69,71\n",
    "- Ch 04: 1,11,38,39,42,56,79,81,98,103,104\n",
    "- Ch 05: 5,7,8,9,15,23,27,31,41,52,56\n",
    "- Ch 06: 3,5,6,8,13,19,29,33,38,41,64,68,77\n",
    "- Ch 07: 1,5,7,19,21,29,31,33,35,41\n",
    "- Ch 08: 1,3,9,21,23,25,37,39,42,53,54,56,68,69\n",
    "- Ch 09: 1,6,12,15,31,33,34,48,51,63,64,71,73"
   ]
  },
  {
   "cell_type": "markdown",
   "metadata": {},
   "source": [
    "## Chapter 4"
   ]
  },
  {
   "cell_type": "code",
   "execution_count": 8,
   "metadata": {
    "collapsed": false
   },
   "outputs": [],
   "source": [
    "def vmag(a):\n",
    "    vmag = np.sqrt( a[0] ** 2 + a[1] ** 2 )\n",
    "    return vmag\n",
    "\n",
    "def vdir(a):\n",
    "    if vmag(a) == 0:\n",
    "        vdir = np.array([1,0]) # it doesn't matter since magnitude = 0\n",
    "    else:\n",
    "        vdir = a / vmag(a)\n",
    "    return vdir\n",
    "        \n",
    "def vang(a, deg=True):\n",
    "    vang = np.arctan2(a[1], a[0])\n",
    "    if deg:\n",
    "        vang = vang * 180/np.pi\n",
    "    return vang\n",
    "\n",
    "def vect(mag, ang, deg=True):\n",
    "    if deg:\n",
    "        ang = ang * np.pi/180\n",
    "    return mag * np.array([np.cos(ang), np.sin(ang)])\n",
    "\n",
    "def vdot(a, b):\n",
    "    assert len(a) == len(b)\n",
    "    vdot = 0\n",
    "    for i in range(len(a)):\n",
    "        vdot += a[i] * b[i]\n",
    "    return vdot"
   ]
  },
  {
   "cell_type": "code",
   "execution_count": 9,
   "metadata": {
    "collapsed": true
   },
   "outputs": [],
   "source": [
    "def weight(obj):\n",
    "    return np.array([0, -9.8 * obj.mass])\n",
    "\n",
    "def support(obj, normal=np.array([0,1])):\n",
    "    net_force = obj.net_force(t)\n",
    "    net_force_proj = vdot(net_force, normal)\n",
    "    support = -net_force_proj * normal\n",
    "    return support\n",
    "\n",
    "def friction(obj, support, mu_s=1, mu_k=1):\n",
    "    net_force = obj.net_force(t)\n",
    "    v = obj.velocity(t)\n",
    "    \n",
    "    frickin = False\n",
    "    if vmag(v) > 0:\n",
    "        frickin = True\n",
    "    if vmag(net_force) > mu_s * vmag(support): # maximum static friction\n",
    "        frickin = True\n",
    "        \n",
    "    if frickin: # then use kinetic friction\n",
    "        friction = -mu_k * vmag(support) * vdir(v)\n",
    "    else: # create equilibrium\n",
    "        friction = -net_force\n",
    "        \n",
    "    return friction"
   ]
  },
  {
   "cell_type": "markdown",
   "metadata": {},
   "source": [
    "**Problem 001**\n",
    "\n",
    "An airplane has a mass of 31,000 kilograms and takes off under the influence of a constant net force of 37,000 newtons. What is the net force that acts on the 78-kilogram pilot?\n",
    "\n",
    "*Answer:* 93 newtons"
   ]
  },
  {
   "cell_type": "code",
   "execution_count": 10,
   "metadata": {
    "collapsed": false
   },
   "outputs": [
    {
     "name": "stdout",
     "output_type": "stream",
     "text": [
      "a. Momentum flow to pilot = 93.1 kg-m/s per second\n",
      "b. Force on pilot = 93.1 newtons\n"
     ]
    }
   ],
   "source": [
    "mass_of_plane = 31000\n",
    "mass_of_pilot = 78\n",
    "\n",
    "momentum_flow_to_whole = 37000\n",
    "ratio_of_part_to_whole = mass_of_pilot / mass_of_plane\n",
    "momentum_flow_to_part = momentum_flow_to_whole * ratio_of_part_to_whole\n",
    "print('a. Momentum flow to pilot = {:.1f} kg-m/s per second'.format(momentum_flow_to_part))\n",
    "\n",
    "force_on_plane = 37000\n",
    "acceleration_of_plane = force_on_plane / mass_of_plane\n",
    "acceleration_of_pilot = acceleration_of_plane\n",
    "force_on_pilot = mass_of_pilot * acceleration_of_pilot\n",
    "print('b. Force on pilot = {:.1f} newtons'.format(force_on_pilot))"
   ]
  },
  {
   "cell_type": "markdown",
   "metadata": {},
   "source": [
    "**Problem 011**\n",
    "\n",
    "Only two forces act on an object (mass = 3.00 kilograms), as in the drawing. Find the magnitude and direction (relative to the `x` axis) of the acceleration of the object.\n",
    "\n",
    "*Answer:* 30.9 m/s² at 27.2°"
   ]
  },
  {
   "cell_type": "code",
   "execution_count": 11,
   "metadata": {
    "collapsed": false
   },
   "outputs": [
    {
     "name": "stdout",
     "output_type": "stream",
     "text": [
      "The acceleration is 30.9 m/s² at 27.2°\n"
     ]
    },
    {
     "data": {
      "image/png": "[encoded data removed]",
      "text/plain": [
       "<matplotlib.figure.Figure at 0x7f2185e50588>"
      ]
     },
     "metadata": {},
     "output_type": "display_data"
    }
   ],
   "source": [
    "force1 = vect(mag=40, ang=0)\n",
    "force2 = vect(mag=60, ang=45)\n",
    "\n",
    "obj = Particle(mass=3, dim=2)\n",
    "obj.add_force(lambda obj, t: force1)\n",
    "obj.add_force(lambda obj, t: force2)\n",
    "obj.increment(0.1, 10)\n",
    "\n",
    "t = obj.position.timeline[-1]\n",
    "a = obj.acceleration(t)\n",
    "mag = vmag(a)\n",
    "ang = vang(a)\n",
    "\n",
    "print('The acceleration is {:.1f} m/s² at {:.1f}°'.format(mag, ang))\n",
    "\n",
    "obj.position.plot2d(markevery=1)"
   ]
  },
  {
   "cell_type": "markdown",
   "metadata": {},
   "source": [
    "**Problem 038**\n",
    "\n",
    "A 35-kilogram crate rests on a horizontal floor, and a 65-kilogram person is standing on a crate. Determine the magnitude of the normal force that (a) the floor exerts on the crate and (b) the crate exerts on the person.\n",
    "\n",
    "*Answer:* (a) 980 newtons (b) 640 newtons"
   ]
  },
  {
   "cell_type": "code",
   "execution_count": 12,
   "metadata": {
    "collapsed": false
   },
   "outputs": [
    {
     "name": "stdout",
     "output_type": "stream",
     "text": [
      "The force of the floor on the crate = 980 newtons\n",
      "The force of the crate on the person = 637 newtons\n",
      "\n",
      "Said differently...\n",
      "\n",
      "The momentum flow to the crate from the floor = 980 kg-m/s per second\n",
      "The momentum flow to the person from the crate = 637 kg-m/s per second\n"
     ]
    }
   ],
   "source": [
    "weight_of_crate = 35 * 9.8\n",
    "weight_of_person = 65 * 9.8\n",
    "total_weight = weight_of_crate + weight_of_person\n",
    "\n",
    "'''\n",
    "Momentum flows into the person due to his/her weight. However, none of this momentum remains in the body. How \n",
    "do we know that? Because it does not move. Where does it go? It must go into the crate. \n",
    "\n",
    "The crate also receives momentum due to its weight. But the crate doesn't move either. So all of this momentum \n",
    "must be shed to the floor.\n",
    "\n",
    "Fine --- but this describes the force the crate exerts on the floor. Downward momentum (from weight) flows\n",
    "down from person to crate to floor. Compression results when momentum flows in the direction it points.\n",
    "\n",
    "Compression works both ways. What is the opposite of downward momentum? Upward momentum. The floor supports the\n",
    "crate (and person). Said differently, the floor supplies an *upward* force --- which implies that the floor\n",
    "supplies upward momentum to the crate.\n",
    "\n",
    "How do we reconcile this? Here is the key: we consider upward momentum flowing up *the same as* downward \n",
    "momentum flowing down. The two opposites senses cancel. Be careful: we do not have two different flows that \n",
    "cancel. No, we have one momentum flow described two different ways.\n",
    "\n",
    "This is true in general. The flow of a quantity is equivalent to flow in the opposite direction of the opposite \n",
    "quantity. The most common form of flow, mass flow, cannot be considered this way since mass does not have an\n",
    "opposite, but electric charge does. This principle of momentum flow is Newton's 3rd law. \n",
    "\n",
    "This shows how Newton's third law works in this case and why the force the floor exerts on the crate is equal\n",
    "to the weight of both the crate and the person. \n",
    "\n",
    "Continuing the (separate) analysis from this perspective, this total upward momentum flows up into the crate. \n",
    "The downward momentum from its weight cancels out some of this upward flow. The remainder makes it up to the \n",
    "top of the crate and flows into the person. This remainder is exactly canceled by the weight of the person.\n",
    "'''\n",
    "\n",
    "print('The force of the floor on the crate = {:.0f} newtons'.format(total_weight))\n",
    "print('The force of the crate on the person = {:.0f} newtons'.format(weight_of_person))\n",
    "print('')\n",
    "print('Said differently...')\n",
    "print('')\n",
    "print('The momentum flow to the crate from the floor = {:.0f} kg-m/s per second'.format(total_weight))\n",
    "print('The momentum flow to the person from the crate = {:.0f} kg-m/s per second'.format(weight_of_person))"
   ]
  },
  {
   "cell_type": "markdown",
   "metadata": {},
   "source": [
    "**Problem 039**\n",
    "\n",
    "A 60.0-kilogram crate rests on a level floor at a shipping dock. The coefficients of static and kinetic friction are 0.760 and 0.410, respectively. What horizontal pushing force is required to (a) just start the crate moving and (b) slide the crate across the dock at a constant speed?\n",
    "\n",
    "*Answer:* (a) 447 newtons (b) 241 newtons"
   ]
  },
  {
   "cell_type": "code",
   "execution_count": 13,
   "metadata": {
    "collapsed": false
   },
   "outputs": [
    {
     "name": "stdout",
     "output_type": "stream",
     "text": [
      "Pushing force (static) = 447 newtons\n",
      "Pushing force (moving) = 241 newtons\n"
     ]
    }
   ],
   "source": [
    "for v0 in [0,1]:\n",
    "    mag_ext_force = 0\n",
    "    for dF in [100, 10, 1, 0.1]:\n",
    "        while True:\n",
    "            mag_ext_force += dF\n",
    "\n",
    "            obj = Particle(mass=60, v0=np.array([v0,0]))\n",
    "            obj.add_force(lambda obj, t: weight(obj))\n",
    "            obj.add_force(lambda obj, t: np.array([mag_ext_force, 0]))\n",
    "\n",
    "            t = obj.position.timeline[-1]\n",
    "            \n",
    "            x = support(obj)\n",
    "            obj.add_force(lambda obj, t: x)\n",
    "\n",
    "            y = friction(obj, support=x, mu_s=0.760, mu_k=0.410)\n",
    "            obj.add_force(lambda obj, t: y)\n",
    "            \n",
    "            obj.increment(0.1,10)\n",
    "\n",
    "            ax, ay = obj.acceleration(t)\n",
    "\n",
    "            if ax > 0.00001:\n",
    "                break\n",
    "\n",
    "        mag_ext_force -= dF \n",
    "\n",
    "    if v0 == 0:\n",
    "        movsta = 'static'\n",
    "    else:\n",
    "        movsta = 'moving'\n",
    "        \n",
    "    print('Pushing force ({}) = {:.0f} newtons'.format(movsta, mag_ext_force))"
   ]
  },
  {
   "cell_type": "markdown",
   "metadata": {},
   "source": [
    "**Problem 042**\n",
    "\n",
    "A woman stands on a scale in a moving elevator. Her mass is 60.0 kilograms, and the combined mass of the elevator and the scale is an additional 815 kilograms. Starting from rest, the elevator accelerates upward. During the acceleration, the hoisting cable applies a force of 9410 newtons. What does the scale read during the acceleration?\n",
    "\n",
    "*Answer:* 645 newtons"
   ]
  },
  {
   "cell_type": "code",
   "execution_count": 14,
   "metadata": {
    "collapsed": false
   },
   "outputs": [
    {
     "name": "stdout",
     "output_type": "stream",
     "text": [
      "The acceleration of the woman and the elevator are 0.95 and 0.95 m/s² respectively\n",
      "The support force (which is the measured weight) is 645 newtons\n",
      "But her actual weight is 588 newtons\n"
     ]
    }
   ],
   "source": [
    "mag_support = 0\n",
    "for dF in [100, 10, 1, 0.1, 0.01, 0.001]:\n",
    "    while True:\n",
    "        mag_support += dF\n",
    "        support_force = np.array([0,mag_support])\n",
    "        \n",
    "        obj1 = Particle(mass=60) # woman\n",
    "        obj1.add_force(lambda obj, t: weight(obj1))\n",
    "        obj1.add_force(lambda obj, t: support_force)\n",
    "\n",
    "        obj2 = Particle(mass=815) # elevator\n",
    "        obj2.add_force(lambda obj, t: weight(obj2))\n",
    "        obj2.add_force(lambda obj, t: np.array([0, 9410])) # pulling force\n",
    "        obj2.add_force(lambda obj, t: -support_force)\n",
    "\n",
    "        obj1.increment(0.1,10)\n",
    "        obj2.increment(0.1,10)\n",
    "\n",
    "        t = obj1.position.timeline[-1]\n",
    "        vf1x, vf1y = obj1.velocity(t)\n",
    "        vf2x, vf2y = obj2.velocity(t)\n",
    "        \n",
    "        if vf1y > vf2y:\n",
    "            break\n",
    "\n",
    "    mag_support -= dF\n",
    "\n",
    "a1 = vmag(obj1.acceleration(t))\n",
    "a2 = vmag(obj2.acceleration(t))\n",
    "\n",
    "print('The acceleration of the woman and the elevator are {:.2f} and {:.2f} m/s² respectively'.format(a1, a2))\n",
    "print('The support force (which is the measured weight) is {:.0f} newtons'.format(mag_support))\n",
    "print('But her actual weight is {:.0f} newtons'.format(vmag(weight(obj1))))"
   ]
  },
  {
   "cell_type": "markdown",
   "metadata": {},
   "source": [
    "**Problem 056**\n",
    "\n",
    "Part (a) of the drawing shows a bucket of water suspended from the pulley of a well; the tension in the rope is 92.0 newtons. Part (b) shows the same bucket of water being pulled up from the well at a constant velocity. What is the tension in the rope in part (b)?\n",
    "\n",
    "*Answer:* 184 newtons"
   ]
  },
  {
   "cell_type": "code",
   "execution_count": 15,
   "metadata": {
    "collapsed": false
   },
   "outputs": [
    {
     "name": "stdout",
     "output_type": "stream",
     "text": [
      "(a) Weight of bucket = 184 newtons\n",
      "(b) Final tension = 184 newtons\n"
     ]
    }
   ],
   "source": [
    "mag_weight = 0\n",
    "for dF in [1000, 100, 10, 1, 0.1, 0.01]:\n",
    "    while True:\n",
    "        mag_weight += dF\n",
    "        \n",
    "        obj = Particle()\n",
    "        obj.add_force(lambda obj, t: 92)\n",
    "        obj.add_force(lambda obj, t: 92)\n",
    "        obj.add_force(lambda obj, t: -mag_weight)\n",
    "        \n",
    "        obj.increment(0.1,10)\n",
    "        \n",
    "        a = obj.acceleration(t)\n",
    "        if a < 0:\n",
    "            break\n",
    "            \n",
    "    mag_weight -= dF\n",
    "    \n",
    "print('(a) Weight of bucket = {:.0f} newtons'.format(mag_weight))\n",
    "\n",
    "mag_tension = 0\n",
    "for dF in [1000, 100, 10, 1, 0.1, 0.01]:\n",
    "    while True:\n",
    "        mag_tension += dF\n",
    "        \n",
    "        obj = Particle()\n",
    "        obj.add_force(lambda obj, t: mag_tension)\n",
    "        obj.add_force(lambda obj, t: -mag_weight)\n",
    "        \n",
    "        obj.increment(0.1,10)\n",
    "        \n",
    "        a = obj.acceleration(t)\n",
    "        if a > 0:\n",
    "            break\n",
    "            \n",
    "    mag_tension -= dF\n",
    "    \n",
    "print('(b) Final tension = {:.0f} newtons'.format(mag_tension))"
   ]
  },
  {
   "cell_type": "markdown",
   "metadata": {},
   "source": [
    "**Problem 079**\n",
    "\n",
    "A student is skateboarding down a ramp that is 6.0 meters long and inclined at 18° with respect to the horizontal. The initial speed of the skateboarder at the top of the ramp is 2.6 m/s. Neglect friction and find the speed at the bottom of the ramp.\n",
    "\n",
    "*Answer:* 6.6 m/s"
   ]
  },
  {
   "cell_type": "code",
   "execution_count": 16,
   "metadata": {
    "collapsed": false
   },
   "outputs": [
    {
     "name": "stdout",
     "output_type": "stream",
     "text": [
      "Final position = 6.00 meters\n",
      "Final velocity = 6.57 m/s\n",
      "Final acceleration = 3.03 m/s²\n"
     ]
    },
    {
     "data": {
      "image/png": "[encoded data removed]",
      "text/plain": [
       "<matplotlib.figure.Figure at 0x7f2185f40400>"
      ]
     },
     "metadata": {},
     "output_type": "display_data"
    }
   ],
   "source": [
    "mag = 2.6\n",
    "ang = -18 * np.pi/180\n",
    "v0 = mag * np.array([np.cos(ang), np.sin(ang)])\n",
    "\n",
    "ang += np.pi/2\n",
    "ramp_normal = np.array([np.cos(ang), np.sin(ang)])\n",
    "\n",
    "for dt in [0.001]:\n",
    "    obj = Particle(v0=v0)\n",
    "    obj.add_force(lambda obj, t: weight(obj))\n",
    "    \n",
    "    t = obj.position.timeline[-1]\n",
    "    x = support(obj, ramp_normal)\n",
    "\n",
    "    obj.add_force(lambda obj, t: x)\n",
    "    \n",
    "    while True:\n",
    "        obj.increment(dt)\n",
    "        r = vmag(obj.position.values[-1])\n",
    "        if r > 6.0:\n",
    "            break\n",
    "\n",
    "t = obj.position.timeline[-1]\n",
    "v = vmag(obj.velocity(t))\n",
    "a = vmag(obj.acceleration(t))\n",
    "            \n",
    "print('Final position = {:.2f} meters'.format(r))\n",
    "print('Final velocity = {:.2f} m/s'.format(v))\n",
    "print('Final acceleration = {:.2f} m/s²'.format(a))\n",
    "\n",
    "obj.position.plot2d(markevery=100)"
   ]
  },
  {
   "cell_type": "markdown",
   "metadata": {},
   "source": [
    "**Problem 081**\n",
    "\n",
    "A 205-kilogram log is pulled by a ramp by means of a rope that is parallel to the surface of the ramp. The ramp is inclined at 30.0° with respect to the horizontal. The coefficient of kinetic friction between the log and the ramp is 0.900, and the log has an acceleration of magnitude 0.800 m/s². Find the tension in the rope.\n",
    "\n",
    "*Answer:* 2730 newtons"
   ]
  },
  {
   "cell_type": "code",
   "execution_count": 17,
   "metadata": {
    "collapsed": false,
    "scrolled": true
   },
   "outputs": [
    {
     "name": "stdout",
     "output_type": "stream",
     "text": [
      "Final acceleration = 0.80 m/s²\n",
      "Final tension = 2734 newtons\n"
     ]
    },
    {
     "data": {
      "image/png": "[encoded data removed]",
      "text/plain": [
       "<matplotlib.figure.Figure at 0x7f2185efbb70>"
      ]
     },
     "metadata": {},
     "output_type": "display_data"
    }
   ],
   "source": [
    "ramp_ang = 30\n",
    "ramp_normal = vect(1, ramp_ang + 90)\n",
    "\n",
    "mag_tension = 0\n",
    "for dF in [1000, 100, 10, 1]:\n",
    "    while True:\n",
    "        mag_tension += dF\n",
    "        \n",
    "        v0 = vect(0.01, ramp_ang)\n",
    "        obj = Particle(mass=205, v0=v0)\n",
    "        obj.add_force(lambda obj, t: weight(obj))\n",
    "\n",
    "        tension = vect(mag_tension, ramp_ang)\n",
    "        obj.add_force(lambda obj, t: tension)\n",
    "\n",
    "        x = support(obj, normal=ramp_normal)\n",
    "        obj.add_force(lambda obj, t: x)\n",
    "\n",
    "        y = friction(obj, support=x, mu_k=0.900)\n",
    "        obj.add_force(lambda obj, t: y)\n",
    "        \n",
    "        obj.increment(0.1,10)\n",
    "        \n",
    "        t = obj.position.timeline[-1]\n",
    "        a = vmag(obj.acceleration(t))\n",
    "        ax, ay = obj.acceleration(t)\n",
    "        if ax > 0 and a > 0.8:\n",
    "            break\n",
    "            \n",
    "    mag_tension -= dF\n",
    "    \n",
    "print('Final acceleration = {:.2f} m/s²'.format(a))\n",
    "print('Final tension = {:.0f} newtons'.format(mag_tension))\n",
    "\n",
    "obj.position.plot2d(markevery=1)"
   ]
  },
  {
   "cell_type": "markdown",
   "metadata": {},
   "source": [
    "**Problem 098**\n",
    "\n",
    "Two forces, `F1` and `F2`, act on the 7.00-kilogram block shown in the drawing. The magnitudes of the forces are 59.0 newtons and 33.0 newtons, respectively. What is the horizontal acceleration (magnitude and direction) of the block?\n",
    "\n",
    "*Answer:* 1.83 m/s² to the left"
   ]
  },
  {
   "cell_type": "code",
   "execution_count": 18,
   "metadata": {
    "collapsed": false
   },
   "outputs": [
    {
     "name": "stdout",
     "output_type": "stream",
     "text": [
      "Horizontal acceleration = -1.83 m/s²\n"
     ]
    }
   ],
   "source": [
    "force1 = vect(mag=59,ang=-70,deg=True)\n",
    "force2 = vect(mag=33,ang=180,deg=True)\n",
    "\n",
    "obj = Particle(mass=7)\n",
    "obj.add_force(lambda obj, t: force1)\n",
    "obj.add_force(lambda obj, t: force2)\n",
    "\n",
    "obj.increment(0.1,10)\n",
    "\n",
    "ax, ay = obj.acceleration(1)\n",
    "\n",
    "print('Horizontal acceleration = {:.2f} m/s²'.format(ax))"
   ]
  },
  {
   "cell_type": "markdown",
   "metadata": {},
   "source": [
    "**Problem 103**\n",
    "\n",
    "A 1380-kilogram car is moving due east with an initial speed of 27.0 m/s. After 8.00 seconds the car has slowed down to 17.0 m/s. Find the magnitude and direction of the net force that provides the deceleration.\n",
    "\n",
    "*Answer:* 1730 newtons due west"
   ]
  },
  {
   "cell_type": "code",
   "execution_count": 19,
   "metadata": {
    "collapsed": false
   },
   "outputs": [
    {
     "name": "stdout",
     "output_type": "stream",
     "text": [
      "Final velocity = 17.0 m/s\n",
      "Pushing force = -1736 newtons\n"
     ]
    }
   ],
   "source": [
    "pushing_force = 0\n",
    "for dF in [100, 10, 1, 0.1]:\n",
    "    while True:\n",
    "        pushing_force -= dF\n",
    "        obj = Particle(mass=1380,v0=27)\n",
    "        obj.add_force(lambda obj, t: pushing_force)\n",
    "        obj.increment(0.1,80)\n",
    "        \n",
    "        t = obj.position.timeline[-1]\n",
    "        v = obj.velocity(t)\n",
    "        if v < 17:\n",
    "            break\n",
    "            \n",
    "    pushing_force += dF\n",
    "    \n",
    "print('Final velocity = {:.1f} m/s'.format(v))\n",
    "print('Pushing force = {:.0f} newtons'.format(pushing_force))"
   ]
  },
  {
   "cell_type": "markdown",
   "metadata": {},
   "source": [
    "**Problem 104**\n",
    "\n",
    "When a 58-gram tennis ball is served, it accelerates from rest to a speed of 45 m/s. The impact with the racket gives the ball a constant acceleration over a distance of 44 centimeters. What is the magnitude of the net force acting on the ball?\n",
    "\n",
    "*Answer:* 130 newtons"
   ]
  },
  {
   "cell_type": "code",
   "execution_count": 20,
   "metadata": {
    "collapsed": false
   },
   "outputs": [
    {
     "name": "stdout",
     "output_type": "stream",
     "text": [
      "Final position = 0.442 meters\n",
      "Final velocity = 45.0 m/s\n",
      "Pushing force = 133.5 newtons\n"
     ]
    }
   ],
   "source": [
    "pushing_force = 0\n",
    "for dF in [100, 10, 1, 0.1, 0.01]:\n",
    "    while True:\n",
    "        pushing_force += dF\n",
    "        obj = Particle(mass=0.058,v0=0)\n",
    "        obj.add_force(lambda obj, t: pushing_force)\n",
    "        while True:\n",
    "            obj.increment(0.0001)\n",
    "            r = obj.position.values[-1]\n",
    "            if r > 0.44:\n",
    "                break\n",
    "        \n",
    "        t = obj.position.timeline[-1]\n",
    "        v = obj.velocity(t)\n",
    "        \n",
    "        if v > 45:\n",
    "            break\n",
    "            \n",
    "    pushing_force -= dF\n",
    "    \n",
    "print('Final position = {:.3f} meters'.format(r))\n",
    "print('Final velocity = {:.1f} m/s'.format(v))\n",
    "print('Pushing force = {:.1f} newtons'.format(pushing_force))"
   ]
  },
  {
   "cell_type": "code",
   "execution_count": null,
   "metadata": {
    "collapsed": true
   },
   "outputs": [],
   "source": []
  }
 ],
 "metadata": {
  "anaconda-cloud": {},
  "kernelspec": {
   "display_name": "Python [Root]",
   "language": "python",
   "name": "Python [Root]"
  },
  "language_info": {
   "codemirror_mode": {
    "name": "ipython",
    "version": 3
   },
   "file_extension": ".py",
   "mimetype": "text/x-python",
   "name": "python",
   "nbconvert_exporter": "python",
   "pygments_lexer": "ipython3",
   "version": "3.5.2"
  }
 },
 "nbformat": 4,
 "nbformat_minor": 0
}
