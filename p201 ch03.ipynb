{
 "cells": [
  {
   "cell_type": "code",
   "execution_count": 1,
   "metadata": {
    "collapsed": true
   },
   "outputs": [],
   "source": [
    "import matplotlib.pyplot as plt\n",
    "import numpy as np\n",
    "\n",
    "from mpl_toolkits.mplot3d.axes3d import Axes3D\n",
    "\n",
    "%matplotlib inline"
   ]
  },
  {
   "cell_type": "code",
   "execution_count": 2,
   "metadata": {
    "collapsed": true
   },
   "outputs": [],
   "source": [
    "class TimeValue:\n",
    "    def __init__(self, time, value):\n",
    "        self.time = time * 1.0\n",
    "        self.value = value * 1.0\n",
    "\n",
    "    def __repr__(self):\n",
    "        return '({}, {})'.format(self.time, self.value)"
   ]
  },
  {
   "cell_type": "code",
   "execution_count": 3,
   "metadata": {
    "collapsed": false
   },
   "outputs": [],
   "source": [
    "class TimeSeries:\n",
    "    def __init__(self, points=[]):\n",
    "        self.series = []\n",
    "        for (time, value) in points:\n",
    "            self.append(time, value)\n",
    "        \n",
    "    def append(self, time, value):\n",
    "        self.series.append(TimeValue(time, value))\n",
    "        self.series = sorted(self.series, key=lambda x: x.time)\n",
    "        \n",
    "    @property\n",
    "    def initial(self):\n",
    "        return self.series[0]\n",
    "    \n",
    "    @property\n",
    "    def timeline(self):\n",
    "        return [x.time for x in self.series]\n",
    "    \n",
    "    @property\n",
    "    def values(self):\n",
    "        return [x.value for x in self.series]\n",
    "    \n",
    "    @property\n",
    "    def components(self, i=None):\n",
    "        try:\n",
    "            return list(zip(*self.values))\n",
    "        except:\n",
    "            return [self.values]\n",
    "\n",
    "    def plot(self, toggle='0', loc=None, pad=False, grid=True, marker=None, labels=None, colors=None, lw=1):\n",
    "        if len(self.components) > 1:\n",
    "            plt.plot(self.timeline, self.values, marker=marker)\n",
    "            if loc:\n",
    "                plt.legend(['x','y','z'][:len(self.components)], loc=loc, numpoints=1)\n",
    "        else:\n",
    "            ts = dict()\n",
    "            ts['0'] = self\n",
    "            ts['1'] = self.rate_of_change()\n",
    "            ts['2'] = self.rate_of_change().rate_of_change()\n",
    "            \n",
    "            if colors is None:\n",
    "                colors = [None, None, None]\n",
    "            else:\n",
    "                colors = colors * len(toggle) # just in case...\n",
    "\n",
    "            if labels is None:\n",
    "                labels = ['position', 'velocity', 'acceleration']\n",
    "            else:\n",
    "                labels += [None] * (len(toggle) - len(labels)) # just in case...\n",
    "\n",
    "            if len(toggle) > 1:\n",
    "                plt.figure(figsize=(6 * len(toggle), 4))\n",
    "                \n",
    "            for i, tog in enumerate(toggle):\n",
    "                if len(toggle) > 1:\n",
    "                    plt.subplot(1, len(toggle), toggle.index(tog) + 1)\n",
    "                plt.plot(ts[tog].timeline, ts[tog].values, marker=marker, \n",
    "                         label=labels[i], color=colors[i], lw=lw)\n",
    "                plt.xlabel('Time')\n",
    "                if pad:\n",
    "                    plt.margins(0.05)\n",
    "                    dt = 0.03 * (self.timeline[-1] - self.timeline[0])\n",
    "                    plt.axes().set_xlim([self.timeline[0] - dt, self.timeline[-1] + dt])\n",
    "                if grid:\n",
    "                    plt.grid(True)\n",
    "                    plt.gca().axhline(0, c='k')\n",
    "                if loc and labels[i]:\n",
    "                    plt.legend(loc=loc, numpoints=1)\n",
    "                            \n",
    "    def plot2d(self, toggle='0', x_index=0, y_index=1, title='', colors='', labels=[],\n",
    "               grid=True, loc=None, markevery=0, arrows=False):\n",
    "        \n",
    "        x = dict()\n",
    "        y = dict()\n",
    "        \n",
    "        r = self\n",
    "        x['0'] = r.components[x_index]\n",
    "        y['0'] = r.components[y_index]\n",
    "\n",
    "        v = r.rate_of_change()\n",
    "        x['1'] = v.components[x_index]\n",
    "        y['1'] = v.components[y_index]\n",
    "\n",
    "        a = v.rate_of_change()\n",
    "        x['2'] = a.components[x_index]\n",
    "        y['2'] = a.components[y_index]\n",
    "\n",
    "        color = dict()\n",
    "        if colors:\n",
    "            for i, tog in enumerate(toggle):\n",
    "                color[tog] = colors[i]\n",
    "        else:\n",
    "            color['0'] = 'b'\n",
    "            color['1'] = 'g'\n",
    "            color['2'] = 'r'            \n",
    "\n",
    "        label = dict()\n",
    "        if labels:\n",
    "            for i, tog in enumerate(toggle):\n",
    "                label[tog] = labels[i]\n",
    "        else:\n",
    "            label['0'] = 'position'\n",
    "            label['1'] = 'velocity'\n",
    "            label['2'] = 'acceleration'\n",
    "                \n",
    "        for i, tog in enumerate(toggle):\n",
    "            plt.plot(x[tog], y[tog], c=color[tog], markevery=[-1], \n",
    "                     marker='o', mfc='w', mec=color[tog], mew=1)\n",
    "            if markevery:\n",
    "                plt.plot(x[tog], y[tog], lw=0, markevery=markevery, \n",
    "                         marker='.', mec=color[tog])\n",
    "            \n",
    "        plt.axes().set_aspect('equal')\n",
    "        plt.margins(0.05)\n",
    "        if loc:\n",
    "            plt.legend(numpoints=1, loc=loc, labels=labels)\n",
    "        plt.title(title)\n",
    "        \n",
    "        if grid:\n",
    "            plt.grid(True)\n",
    "            plt.axes().axhline(0, c='k')\n",
    "            plt.axes().axvline(0, c='k')\n",
    "\n",
    "        if arrows:\n",
    "            xmin, xmax = plt.xlim()\n",
    "            ymin, ymax = plt.ylim()\n",
    "            size = 0.5 * (xmax - xmin) + 0.5 * (ymax - ymin)\n",
    "            head_size = {\n",
    "                'head_width': 0.03 * size,\n",
    "                'head_length': 0.05 * size,\n",
    "            }\n",
    "            if '1' in toggle:\n",
    "                plt.axes().arrow(x['0'][-1], y['0'][-1], x['1'][-1], y['1'][-1], \n",
    "                                 fc=color['1'], ec=color['1'], **head_size)\n",
    "            if '2' in toggle:\n",
    "                plt.axes().arrow(x['0'][-1], y['0'][-1], x['2'][-1], y['2'][-1], \n",
    "                                 fc=color['2'], ec=color['2'], **head_size)\n",
    "             \n",
    "    @property\n",
    "    def intervals(self):\n",
    "        intervals = []\n",
    "        for i in range(1, len(self.series)):\n",
    "            intervals.append((self.series[i - 1], self.series[i]))\n",
    "        return intervals    \n",
    " \n",
    "    def get_interval(self, time): # closed on left [a, b)\n",
    "        tmin = min(self.timeline)\n",
    "        tmax = max(self.timeline)\n",
    "        if time < tmin:\n",
    "            return None, self.series[0]\n",
    "        elif time >= tmax:\n",
    "            return self.series[-1], None\n",
    "        else:\n",
    "            for a, b in self.intervals:\n",
    "                if a.time <= time and time < b.time:\n",
    "                    return a, b\n",
    "    \n",
    "    def rate_of_change(self):\n",
    "        ts = TimeSeries()\n",
    "        for i, (a, b) in enumerate(self.intervals):\n",
    "            dx = b.value - a.value\n",
    "            dt = b.time - a.time\n",
    "            if 1 == 0:\n",
    "                ts.append(a.time, dx/dt)\n",
    "            else:\n",
    "                ts.append(a.time + dt/2, dx/dt)\n",
    "        return ts\n",
    "                \n",
    "    def __call__(self, time):\n",
    "        a, b = self.get_interval(time)\n",
    "        # this method will not extrapolate, but we do need to take care of this edge case...\n",
    "        if b is None and round(a.time - time, 10) == 0:\n",
    "            return a.value\n",
    "        else:\n",
    "            dx = b.value - a.value\n",
    "            dt = b.time - a.time\n",
    "            return a.value + dx/dt * (time - a.time)\n",
    "\n",
    "    def __getitem__(self, index):\n",
    "        if isinstance(index, int):\n",
    "            return self.series[index]\n",
    "        elif isinstance(index, slice):\n",
    "            return self.series[index]\n",
    "        else:\n",
    "            raise TypeError(\"index must be int or slice\")\n",
    "        \n",
    "    def __repr__(self):\n",
    "        import pprint\n",
    "        return pprint.pformat(self.series)\n"
   ]
  },
  {
   "cell_type": "code",
   "execution_count": 78,
   "metadata": {
    "collapsed": false
   },
   "outputs": [],
   "source": [
    "class Particle():\n",
    "    def __init__(self, mass=1, t0=0, r0=None, v0=None, p0=None):\n",
    "        \n",
    "        # The only purpose of the following is to redefine the defaults\n",
    "        # I am *not* error-checking the input parameters...\n",
    "\n",
    "        dim = 1\n",
    "        if isinstance(r0, np.ndarray):\n",
    "            dim = max(len(r0), dim)\n",
    "        if isinstance(v0, np.ndarray):\n",
    "            dim = max(len(v0), dim)\n",
    "\n",
    "#         if r0 is None and dim > 1:\n",
    "#             r0 = np.zeros(dim)\n",
    "#         elif r0 is None:\n",
    "#             r0 = 0\n",
    "            \n",
    "#         if v0 is None and dim > 1:\n",
    "#             v0 = np.zeros(dim)\n",
    "#         elif v0 is None:\n",
    "#             v0 = 0\n",
    "                    \n",
    "        if r0 is None:\n",
    "            r0 = np.zeros(dim)\n",
    "            \n",
    "        if v0 is None:\n",
    "            v0 = np.zeros(dim)\n",
    "                    \n",
    "        self.mass = mass\n",
    "        self.position = TimeSeries([(t0, r0)])\n",
    "        if self.mass and p0 is None:\n",
    "            self.momentum = TimeSeries([(t0, self.mass * v0)])\n",
    "        else:\n",
    "            self.momentum = TimeSeries([(t0, p0)])\n",
    "        self.forces = []\n",
    "\n",
    "    def addforce(self, force):\n",
    "        self.forces.append(lambda t, obj=self: force(obj, t))        \n",
    "        \n",
    "    def netforce(self, time): # momentum flow or rate of change\n",
    "        netforce = 0\n",
    "        for f in self.forces:\n",
    "            netforce += f(time)\n",
    "        return netforce\n",
    "\n",
    "    def velocity(self, time): # position flow or rate of change\n",
    "        if time > max(self.momentum.timeline):\n",
    "            time = max(self.momentum.timeline)\n",
    "        return self.momentum(time) / self.mass\n",
    "\n",
    "    def increment(self, dt, n=1):\n",
    "        for i in range(n):\n",
    "            t = max(self.position.timeline)\n",
    "\n",
    "            if len(self.position.timeline) == 1: # then only go forward half an increment            \n",
    "                next_p = self.momentum(t) + self.netforce(t) * dt/2\n",
    "                self.momentum = TimeSeries() # throw out that \"initial\" value\n",
    "            else: # reach back half an increment to calculate the new momentum value\n",
    "                next_p = self.momentum(t - dt/2) + self.netforce(t) * dt\n",
    "\n",
    "            self.momentum.append(t + dt/2, next_p)\n",
    "            next_r = self.position(t) + self.velocity(t + dt/2) * dt        \n",
    "            self.position.append(t + dt, next_r)"
   ]
  },
  {
   "cell_type": "code",
   "execution_count": 79,
   "metadata": {
    "collapsed": true
   },
   "outputs": [],
   "source": [
    "class PhysicalSystem():\n",
    "    def __init__(self, initial=[]):\n",
    "        self.objs = list()\n",
    "        for (mass, r0, v0) in initial:\n",
    "            self.objs.append(Particle(mass=mass, r0=r0, v0=v0))\n",
    "                    \n",
    "        for obj1 in self.objs:\n",
    "            for obj2 in self.objs:\n",
    "                if obj1 != obj2: # no self-interactions !\n",
    "                    internal_force = lambda t, obj1=obj1, obj2=obj2: self.interaction(obj1, obj2, t)\n",
    "                    obj1.forces.append(internal_force)\n",
    "                    \n",
    "    def interaction(self, obj1, obj2, time):\n",
    "        return 0\n",
    "                    \n",
    "    def increment(self, dt, n=1):\n",
    "        for i in range(n):\n",
    "            for obj in self.objs:\n",
    "                obj.increment(dt)\n",
    "                \n",
    "    def plot(self):\n",
    "        for i, obj in enumerate(self.objs):\n",
    "            obj.position.plot(legend_loc=None)\n",
    "            \n",
    "    def plot2d(self, colors='bgrcmyk'*9, **kwargs):\n",
    "        for i, obj in enumerate(self.objs):\n",
    "            obj.position.plot2d(color=colors[i], **kwargs)"
   ]
  },
  {
   "cell_type": "code",
   "execution_count": 59,
   "metadata": {
    "collapsed": true
   },
   "outputs": [],
   "source": [
    "import cmath\n",
    "\n",
    "class RigidObject(Particle):\n",
    "    def __init__(self, mass=1, t0=0, r0=0, p0=0, v0=None, moi=1, q0=1+0j, L0=0+0j, w0=None):\n",
    "        Particle.__init__(self, mass, t0, r0, p0, v0)\n",
    "        self.moi = moi\n",
    "        self.attitude = TimeSeries([(t0, q0)])\n",
    "        self.angular_displacement = TimeSeries([(t0, cmath.phase(q0))])\n",
    "        if self.moi and w0 is not None:\n",
    "            self.angular_momentum = TimeSeries([(t0, self.moi * w0)])\n",
    "        else:\n",
    "            self.angular_momentum = TimeSeries([(t0, L0)])\n",
    "        self.torques = []\n",
    "    \n",
    "    def add_torque(self, torque):\n",
    "        self.torques.append(lambda t, obj=self: torque(obj, t))        \n",
    "        \n",
    "    def net_torque(self, time): # angular_momentum flow or rate of change\n",
    "        net_torque = 0+0j\n",
    "        for tau in self.torques:\n",
    "            net_torque += tau(time)\n",
    "        return net_torque\n",
    "\n",
    "    def rotational_velocity(self, time): # attitude flow or rate of change\n",
    "        if time > max(self.angular_momentum.timeline):\n",
    "            time = max(self.angular_momentum.timeline)\n",
    "        return self.angular_momentum(time) / self.moi\n",
    "    \n",
    "    def increment(self, dt, n=1):\n",
    "        for i in range(n):\n",
    "            Particle.increment(self, dt, 1)\n",
    "            \n",
    "            t = max(self.attitude.timeline)\n",
    "\n",
    "            if len(self.attitude.timeline) == 1: # then only go forward half an increment            \n",
    "                next_L = self.angular_momentum(t) + self.net_torque(t) * dt/2\n",
    "                self.angular_momentum = TimeSeries() # throw out that \"initial\" value\n",
    "            else: # reach back half an increment to calculate the new momentum value\n",
    "                next_L = self.angular_momentum(t - dt/2) + self.net_torque(t) * dt                \n",
    "\n",
    "                q = self.angular_displacement(t - dt)\n",
    "                q += self.rotational_velocity(t + dt/2) * dt\n",
    "                self.angular_displacement.append(t, q)\n",
    "\n",
    "            self.angular_momentum.append(t + dt/2, next_L)\n",
    "            rotor = np.exp( 1j * self.rotational_velocity(t + dt/2) * dt )\n",
    "            next_attitude = self.attitude(t) * rotor\n",
    "            self.attitude.append(t + dt, next_attitude)"
   ]
  },
  {
   "cell_type": "markdown",
   "metadata": {},
   "source": [
    "- Ch 01: 1,3,5,12,13,45,46,49,59,61\n",
    "- Ch 02: 1,3,15,28,29,45,51,53,67,68,78,79,81\n",
    "- Ch 03: 5,7,8,9,19,30,35,57,59,69,71\n",
    "- Ch 04: 1,11,38,39,42,56,79,81,98,103,104\n",
    "- Ch 05: 5,7,8,9,15,23,27,31,41,52,56\n",
    "- Ch 06: 3,5,6,8,13,19,29,33,38,41,64,68,77\n",
    "- Ch 07: 1,5,7,19,21,29,31,33,35,41\n",
    "- Ch 08: 1,3,9,21,23,25,37,39,42,53,54,56,68,69\n",
    "- Ch 09: 1,6,12,15,31,33,34,48,51,63,64,71,73"
   ]
  },
  {
   "cell_type": "markdown",
   "metadata": {},
   "source": [
    "## Chapter 3"
   ]
  },
  {
   "cell_type": "code",
   "execution_count": 47,
   "metadata": {
    "collapsed": true
   },
   "outputs": [],
   "source": [
    "def weight(obj, t):\n",
    "    return np.array([0,-9.8])"
   ]
  },
  {
   "cell_type": "markdown",
   "metadata": {},
   "source": [
    "**Problem 005**\n",
    "\n",
    "In diving to a depth of 750 meters, an elephant seal also moves 460 meters due east of his starting point. What is the magnitude of the player's displacement.\n",
    "\n",
    "*Answer:* TBD"
   ]
  },
  {
   "cell_type": "code",
   "execution_count": 7,
   "metadata": {
    "collapsed": false
   },
   "outputs": [
    {
     "name": "stdout",
     "output_type": "stream",
     "text": [
      "Magnitude of displacement = 880 meters\n"
     ]
    }
   ],
   "source": [
    "x0 = np.array([0,-750])\n",
    "xf = np.array([460,0])\n",
    "dx = xf - x0\n",
    "mag_dx = np.sqrt(dx[0] ** 2 + dx[1] ** 2)\n",
    "print('Magnitude of displacement = {:.0f} meters'.format(mag_dx))"
   ]
  },
  {
   "cell_type": "markdown",
   "metadata": {},
   "source": [
    "**Problem 007**\n",
    "\n",
    "A radar antenna is tracking a satellite orbiting the earth. At a certain time, the radar screen shows the satellite to be 162 kilometers away. The radar antenna is pointing upward at an angle of 62.3° from the ground. Find the `x` and `y` components (in kilometers) of the position vector of the satellite, relative to the antenna.\n",
    "\n",
    "*Answer:* TBD"
   ]
  },
  {
   "cell_type": "code",
   "execution_count": 8,
   "metadata": {
    "collapsed": false
   },
   "outputs": [
    {
     "name": "stdout",
     "output_type": "stream",
     "text": [
      "x-component = 75 kilometers\n",
      "y-component = 143 kilometers\n"
     ]
    }
   ],
   "source": [
    "r_mag = 162\n",
    "q_deg = 62.3\n",
    "rx = r_mag * np.cos(q_deg * np.pi/180)\n",
    "ry = r_mag * np.sin(q_deg * np.pi/180)\n",
    "print('x-component = {:.0f} kilometers'.format(rx))\n",
    "print('y-component = {:.0f} kilometers'.format(ry))"
   ]
  },
  {
   "cell_type": "markdown",
   "metadata": {},
   "source": [
    "**Problem 008**\n",
    "\n",
    "In a mall, a shopper rides up an escalator between floors. At the top of the escalator, the shopper turns right and walks 9.00 meters to a store. The magnitude of the shopper's displacement from the bottom of the escalator to the store is 16.0 meters. The vertical distance between the floors is 6.00 meters. At what angle is the escalator inclined above the horizontal?\n",
    "\n",
    "*Answer:* TBD"
   ]
  },
  {
   "cell_type": "code",
   "execution_count": 46,
   "metadata": {
    "collapsed": false
   },
   "outputs": [
    {
     "name": "stdout",
     "output_type": "stream",
     "text": [
      "Components of the displacement are 9.00, 11.79, 6.00\n",
      "The angle of the escalator is 63.0 degrees\n"
     ]
    }
   ],
   "source": [
    "rx = 9.00 # right\n",
    "ry = None # forward\n",
    "rz = 6.00 # up\n",
    "\n",
    "ry = 0\n",
    "for dy in [1, 0.1, 0.01, 0.001]:\n",
    "    while True:\n",
    "        r_mag = np.sqrt( rx ** 2 + ry ** 2 + rz ** 2 )\n",
    "        if r_mag > 16:\n",
    "            ry = ry - dy\n",
    "            break\n",
    "        else:\n",
    "            ry = ry + dy\n",
    "\n",
    "print('Components of the displacement are {:.2f}, {:.2f}, {:.2f}'.format(rx, ry, rz))\n",
    "\n",
    "angle = np.arctan(ry/rz) * 180/np.pi\n",
    "print('The angle of the escalator is {:.1f} degrees'.format(angle))"
   ]
  },
  {
   "cell_type": "markdown",
   "metadata": {},
   "source": [
    "**Problem 009**\n",
    "\n",
    "A skateboarder, starting from rest, rolls down a 12.0-meter ramp. When she arrives at the bottom of the ramp her speed is 7.70 m/s. (a) Determine the magnitude of her acceleration, assumed to be constant. (b) If the ramp is inclined at 25.0° with respect to the ground, what is the component of her acceleration that is parallel to the ground?\n",
    "          \n",
    "*Answer:* (a) 2.47 m/s²; (b) 2.24 m/s²"
   ]
  },
  {
   "cell_type": "code",
   "execution_count": 77,
   "metadata": {
    "collapsed": false,
    "scrolled": false
   },
   "outputs": [
    {
     "name": "stdout",
     "output_type": "stream",
     "text": [
      "Final position = 12.03 meters (sb 12)\n",
      "Final speed = 7.700 m/s (sb 7.7)\n",
      "Acceleration = 2.47 m/s²\n",
      "Acceleration parallel to the ground = 2.42 m/s²\n"
     ]
    },
    {
     "data": {
      "image/png": "[encoded data removed]",
      "text/plain": [
       "<matplotlib.figure.Figure at 0x7f7c6576dcc0>"
      ]
     },
     "metadata": {},
     "output_type": "display_data"
    }
   ],
   "source": [
    "dt = 0.01 # this solution method is very sensitive to `dt` for some reason\n",
    "\n",
    "a = 0\n",
    "for da in [1, 0.1, 0.01, 0.001]:\n",
    "    while True:\n",
    "        a += da\n",
    "\n",
    "        obj = Particle(v0=0)\n",
    "        obj.netforce = lambda t: a\n",
    "        \n",
    "        while True:\n",
    "            t = obj.position.timeline[-1]\n",
    "            x = obj.position.values[-1]\n",
    "            v = obj.velocity(t)\n",
    "            obj.increment(dt)\n",
    "            if x >= 12 or v >= 7.7:\n",
    "                break\n",
    "\n",
    "        if v >= 7.7:\n",
    "            a += -da\n",
    "            break\n",
    "\n",
    "print('Final position = {:.2f} meters (sb 12)'.format(x))\n",
    "print('Final speed = {:.3f} m/s (sb 7.7)'.format(v))\n",
    "print('Acceleration = {:.2f} m/s²'.format(a))\n",
    "\n",
    "ax = a * np.cos(12 * np.pi / 180)\n",
    "print('Acceleration parallel to the ground = {:.2f} m/s²'.format(ax))\n",
    "\n",
    "obj.position.plot('01', loc='best', labels=['position','velocity'])\n",
    "plt.show()"
   ]
  },
  {
   "cell_type": "markdown",
   "metadata": {},
   "source": [
    "*Alternate solution (2D)*"
   ]
  },
  {
   "cell_type": "code",
   "execution_count": 76,
   "metadata": {
    "collapsed": false
   },
   "outputs": [
    {
     "name": "stdout",
     "output_type": "stream",
     "text": [
      "Final position = 12.03 meters (sb 12)\n",
      "Final speed = 7.700 m/s (sb 7.7)\n",
      "Acceleration = 2.47 m/s²\n",
      "Acceleration parallel to the ground = 2.24 m/s²\n"
     ]
    },
    {
     "data": {
      "image/png": "[encoded data removed]",
      "text/plain": [
       "<matplotlib.figure.Figure at 0x7f7c657b6eb8>"
      ]
     },
     "metadata": {},
     "output_type": "display_data"
    }
   ],
   "source": [
    "dt = 0.01 # this solution method is very sensitive to `dt` for some reason\n",
    "q = -25\n",
    "\n",
    "ax, ay = 0, 0\n",
    "for da in [1, 0.1, 0.01, 0.001]:\n",
    "    while True:\n",
    "        a = np.sqrt(ax ** 2 + ay ** 2)\n",
    "        a += da\n",
    "        ax = a * np.cos(q * np.pi/180)\n",
    "        ay = a * np.sin(q * np.pi/180)\n",
    "        \n",
    "        obj = Particle(v0=np.array([0,0]))\n",
    "        obj.netforce = lambda t: np.array([ax, ay])\n",
    "        \n",
    "        while True:\n",
    "            t = obj.position.timeline[-1]\n",
    "            r = obj.position.values[-1]\n",
    "            v = obj.velocity(t)\n",
    "            r_mag = np.sqrt(r[0] ** 2 + r[1] ** 2)\n",
    "            v_mag = np.sqrt(v[0] ** 2 + v[1] ** 2)\n",
    "            obj.increment(dt)\n",
    "\n",
    "            if r_mag >= 12 or v_mag >= 7.7:\n",
    "                break\n",
    "\n",
    "        if v_mag >= 7.7:\n",
    "            a += -da\n",
    "            ax = a * np.cos(q * np.pi/180)\n",
    "            ay = a * np.sin(q * np.pi/180)\n",
    "            break\n",
    "\n",
    "print('Final position = {:.2f} meters (sb 12)'.format(r_mag))\n",
    "print('Final speed = {:.3f} m/s (sb 7.7)'.format(v_mag))\n",
    "print('Acceleration = {:.2f} m/s²'.format(a))\n",
    "print('Acceleration parallel to the ground = {:.2f} m/s²'.format(ax))\n",
    "\n",
    "obj.position.plot2d('0', loc='best', labels=['position'], markevery=20)\n",
    "plt.show()"
   ]
  },
  {
   "cell_type": "markdown",
   "metadata": {},
   "source": [
    "**Problem 019**\n",
    "\n",
    "A golfer imparts a speed of 30.3 m/s to a ball, and it travels the maximum possible distance before landing on the green. The tee and the green are at the same elevation. (a) How much time does the ball spend in the air? (b) What is the longest hole in one that the golfer can make, if the ball does not roll when it hits the green?\n",
    "\n",
    "*Answer:* (a) 4.37 seconds; (b) 93.7 meters"
   ]
  },
  {
   "cell_type": "code",
   "execution_count": 74,
   "metadata": {
    "collapsed": false
   },
   "outputs": [
    {
     "name": "stdout",
     "output_type": "stream",
     "text": [
      "Final y-displacement = -0.1 (sb 0)\n",
      "Time in the air = 4.37\n",
      "Final x-displacement = 93.7\n"
     ]
    },
    {
     "data": {
      "image/png": "[encoded data removed]",
      "text/plain": [
       "<matplotlib.figure.Figure at 0x7f7c657abc88>"
      ]
     },
     "metadata": {},
     "output_type": "display_data"
    }
   ],
   "source": [
    "dt = 0.005 # since we want 2 digit accuracy on time, dt must be smaller than 0.01\n",
    "\n",
    "v0, q = 30.3, 45 # maximum distance implies 45 ... but we could search for this too\n",
    "vx = v0 * np.cos(q * np.pi/180)\n",
    "vy = v0 * np.sin(q * np.pi/180)\n",
    "\n",
    "obj = Particle(v0=np.array([vx,vy]))\n",
    "obj.addforce(weight)\n",
    "\n",
    "while True:\n",
    "    obj.increment(dt)\n",
    "    if obj.position.values[-1][1] < 0:\n",
    "        break\n",
    "        \n",
    "tf = obj.position.timeline[-1]\n",
    "xf, yf = obj.position.values[-1]\n",
    "print('Final y-displacement = {:.1f} (sb 0)'.format(yf))\n",
    "print('Time in the air = {:.2f}'.format(tf))\n",
    "print('Final x-displacement = {:.1f}'.format(xf))\n",
    "obj.position.plot2d(markevery=100)"
   ]
  },
  {
   "cell_type": "markdown",
   "metadata": {},
   "source": [
    "**Problem 030**\n",
    "\n",
    "A quarterback claims that he can throw the football a horizontal distance of 183 meters (200 yards). Furthermore, he claims that he can do this by launching the ball at the relatively low angle of 30.0° above the horizontal. To evaluate this claim, determine the speed with which this quarterback must throw the ball. Assume that the ball is launched and caught at the same vertical level and that air resistance can be ignored. For comparison, a baseball pitcher who can accurately throw a fastball at 45 m/s (100 mph) would be considered exceptional.\n",
    "\n",
    "*Answer:* 47.5 m/s"
   ]
  },
  {
   "cell_type": "code",
   "execution_count": 126,
   "metadata": {
    "collapsed": false,
    "scrolled": true
   },
   "outputs": [
    {
     "name": "stdout",
     "output_type": "stream",
     "text": [
      "Final y-position = -0.26 meters (sb 0)\n",
      "Final x-position = 200.00 meters (sb 200)\n",
      "Initial speed = 47.52 m/s\n"
     ]
    },
    {
     "data": {
      "image/png": "[encoded data removed]",
      "text/plain": [
       "<matplotlib.figure.Figure at 0x7f7c654bfa20>"
      ]
     },
     "metadata": {},
     "output_type": "display_data"
    }
   ],
   "source": [
    "dt = 0.02\n",
    "\n",
    "v0, q = 0, 30\n",
    "vx = v0 * np.cos(q * np.pi/180)\n",
    "vy = v0 * np.sin(q * np.pi/180)\n",
    "\n",
    "for dv in [1, 0.1, 0.01, 0.001]:\n",
    "    while True:\n",
    "        v0 = np.sqrt(vx ** 2 + vy ** 2)\n",
    "        v0 += dv\n",
    "        vx = v0 * np.cos(q * np.pi/180)\n",
    "        vy = v0 * np.sin(q * np.pi/180)\n",
    "        \n",
    "        obj = Particle(v0=np.array([vx,vy]))\n",
    "        obj.addforce(weight)\n",
    "        \n",
    "        while True:\n",
    "            t = obj.position.timeline[-1]\n",
    "            r = obj.position.values[-1]\n",
    "            v = obj.velocity(t)\n",
    "            obj.increment(dt)\n",
    "\n",
    "            if r[0] > 200 or r[1] < 0:\n",
    "                break\n",
    "\n",
    "        if r[0] > 200:\n",
    "            v0 += -dv\n",
    "            vx = v0 * np.cos(q * np.pi/180)\n",
    "            vy = v0 * np.sin(q * np.pi/180)\n",
    "            break\n",
    "\n",
    "print('Final y-position = {:.2f} meters (sb 0)'.format(r[1]))\n",
    "print('Final x-position = {:.2f} meters (sb 200)'.format(r[0]))\n",
    "print('Initial speed = {:.2f} m/s'.format(v0))\n",
    "\n",
    "obj.position.plot2d(markevery=20)\n",
    "plt.show()"
   ]
  },
  {
   "cell_type": "markdown",
   "metadata": {},
   "source": [
    "**Problem 035**\n",
    "\n",
    "A rocket is fired at a speed of 75.0 m/s from ground level, at an angle of 60.0° above the horizontal. The rocket is fired toward an 11.0-meter wall, which is located 27.0 meters away. The rocket attains its launch speed in a negligibly short period of time, after which its engines shut down and the rocket coasts. By how much does the rocket clear the top of the wall?\n",
    "\n",
    "*Answer:* 33.2 meters"
   ]
  },
  {
   "cell_type": "code",
   "execution_count": 140,
   "metadata": {
    "collapsed": false
   },
   "outputs": [
    {
     "name": "stdout",
     "output_type": "stream",
     "text": [
      "Height of rocket is 44.2 meters, which is 33.2 meters above the wall\n"
     ]
    },
    {
     "data": {
      "image/png": "[encoded data removed]",
      "text/plain": [
       "<matplotlib.figure.Figure at 0x7f7c626e5f98>"
      ]
     },
     "metadata": {},
     "output_type": "display_data"
    }
   ],
   "source": [
    "dt = 0.01\n",
    "\n",
    "v0, q = 75, 60\n",
    "vx = v0 * np.cos(q * np.pi/180)\n",
    "vy = v0 * np.sin(q * np.pi/180)\n",
    "\n",
    "obj = Particle(v0=np.array([vx,vy]))\n",
    "obj.addforce(weight)\n",
    "\n",
    "while True:\n",
    "    t = obj.position.timeline[-1]\n",
    "    r = obj.position.values[-1]\n",
    "    v = obj.velocity(t)\n",
    "    obj.increment(dt)\n",
    "\n",
    "    if r[0] > 27:\n",
    "        break\n",
    "        \n",
    "print('Height of rocket is {:.1f} meters, which is {:.1f} meters above the wall'.format(r[1], r[1]-11))\n",
    "\n",
    "# while True:\n",
    "#     t = obj.position.timeline[-1]\n",
    "#     r = obj.position.values[-1]\n",
    "#     v = obj.velocity(t)\n",
    "#     obj.increment(dt)\n",
    "\n",
    "#     if r[1] < 0:\n",
    "#         break\n",
    "\n",
    "plt.plot([27,27],[0,11],'r',lw=5)\n",
    "obj.position.plot2d(markevery=10)"
   ]
  },
  {
   "cell_type": "markdown",
   "metadata": {},
   "source": [
    "**Problme 057**\n",
    "\n",
    "You are in a hot-air balloon that, relative to the ground, has a velocity of 6.0 m/s in a direction due east. You see a hawk moving directly away from the balloon in a direction due north. The speed of the hawk relative to you is 2.0 m/s. What are the magnitude and direction of the hawk's velocity relative to the ground? Express the directional angle relative to due east.\n",
    "\n",
    "*Answer:* TBD"
   ]
  },
  {
   "cell_type": "code",
   "execution_count": 146,
   "metadata": {
    "collapsed": false
   },
   "outputs": [
    {
     "name": "stdout",
     "output_type": "stream",
     "text": [
      "Magnitude of hawk's velocity relative to ground is 6.32 m/s\n",
      "Angle of hawk's velocity relative to east is 18°\n"
     ]
    }
   ],
   "source": [
    "balloon_relative_to_ground = np.array([6,0])\n",
    "hawk_relative_to_balloon = np.array([0,2])\n",
    "\n",
    "hawk_relative_to_ground = hawk_relative_to_balloon + balloon_relative_to_ground\n",
    "\n",
    "v = hawk_relative_to_ground\n",
    "v_mag = np.sqrt( v[0] ** 2 + v[1] ** 2 )\n",
    "v_ang = np.arctan2(v[1],v[0]) * 180/np.pi\n",
    "\n",
    "print(\"Magnitude of hawk's velocity relative to ground is {:.2f} m/s\".format(v_mag))\n",
    "print(\"Angle of hawk's velocity relative to east is {:.0f}°\".format(v_ang))"
   ]
  },
  {
   "cell_type": "markdown",
   "metadata": {},
   "source": [
    "**Problem 059**\n",
    "\n",
    "Two passenger trains are passing each other on adjacent tracks. Train A is moving east with a speed of 13 m/s, and train B is traveling wast with a speed of 28 m/s. (a) What is the velocity (magnitude and direction) of train A as seen by the passenders in train B? (b) What is the velocity (magnitude and direction) of train B as seen by the passengers in train A?\n",
    "\n",
    "*Answer:* TBD"
   ]
  },
  {
   "cell_type": "code",
   "execution_count": 147,
   "metadata": {
    "collapsed": false
   },
   "outputs": [
    {
     "name": "stdout",
     "output_type": "stream",
     "text": [
      "Velocity of Train A relative to Train B is 41\n",
      "Velocity of Train B relative to Train A is -41\n"
     ]
    }
   ],
   "source": [
    "train_A_relative_to_ground = 13\n",
    "train_B_relative_to_ground = -28\n",
    "\n",
    "ground_relative_to_train_B = -train_B_relative_to_ground\n",
    "\n",
    "train_A_relative_to_train_B = train_A_relative_to_ground + ground_relative_to_train_B\n",
    "print('Velocity of Train A relative to Train B is {:.0f}'.format(train_A_relative_to_train_B))\n",
    "\n",
    "ground_relative_to_train_A = -train_A_relative_to_ground\n",
    "\n",
    "train_B_relative_to_train_A = train_B_relative_to_ground + ground_relative_to_train_A\n",
    "print('Velocity of Train B relative to Train A is {:.0f}'.format(train_B_relative_to_train_A))"
   ]
  },
  {
   "cell_type": "markdown",
   "metadata": {},
   "source": [
    "**Problem 069**\n",
    "\n",
    "A golf ball rolls off a horizontal cliff with an initial speed of 11.4 m/s. The ball falls a vertical distance of 15.5 meters into a lake below. (a) How much time does the ball spend in the air? (b) What is the speed `v` of the ball just before it strikes the water?\n",
    "\n",
    "*Answer:* TBD"
   ]
  },
  {
   "cell_type": "code",
   "execution_count": 151,
   "metadata": {
    "collapsed": false
   },
   "outputs": [
    {
     "name": "stdout",
     "output_type": "stream",
     "text": [
      "Final height = -0.0 meters\n",
      "Time of flight = 1.8 seconds\n",
      "Final speed = 20.8 m/s\n"
     ]
    },
    {
     "data": {
      "image/png": "[encoded data removed]",
      "text/plain": [
       "<matplotlib.figure.Figure at 0x7f7c625b90b8>"
      ]
     },
     "metadata": {},
     "output_type": "display_data"
    }
   ],
   "source": [
    "dt = 0.01\n",
    "\n",
    "v0, q = 11.4, 0\n",
    "vx = v0 * np.cos(q * np.pi/180)\n",
    "vy = v0 * np.sin(q * np.pi/180)\n",
    "\n",
    "rx = 0\n",
    "ry = 15.5\n",
    "\n",
    "obj = Particle(r0=np.array([rx,ry]),v0=np.array([vx,vy]))\n",
    "obj.addforce(weight)\n",
    "\n",
    "while True:\n",
    "    t = obj.position.timeline[-1]\n",
    "    r = obj.position.values[-1]\n",
    "    v = obj.velocity(t)\n",
    "    obj.increment(dt)\n",
    "\n",
    "    if r[1] < 0:\n",
    "        break\n",
    "        \n",
    "tf = obj.position.timeline[-1]\n",
    "vf = np.sqrt( v[0] ** 2 + v[1] ** 2 )\n",
    "\n",
    "print('Final height = {:.1f} meters'.format(r[1]))\n",
    "print('Time of flight = {:.1f} seconds'.format(tf))\n",
    "print('Final speed = {:.1f} m/s'.format(vf))\n",
    "\n",
    "obj.position.plot2d(markevery=10)"
   ]
  },
  {
   "cell_type": "markdown",
   "metadata": {},
   "source": [
    "**Problem 071**\n",
    "\n",
    "A diver runs horizontally with a speed of 1.20 m/s off a platform that is 10.0 meters above the water. What is his speed just before striking the water?\n",
    "\n",
    "*Answer:* TBD"
   ]
  },
  {
   "cell_type": "code",
   "execution_count": 152,
   "metadata": {
    "collapsed": false
   },
   "outputs": [
    {
     "name": "stdout",
     "output_type": "stream",
     "text": [
      "Final height = -0.0 meters\n",
      "Time of flight = 1.4 seconds\n",
      "Final speed = 14.0 m/s\n"
     ]
    },
    {
     "data": {
      "image/png": "[encoded data removed]",
      "text/plain": [
       "<matplotlib.figure.Figure at 0x7f7c62431780>"
      ]
     },
     "metadata": {},
     "output_type": "display_data"
    }
   ],
   "source": [
    "dt = 0.01\n",
    "\n",
    "v0, q = 1.2, 0\n",
    "vx = v0 * np.cos(q * np.pi/180)\n",
    "vy = v0 * np.sin(q * np.pi/180)\n",
    "\n",
    "rx = 0\n",
    "ry = 10.0\n",
    "\n",
    "obj = Particle(r0=np.array([rx,ry]),v0=np.array([vx,vy]))\n",
    "obj.addforce(weight)\n",
    "\n",
    "while True:\n",
    "    t = obj.position.timeline[-1]\n",
    "    r = obj.position.values[-1]\n",
    "    v = obj.velocity(t)\n",
    "    obj.increment(dt)\n",
    "\n",
    "    if r[1] < 0:\n",
    "        break\n",
    "        \n",
    "tf = obj.position.timeline[-1]\n",
    "vf = np.sqrt( v[0] ** 2 + v[1] ** 2 )\n",
    "\n",
    "print('Final height = {:.1f} meters'.format(r[1]))\n",
    "print('Time of flight = {:.1f} seconds'.format(tf))\n",
    "print('Final speed = {:.1f} m/s'.format(vf))\n",
    "\n",
    "obj.position.plot2d(markevery=10)"
   ]
  }
 ],
 "metadata": {
  "anaconda-cloud": {},
  "kernelspec": {
   "display_name": "Python [Root]",
   "language": "python",
   "name": "Python [Root]"
  },
  "language_info": {
   "codemirror_mode": {
    "name": "ipython",
    "version": 3
   },
   "file_extension": ".py",
   "mimetype": "text/x-python",
   "name": "python",
   "nbconvert_exporter": "python",
   "pygments_lexer": "ipython3",
   "version": "3.5.2"
  }
 },
 "nbformat": 4,
 "nbformat_minor": 0
}
