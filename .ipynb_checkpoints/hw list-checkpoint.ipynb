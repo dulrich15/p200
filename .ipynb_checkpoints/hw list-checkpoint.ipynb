{
 "cells": [
  {
   "cell_type": "markdown",
   "metadata": {},
   "source": [
    "- Ch 01: 1,3,5,12,13,45,46,49,59,61\n",
    "- Ch 02: 1,3,15,28,29,45,51,53,67,68,78,79,81\n",
    "- Ch 03: 5,7,8,9,19,30,35,57,59,69,71\n",
    "- Ch 04: 1,11,38,39,42,56,79,81,98,103,104\n",
    "- Ch 05: 5,7,8,9,15,23,27,31,41,52,56\n",
    "- Ch 06: 3,5,6,8,13,19,29,33,38,41,64,68,77\n",
    "- Ch 07: 1,5,7,19,21,29,31,33,35,41\n",
    "- Ch 08: 1,3,9,21,23,25,37,39,42,53,54,56,68,69\n",
    "- Ch 09: 1,6,12,15,31,33,34,48,51,63,64,71,73"
   ]
  },
  {
   "cell_type": "markdown",
   "metadata": {},
   "source": [
    "## Chapter 5"
   ]
  },
  {
   "cell_type": "markdown",
   "metadata": {
    "collapsed": true
   },
   "source": [
    "**Problem 005**\n",
    "\n",
    "How long does it take a plane, traveling at a constant speed of 110 m/s, to fly once around a circle whose radius is 2850 meters?\n",
    "\n",
    "*Answer:* 160 seconds"
   ]
  },
  {
   "cell_type": "markdown",
   "metadata": {},
   "source": [
    "**Problem 007**\n",
    "\n",
    "The blade of a windshield wiper moves through an angle of 90.0° in 0.40 seconds. The tip of the blade moves on the arc of a circle that has a radius of 0.45 meters. What is the magnitude of the centripetal acceleration on the tip of the blade?\n",
    "\n",
    "*Answer:* 6.9 m/s²"
   ]
  },
  {
   "cell_type": "markdown",
   "metadata": {},
   "source": [
    "**Problem 008**\n",
    "\n",
    "There is a clever kitchen gadget for drying lettuce leaves after you wash them. It consists of a cylindrical container mounted so that it can be rotated about its axis by turning a hand crank. The outer wall of the cylinder is perforated with small holes. You put the wet leaves in the container and turn the crank to spin off the water. The radius of the container is 12 cm. When the cylinder is rotating at 2.0 revolutions per second, what is the magnitude of the centripetal acceleration at the outer wall?\n",
    "\n",
    "*Answer:* 19 m/s²"
   ]
  },
  {
   "cell_type": "markdown",
   "metadata": {},
   "source": [
    "**Problem 009**\n",
    "\n",
    "Computer-controlled display screens provide drivers in the Indianapolis 500 with a variety of information about how their cars are performing. For instance, as a car is going through a turn, a speed of 221 mph (98.8 m/s) and centripetal acceleration of 3.00 `g` (three times the acceleration due to gravity) are displayed. Determine the radius of the turn (in meters).\n",
    "\n",
    "*Answer:* 332 meters"
   ]
  },
  {
   "cell_type": "markdown",
   "metadata": {},
   "source": [
    "**Problem 015**\n",
    "\n",
    "Car A uses tires for which the coefficient of static friction is 1.1 on a particular unbanked curve. The maximum speed at which the car can negotiate this curve is 25 m/s. Car B uses tires for which the coefficient of static friction is 0.85 on the same curve. What is the maximum speed at which car B can negotiate the curve?\n",
    "\n",
    "*Answer:* 22 meters"
   ]
  },
  {
   "cell_type": "markdown",
   "metadata": {},
   "source": [
    "**Problem 023**\n",
    "\n",
    "A \"swing\" ride at a carnival consists of chairs that are swung in a circle by 15.0-meter cables attached to a vertical rotating pole, as the drawing shows (60°). Suppose the total mass of a chair and its occupant is 179 kilograms. (a) Determine the tension in the cable attached to the chair. (b) Find the speed of the chair.\n",
    "\n",
    "*Answer:* (a) 3510 newtons (b) 14.9 m/s"
   ]
  },
  {
   "cell_type": "markdown",
   "metadata": {},
   "source": [
    "**Problem 027**\n",
    "\n",
    "Two banked curves have the same radius. Curve A is banked at an angle of 13°, and curve B is banked at an angle of 19°. A car can travel around curve A without relying on friction at a speed of 18 m/s. At what speed can this car travel around curve B without relying on friction?\n",
    "\n",
    "*Answer:* 22 m/s"
   ]
  },
  {
   "cell_type": "markdown",
   "metadata": {},
   "source": [
    "**Problem 031**\n",
    "\n",
    "Two satellites are in circular orbits around the earth. The orbit for satellite A is at a height of 360 km above the earth's surface, while that for satellite B is at a height of 720 km. Find the orbital speed for each satellite.\n",
    "\n",
    "*Answer:* (a) 7690 m/s (b) 7500 m/s"
   ]
  },
  {
   "cell_type": "markdown",
   "metadata": {},
   "source": [
    "**Problem 041**\n",
    "\n",
    "A motorcycle has a constant speed of as it passes over the top of a hill whose radius of curvature is 126 meters. The mass of the motorcycle and driver is 342 kilograms. Find the magnitudes of (a) the centripetal force and (b) the normal force that acts on the cycle.\n",
    "\n",
    "*Answer:* (a) 1700 newtons (b) 1660 newtons"
   ]
  },
  {
   "cell_type": "markdown",
   "metadata": {},
   "source": [
    "**Problem 052**\n",
    "\n",
    "A child is twirling a 0.0120-kilogram plastic ball on a string in a horizontal circle whose radius is 0.100 meters. The ball travels once around the circle in 0.500 seconds. (a) Determine the centripetal force acting on the ball. (b) If the speed is doubled, does the centripetal force double? If not, by what factor does the centripetal force increase?\n",
    "\n",
    "*Answer:* (a) 0.189 newtons (b) 4"
   ]
  },
  {
   "cell_type": "markdown",
   "metadata": {},
   "source": [
    "**Problem 056**\n",
    "\n",
    "The National Aeronautics and Space Administration (NASA) studies the physiological effects of large accelerations on astronauts. Some of these studies use a machine known as a centrifuge. This machine consists of a long arm, to one end of which is attached a chamber in which the astronaut sits. The other end of the arm is connected to an axis about which the arm and chamber can be rotated. The astronaut moves on a circular path, much like a model airplane flying in a circle on a guideline. The chamber is located 15 meters from the center of the circle. At what speed must the chamber move so that an astronaut is subjected to 7.5 times the acceleration due to gravity?\n",
    "\n",
    "*Answer:* 33 m/s"
   ]
  },
  {
   "cell_type": "markdown",
   "metadata": {},
   "source": [
    "# Chapter 6"
   ]
  },
  {
   "cell_type": "markdown",
   "metadata": {},
   "source": [
    "**Problem 003**\n",
    "\n",
    "The brakes of a truck cause it to slow down by applying a retarding force of 3000 newtons to the truck over a distance of 850 meters. What is the work done by this force on the truck? Is the work positive or negative? Why?\n",
    "\n",
    "*Answer:* −2.6E+6 joules"
   ]
  },
  {
   "cell_type": "markdown",
   "metadata": {},
   "source": [
    "**Problem 005**\n",
    "\n",
    "Suppose that +1100 joules of work is done by a force (magnitude 30.0 newtons) in moving the suitcase a distance of 50.0 meters. At what angle is the force oriented with respect to the ground?\n",
    "\n",
    "*Answer:* 42.8°"
   ]
  },
  {
   "cell_type": "markdown",
   "metadata": {},
   "source": [
    "**Problem 006**\n",
    "\n",
    "A person pushes a 16.0-kilogram shopping cart at a constant velocity for a distance of 22.0 meters. She pushes in a direction below the horizontal. A 48.0-newton frictional force opposes the motion of the cart. (a) What is the magnitude of the force that the shopper exerts? Determine the work done by (b) the pushing force, (c) the frictional force, and (d) the gravitational force.\n",
    "\n",
    "*Answer:* (a) 54.9 newtons (b) 1060 joules (c) −1060 joules (d) 0 joules"
   ]
  },
  {
   "cell_type": "markdown",
   "metadata": {},
   "source": [
    "**Problem 008**\n",
    "\n",
    "A person pulls a toboggan for a distance of 35.0 meters along the snow with a rope directed 25.0° above the snow. The tension in the rope is 94.0 newtons. (a) How much work is done on the toboggan by the tension force? (b) How much work is done if the same tension is directed parallel to the snow?\n",
    "\n",
    "*Answer:* (a) 2980 joules (b) 3290 joules"
   ]
  },
  {
   "cell_type": "markdown",
   "metadata": {},
   "source": [
    "**Problem 013**\n",
    "\n",
    "A fighter jet is launched from an aircraft carrier with the aid of its own engines and a steam-powered catapult. The thrust of its engines is 2.3E+5 netwons. In being launched from rest it moves through a distance of 87 meters and has a kinetic energy of 4.5E+7 joules at lift-off. What is the work done on the jet by the catapult?\n",
    "\n",
    "*Answer:* 2.5E+7 joules"
   ]
  },
  {
   "cell_type": "markdown",
   "metadata": {},
   "source": [
    "**Problem 019**\n",
    "\n",
    "The hammer throw is a track-and-field event in which a 7.3-kilogram ball (the \"hammer\"), starting from rest, is whirled around in a circle several times and released. It then moves upward on the familiar curving path of projectile motion. In one throw, the hammer is given a speed of 29 m/s. For comparison, a .22 caliber bullet has a mass of 2.6 grams and, starting from rest, exits the barrel of a gun at a speed of 410 m/s. Determine the work done to launch the motion of (a) the hammer and (b) the bullet.\n",
    "\n",
    "*Answer:* (a) 3100 joules (b) 220 joules"
   ]
  },
  {
   "cell_type": "markdown",
   "metadata": {},
   "source": [
    "**Problem 029**\n",
    "\n",
    "A 75.0-kilogram skier rides a 2830-meter-long lift to the top of a mountain. The lift makes an angle of 14.6° with the horizontal. What is the change in the skier's gravitational potential energy?\n",
    "\n",
    "*Answer:* 5.24E+5 joules"
   ]
  },
  {
   "cell_type": "markdown",
   "metadata": {},
   "source": [
    "**Problem 033**\n",
    "\n",
    "A bicyclist rides 5.0 kilometers due east, while the resistive force from the air has a magnitude of 3.0 newtons and points due west. The rider then turns around and rides 5.0 kilometers due west, back to her starting point. The resistive force from the air on the return trip has a magnitude of 3.0 newtons and points due east. (a) Find the work done by the resistive force during the round trip. (b) Based on your answer to part (a), is the resistive force a conservative force? Explain.\n",
    "\n",
    "*Answer:* (a) −3.0E+4 joules (b) No"
   ]
  },
  {
   "cell_type": "markdown",
   "metadata": {},
   "source": [
    "**Problem 038**\n",
    "\n",
    "The skateboarder in the draw-ing starts down the left side of the ramp with an initial speed of 5.4 m/s. Neglect nonconservative forces, such as friction and air resistance, and find the height h of the highest point reached by the skateboarder on the right side of the ramp. \n",
    "\n",
    "*Answer:* 1.5 meters"
   ]
  },
  {
   "cell_type": "markdown",
   "metadata": {},
   "source": [
    "**Problem 041**\n",
    "\n",
    "A 47.0-gram golf ball is driven from the tee with an initial speed of and rises to a height of 24.6 meters. (a) Neglect air resistance and determine the kinetic energy of the ball at its highest point. (b) What is its speed when it is 8.0 meters below its highest point?\n",
    "\n",
    "*Answer:* (a) 52.2 joules (b) 48.8 joules"
   ]
  },
  {
   "cell_type": "markdown",
   "metadata": {},
   "source": [
    "**Problem 064**\n",
    "\n",
    "You are working out on a rowing machine. Each time you pull the rowing bar (which simulates the oars) toward you, it moves a distance of 1.2 meters in a time of 1.5 seconds. The readout on the display indicates that the average power you are producing is 82 watts. What is the magnitude of the force that you exert on the handle?\n",
    "\n",
    "*Answer:* 100 newtons"
   ]
  },
  {
   "cell_type": "markdown",
   "metadata": {},
   "source": [
    "**Problem 068**\n",
    "\n",
    "In 2.0 minutes, a ski lift raises four skiers at constant speed to a height of 140 meters. The average mass of each skier is 65 kilograms. What is the average power provided by the tension in the cable pulling the lift?\n",
    "\n",
    "*Answer:* 3000 watts"
   ]
  },
  {
   "cell_type": "markdown",
   "metadata": {},
   "source": [
    "**Problem 077**\n",
    "\n",
    "A 2.00-kilogram rock is released from rest at a height of 20.0 meters. Ignore air resistance and determine the kinetic energy, gravitational potential energy, and total mechanical energy at each of the following heights: 20.0, 10.0, and 0 meters.\n",
    "\n",
    "\n",
    "*Answer:* (a) 0, 392, 392 joules (b) 196, 196, 392 joules (c) 392, 0, 392 joules"
   ]
  },
  {
   "cell_type": "markdown",
   "metadata": {},
   "source": [
    "# Chapter 7"
   ]
  },
  {
   "cell_type": "markdown",
   "metadata": {},
   "source": [
    "**Problem 001**\n",
    "\n",
    "A 46-kilogram skater is standing still in front of a wall. By pushing against the wall she propels herself backward with a velocity of −1.2 m/s. Her hands are in contact with the wall for 0.80 seconds. Ignore friction and wind resistance. Find the magnitude and direction of the average force she exerts on the wall (which has the same magnitude as, but opposite direction to, the force that the wall applies to her).\n",
    "\n",
    "*Answer:* +69 newtons"
   ]
  },
  {
   "cell_type": "markdown",
   "metadata": {},
   "source": [
    "**Problem 005**\n",
    "\n",
    "A volleyball is spiked so that its incoming velocity of +4.0 m/s is changed to an outgoing velocity of −21 m/s. The mass of the volleyball is 0.35 kilograms. What impulse does the player apply to the ball?\n",
    "\n",
    "*Answer:* −8.7 kg-m/s"
   ]
  },
  {
   "cell_type": "markdown",
   "metadata": {},
   "source": [
    "**Problem 007**\n",
    "\n",
    "A hockey goalie is standing on ice. Another player fires a puck (mass = 0.17 kilograms) at the goalie with a velocity of +65 m/s. (a) If the goalie catches the puck with his glove in a time of 5.0E−3 seconds, what is the average force (magnitude and direction) exerted on the goalie by the puck? (b) Instead of catching the puck, the goalie slaps it with his stick and returns the puck straight back to the player with a velocity of −65 m/s. The puck and stick are in contact for a time of 5.0E−3 seconds. Now what is the average force exerted on the goalie by the puck?\n",
    "\n",
    "*Answer:* (a) 2200 newtons (b) 4400 newtons"
   ]
  },
  {
   "cell_type": "markdown",
   "metadata": {},
   "source": [
    "**Problem 019**\n",
    "\n",
    "A lumberjack (mass = 98 kilograms) is standing at rest on one end of a floating log (mass = 230 kilograms) that is also at rest. The lumberjack runs to the other end of the log, attaining a velocity of +3.6 m/s relative to the shore, and then hops onto an identical floating log that is initially at rest. Neglect any friction and resistance between the logs and the water. (a) What is the velocity of the first log just before the lumberjack jumps off? (b) Determine the velocity of the second log if the lumberjack comes to rest on it.\n",
    "\n",
    "*Answer:* (a) −1.5 m/s (b) +1.1 m/s"
   ]
  },
  {
   "cell_type": "markdown",
   "metadata": {},
   "source": [
    "**Problem 021**\n",
    "\n",
    "A two-stage rocket moves in space at a constant velocity of 4900 m/s. The two stages are then separated by a small explosive charge placed between them. Immediately after the explosion the velocity of the 1200-kilogram upper stage is 5700 m/s in the same direction as before the explosion. What is the velocity (magnitude and direction) of the 2400-kilogram lower stage after the explosion?\n",
    "\n",
    "*Answer:* +4500 m/s"
   ]
  },
  {
   "cell_type": "markdown",
   "metadata": {},
   "source": [
    "**Problem 029**\n",
    "\n",
    "A 2.50-gram bullet, traveling at a speed of 425 m/s, strikes the wooden block of a ballistic pendulum. The block has a mass of 215 grams. (a) Find the speed of the bullet–block combination immediately after the collision. (b) How high does the combination rise above its initial position?\n",
    "\n",
    "*Answer:* (a) 4.89 m/s (b) 1.22 meters"
   ]
  },
  {
   "cell_type": "markdown",
   "metadata": {},
   "source": [
    "**Problem 031**\n",
    "\n",
    "Batman (mass = 91 kilograms) jumps straight down from a bridge into a boat (mass = 510 kilograms) in which a criminal is fleeing. The velocity of the boat is initially +11 m/s. What is the velocity of the boat after Batman lands in it?\n",
    "\n",
    "*Answer:* +9.3 m/s"
   ]
  },
  {
   "cell_type": "markdown",
   "metadata": {},
   "source": [
    "**Problem 033**\n",
    "\n",
    "A 5.00-kilogram ball, moving to the right at a velocity of on a frictionless table, collides head-on with a stationary 7.50-kg ball. Find the final velocities of the balls if the collision is (a) elastic and (b) completely inelastic.\n",
    "\n",
    "*Answer:* (a) −0.400 m/s and +1.60 m/s (b) +0.800 m/s"
   ]
  },
  {
   "cell_type": "markdown",
   "metadata": {},
   "source": [
    "**Problem 035**\n",
    "\n",
    "A projectile (mass = 0.20 kilograms) is fired at and embeds itself in a stationary target (mass = 2.50 kilograms). With what percentage of the projectile's incident kinetic energy does the target (with the projectile in it) fly off after being struck?\n",
    "\n",
    "*Answer:* 7.4%"
   ]
  },
  {
   "cell_type": "markdown",
   "metadata": {},
   "source": [
    "**Problem 041**\n",
    "\n",
    "A 50.0-kilogram skater is traveling due east at a speed of 3.00 m/s. A 70.0-kilogram skater is moving due south at a speed of 7.00 m/s. They collide and hold on to each other after the collision, managing to move off at an angle south of east. Find (a) the angle and (b) the speed, assuming that friction can be ignored.\n",
    "\n",
    "*Answer:* (a) 73.0° (b) 4.28 m/s"
   ]
  },
  {
   "cell_type": "markdown",
   "metadata": {},
   "source": [
    "# Chapter 8"
   ]
  },
  {
   "cell_type": "markdown",
   "metadata": {},
   "source": [
    "**Problem 001**\n",
    "\n",
    "A pitcher throws a curveball that reaches the catcher in 0.60 seconds. The ball curves because it is spinning at an average angular velocity of 330 rpm (assumed constant) on its way to the catcher's mitt. What is the angular displacement of the baseball (in radians) as it travels from the pitcher to the catcher?\n",
    "\n",
    "*Answer:* 21 radians"
   ]
  },
  {
   "cell_type": "markdown",
   "metadata": {},
   "source": [
    "**Problem 003**\n",
    "\n",
    "The earth spins on its axis once a day and orbits the sun once a year (365¼ days). Determine the average angular velocity (in rad/s) of the earth as it (a) spins on its axis and (b) orbits the sun. In each case, take the positive direction for the angular displacement to be the direction of the earth's motion.\n",
    "\n",
    "*Answer:* (a) 7.3E−5 rad/s (b) 2.0E−7 rad/s"
   ]
  },
  {
   "cell_type": "markdown",
   "metadata": {},
   "source": [
    "**Problem 009**\n",
    "\n",
    "A Ferris wheel rotates at an angular velocity of 0.24 rad/s. Starting from rest, it reaches its operating speed with an average angular acceleration of 0.030 rad/s². How long does it take the wheel to come up to operating speed?\n",
    "\n",
    "*Answer:* 8.0 seconds"
   ]
  },
  {
   "cell_type": "markdown",
   "metadata": {},
   "source": [
    "**Problem 021**\n",
    "\n",
    "A gymnast is performing a floor routine. In a tumbling run she spins through the air, increasing her angular velocity from 3.00 to 5.00 rev/s while rotating through one-half of a revolution. How much time does this maneuver take?\n",
    "\n",
    "*Answer:* 0.125 seconds"
   ]
  },
  {
   "cell_type": "markdown",
   "metadata": {},
   "source": [
    "**Problem 023**\n",
    "\n",
    "A wind turbine is initially spinning at a constant angular speed. As the wind's strength gradually increases, the turbine experiences a constant angular acceleration of 0.140 rad/s². After making 2870 revolutions, its angular speed is 137 rad/s. (a) What is the initial angular velocity of the turbine? (b) How much time elapses while the turbine is speeding up?\n",
    "\n",
    "*Answer:* (a) 117 rad/s (b) 140 seconds"
   ]
  },
  {
   "cell_type": "markdown",
   "metadata": {},
   "source": [
    "**Problem 025**\n",
    "\n",
    "The wheels of a bicycle have an angular velocity of +20.0 rad/s. Then, the brakes are applied. In coming to rest, each wheel makes an angular displacement of +15.92 revolutions. (a) How much time does it take for the bike to come to rest? (b) What is the angular acceleration (in rad/s²) of each wheel?\n",
    "\n",
    "*Answer:* (a) 10.0 seconds (b) −2.00 rad/s²"
   ]
  },
  {
   "cell_type": "markdown",
   "metadata": {},
   "source": [
    "**Problem 037**\n",
    "\n",
    "A string trimmer is a tool for cutting grass and weeds; it utilizes a length of nylon \"string\" that rotates about an axis perpendicular to one end of the string. The string rotates at an angular speed of 47 rev/s, and its tip has a tangential speed of 54 m/s. What is the length of the rotating string?\n",
    "\n",
    "*Answer:* 0.18 meters"
   ]
  },
  {
   "cell_type": "markdown",
   "metadata": {},
   "source": [
    "**Problem 039**\n",
    "\n",
    "The take-up reel of a cassette tape has an average radius of 1.4 centimeters. Find the length of tape (in meters) that passes around the reel in 13 seconds when the reel rotates at an average angular speed of 3.4 rad/s.\n",
    "\n",
    "*Answer:* 0.62 meters"
   ]
  },
  {
   "cell_type": "markdown",
   "metadata": {},
   "source": [
    "**Problem 042**\n",
    "\n",
    "A person lowers a bucket into a well by turning the hand crank (axle diameter = 0.100 meters, crank diameter = 0.400 meters). The crank handle moves with a constant tangential speed of 1.20 m/s on its circular path. The rope holding the bucket unwinds without slipping on the barrel of the crank. Find the linear speed with which the bucket moves down the well. \n",
    "\n",
    "*Answer:* 0.300 m/s"
   ]
  },
  {
   "cell_type": "markdown",
   "metadata": {},
   "source": [
    "**Problem 053**\n",
    "\n",
    "A motorcycle accelerates uniformly from rest and reaches a linear speed of 22.0 m/s in a time of 9.00 seconds. The radius of each tire is 0.280 meters. What is the magnitude of the angular acceleration of each tire?\n",
    "\n",
    "*Answer:* 8.71 rad/s²"
   ]
  },
  {
   "cell_type": "markdown",
   "metadata": {},
   "source": [
    "**Problem 054**\n",
    "\n",
    "An automobile tire has a radius of 0.330 meters, and its center moves forward with a linear speed of 15.0 m/s. (a) Determine the angular speed of the wheel. (b) Relative to the axle, what is the tangential speed of a point located 0.175 meters from the axle?\n",
    "\n",
    "*Answer:* (a) 45.5 rad/s (b) 7.96 m/s"
   ]
  },
  {
   "cell_type": "markdown",
   "metadata": {},
   "source": [
    "**Problem 056**\n",
    "\n",
    "Suppose you are riding a stationary exercise bicycle, and the electronic meter indicates that the wheel is rotating at 9.1 rad/s. The wheel has a radius of 0.45 meters. If you ride the bike for 35 minutes, how far would you have gone if the bike could move?\n",
    "\n",
    "*Answer:* 8600 meters"
   ]
  },
  {
   "cell_type": "markdown",
   "metadata": {},
   "source": [
    "**Problem 068**\n",
    "\n",
    "During a tennis serve, a racket is given an angular acceleration of magnitude 160 rad/s². At the top of the serve, the racket has an angular speed of 14 rad/s. If the distance between the top of the racket and the shoulder is 1.5 meters, find the magnitude of the total acceleration of the top of the racket.\n",
    "\n",
    "*Answer:* 380 m/s²"
   ]
  },
  {
   "cell_type": "markdown",
   "metadata": {},
   "source": [
    "**Problem 069**\n",
    "\n",
    "The drawing shows a chain-saw blade. The rotating sprocket tip at the end of the guide bar has a radius of 4.0E−2 meters. The linear speed of a chain link is 5.6 m/s. Find the angular speed of the sprocket tip in rev/s. \n",
    "\n",
    "*Answer:* 22 rev/s"
   ]
  },
  {
   "cell_type": "markdown",
   "metadata": {},
   "source": [
    "# Chapter 9"
   ]
  },
  {
   "cell_type": "markdown",
   "metadata": {},
   "source": [
    "**Problem 001**\n",
    "\n",
    "The wheel of a car has a radius of 0.350 meters. The engine of the car applies a torque of 295 newtons to this wheel, which does not slip against the road surface. Since the wheel does not slip, the road must be applying a force of static friction to the wheel that produces a counter-torque. Moreover, the car has a constant velocity, so this counter-torque balances the applied torque. What is the magnitude of the static frictional force?\n",
    "\n",
    "*Answer:* 843 newtons"
   ]
  },
  {
   "cell_type": "markdown",
   "metadata": {},
   "source": [
    "**Problem 006**\n",
    "\n",
    "A square, 0.40 meters on a side, is mounted so that it can rotate about an axis that passes through the center of the square. The axis is perpendicular to the plane of the square. A force of 15 newtons lies in this plane and is applied to the square. What is the magnitude of the maximum torque that such a force could produce?\n",
    "\n",
    "*Answer:* 4.2 newton-meters"
   ]
  },
  {
   "cell_type": "markdown",
   "metadata": {},
   "source": [
    "**Problem 012**\n",
    "\n",
    "The drawing shows a person (weight = 584 newtons) doing push-ups. Find the normal force exerted by the floor on each hand and each foot, assuming that the person holds this position. \n",
    "\n",
    "*Answer:* (a) 196 newtons (b) 96 newtons"
   ]
  },
  {
   "cell_type": "markdown",
   "metadata": {},
   "source": [
    "**Problem 015**\n",
    "\n",
    "A person exerts a horizontal force of 190 newtons in the test apparatus shown in the drawing. Find the horizontal force (magnitude and direction) that his flexor muscle exerts on his forearm. (Muscle is 0.054 meters from elbow joint, apparatus is 0.34 meters from the joint.)\n",
    "\n",
    "*Answer:* 1200 newtons"
   ]
  },
  {
   "cell_type": "markdown",
   "metadata": {},
   "source": [
    "**Problem 031**\n",
    "\n",
    "A CD has a mass of 17 grams and a radius of 6.0 centimeters. When inserted into a player, the CD starts from rest and accelerates to an angular velocity of 21 rad/s in 0.80 seconds. Assuming the CD is a uniform solid disk, determine the net torque acting on it.\n",
    "\n",
    "*Answer:* 8.0E−4 newton-meters"
   ]
  },
  {
   "cell_type": "markdown",
   "metadata": {},
   "source": [
    "**Problem 033**\n",
    "\n",
    "A solid circular disk has a mass of 1.2 kilograms and a radius of 0.16 meters. Each of three identical thin rods has a mass of 0.15 kilograms. The rods are attached perpendicularly to the plane of the disk at its outer edge to form a three-legged stool (see the drawing). Find the moment of inertia of the stool with respect to an axis that is perpendicular to the plane of the disk at its center. \n",
    "\n",
    "(Hint: When considering the moment of inertia of each rod, note that all of the mass of each rod is located at the same perpendicular distance from the axis.)\n",
    "\n",
    "*Answer:* 0.027 kg-m²"
   ]
  },
  {
   "cell_type": "markdown",
   "metadata": {},
   "source": [
    "**Problem 034**\n",
    "\n",
    "A ceiling fan is turned on and a net torque of 18 newton-meters is applied to the blades. The blades have a total moment of inertia of 0.22 kg-m². What is the angular acceleration of the blades?\n",
    "\n",
    "*Answer:* 8.2 rad/s²"
   ]
  },
  {
   "cell_type": "markdown",
   "metadata": {},
   "source": [
    "**Problem 048**\n",
    "\n",
    "Calculate the kinetic energy that the earth has because of (a) its rotation about its own axis and (b) its motion around the sun. Assume that the earth is a uniform sphere and that its path around the sun is circular. For comparison, the total energy used in the United States in one year is about 1.1E+20 joules.\n",
    "\n",
    "*Answer:* (a) 2.57E+29 joules (b) 2.67E+33 joules"
   ]
  },
  {
   "cell_type": "markdown",
   "metadata": {},
   "source": [
    "**Problem 051**\n",
    "\n",
    "A flywheel is a solid disk that rotates about an axis that is perpendicular to the disk at its center. Rotating flywheels provide a means for storing energy in the form of rotational kinetic energy and are being considered as a possible alternative to batteries in electric cars. The gasoline burned in a 300-mile trip in a typical midsize car produces about 1.2E+9 joules of energy. How fast would a 13-kilograms flywheel with a radius of 0.30 m have to rotate to store this much energy? Give your answer in rpm.\n",
    "\n",
    "*Answer:* 6.1E+5 rpm"
   ]
  },
  {
   "cell_type": "markdown",
   "metadata": {},
   "source": [
    "**Problem 063**\n",
    "\n",
    "A thin rod has a length of 0.25 meters and rotates in a circle on a frictionless tabletop. The axis is perpendicular to the length of the rod at one of its ends. The rod has an angular velocity of 0.32 rad/s and a moment of inertia of 1.1E−3 kg-m². A bug standing on the axis decides to crawl out to the other end of the rod. When the bug (mass = 4.2E−3 kilograms) gets where it's going, what is the angular velocity of the rod?\n",
    "\n",
    "*Answer:* 0.26 rad/s"
   ]
  },
  {
   "cell_type": "markdown",
   "metadata": {},
   "source": [
    "**Problem 064**\n",
    "\n",
    "As seen from above, a playground carousel is rotating counterclockwise about its center on frictionless bearings. A person standing still on the ground grabs onto one of the bars on the carousel very close to its outer edge and climbs aboard. Thus, this person begins with an angular speed of zero and ends up with a nonzero angular speed, which means that he underwent a counterclockwise angular acceleration. The carousel has a radius of 1.50 meters, an initial angular speed of 3.14 rad/s, and a moment of inertia of 125 kg-m². The mass of the person is 40.0 kilograms. Find the final angular speed of the carousel after the person climbs aboard.\n",
    "\n",
    "*Answer:* 1.83 rad/s"
   ]
  },
  {
   "cell_type": "markdown",
   "metadata": {},
   "source": [
    "**Problem 071**\n",
    "\n",
    "A solid cylindrical disk has a radius of 0.15 meters. It is mounted to an axle that is perpendicular to the circular end of the disk at its center. When a 45-newton force is applied tangentially to the disk, perpendicular to the radius, the disk acquires an angular acceleration of 120 rad/s². What is the mass of the disk?\n",
    "\n",
    "*Answer:* 5.0 kilograms"
   ]
  },
  {
   "cell_type": "markdown",
   "metadata": {},
   "source": [
    "**Problem 073**\n",
    "\n",
    "A rotating door is made from four rectangular sections (1.2 meters long), as indicated in the drawing. The mass of each section is 85 kilograms. A person pushes on the outer edge of one section with a force of 68 newtons that is directed perpendicular to the section. Determine the magnitude of the door's angular acceleration. \n",
    "\n",
    "*Answer:* 0.50 rad/s²"
   ]
  },
  {
   "cell_type": "code",
   "execution_count": null,
   "metadata": {
    "collapsed": true
   },
   "outputs": [],
   "source": []
  },
  {
   "cell_type": "markdown",
   "metadata": {},
   "source": [
    "# Physics 202"
   ]
  },
  {
   "cell_type": "code",
   "execution_count": null,
   "metadata": {
    "collapsed": true
   },
   "outputs": [],
   "source": []
  },
  {
   "cell_type": "markdown",
   "metadata": {},
   "source": [
    "# Chapter 10\n",
    "\n",
    "- 1,4,7,11,17,21,32,33,43,44,51,53,76,80"
   ]
  },
  {
   "cell_type": "markdown",
   "metadata": {},
   "source": [
    "# Chapter 11\n",
    "\n",
    "- 1,3,11,12,20,33,35,40,41,56,57,63,73,93"
   ]
  },
  {
   "cell_type": "markdown",
   "metadata": {},
   "source": [
    "# Chapter 12\n",
    "\n",
    "- 3,11,15,28,29,35,47,57,59,63,92"
   ]
  },
  {
   "cell_type": "markdown",
   "metadata": {},
   "source": [
    "# Chapter 13\n",
    "\n",
    "- 2,5,9,22,25,29,37"
   ]
  },
  {
   "cell_type": "markdown",
   "metadata": {},
   "source": [
    "# Chapter 14\n",
    "\n",
    "- 5,15,17,35,40,41,49,53,57"
   ]
  },
  {
   "cell_type": "markdown",
   "metadata": {},
   "source": [
    "# Chapter 15\n",
    "\n",
    "- 1,6,8,21,22,44,47,51,63,64,78"
   ]
  },
  {
   "cell_type": "markdown",
   "metadata": {},
   "source": [
    "# Chapter 16\n",
    "\n",
    "- 1,3,4,5,12,35,53,65,67,69,76,80,92,93"
   ]
  },
  {
   "cell_type": "markdown",
   "metadata": {},
   "source": [
    "# Chapter 17\n",
    "\n",
    "- 2,3,12,19,21,23,27,33,43,45,55,59"
   ]
  },
  {
   "cell_type": "markdown",
   "metadata": {},
   "source": [
    "# Chapter 24\n",
    "\n",
    "- 1,2,3,7,15,17,35,36"
   ]
  },
  {
   "cell_type": "markdown",
   "metadata": {},
   "source": [
    "# Chapter 25\n",
    "\n",
    "- 5,6,16,20,21,38,39"
   ]
  },
  {
   "cell_type": "markdown",
   "metadata": {},
   "source": [
    "# Chapter 26\n",
    "\n",
    "- 1,10,11,13,45,50,53,75,77,105,108,113,115"
   ]
  },
  {
   "cell_type": "code",
   "execution_count": null,
   "metadata": {
    "collapsed": true
   },
   "outputs": [],
   "source": []
  },
  {
   "cell_type": "markdown",
   "metadata": {},
   "source": [
    "# Physics 203"
   ]
  },
  {
   "cell_type": "code",
   "execution_count": null,
   "metadata": {
    "collapsed": true
   },
   "outputs": [],
   "source": []
  },
  {
   "cell_type": "markdown",
   "metadata": {},
   "source": [
    "# Chapter 18\n",
    "\n",
    "- 1,5,10,11,12,17,18, 31,33,40,66,67,68"
   ]
  },
  {
   "cell_type": "markdown",
   "metadata": {},
   "source": [
    "# Chapter 19\n",
    "\n",
    "- 3,5,6,13,18,21,25,32,35,37,42,45,59,61"
   ]
  },
  {
   "cell_type": "markdown",
   "metadata": {},
   "source": [
    "# Chapter 20\n",
    "\n",
    "- 3,4,12,15,23,25,27,34,37,42,43,54,55,57,110,116"
   ]
  },
  {
   "cell_type": "markdown",
   "metadata": {},
   "source": [
    "# Chapter 20\n",
    "\n",
    "- 64,65,67,79,83,93,97,103,105,112"
   ]
  },
  {
   "cell_type": "markdown",
   "metadata": {},
   "source": [
    "# Chapter 21\n",
    "\n",
    "- 3,4,7,13,14,15,19,31,35,55,58,59,76"
   ]
  },
  {
   "cell_type": "markdown",
   "metadata": {},
   "source": [
    "# Chapter 22\n",
    "\n",
    "- 3,5,11,13,15,21,22,34,36,49,50,51,55,60,61,72,73,74"
   ]
  },
  {
   "cell_type": "markdown",
   "metadata": {},
   "source": [
    "# Chapter 23\n",
    "\n",
    "- 2,5,9,10,13,17,19,22,31,33,46,47,48"
   ]
  },
  {
   "cell_type": "markdown",
   "metadata": {},
   "source": [
    "# Chapter 24\n",
    "\n",
    "- 4,49,51,52"
   ]
  },
  {
   "cell_type": "markdown",
   "metadata": {},
   "source": [
    "# Chapter 28\n",
    "\n",
    "- 1,3,4,8,9,10,21,25,27,29,30,43,45"
   ]
  },
  {
   "cell_type": "markdown",
   "metadata": {},
   "source": [
    "# Chapter 29\n",
    "\n",
    "- 1,3,5,7,15,18,19,25,26,37,39,43"
   ]
  }
 ],
 "metadata": {
  "anaconda-cloud": {},
  "kernelspec": {
   "display_name": "Python [Root]",
   "language": "python",
   "name": "Python [Root]"
  },
  "language_info": {
   "codemirror_mode": {
    "name": "ipython",
    "version": 3
   },
   "file_extension": ".py",
   "mimetype": "text/x-python",
   "name": "python",
   "nbconvert_exporter": "python",
   "pygments_lexer": "ipython3",
   "version": "3.5.2"
  }
 },
 "nbformat": 4,
 "nbformat_minor": 0
}
