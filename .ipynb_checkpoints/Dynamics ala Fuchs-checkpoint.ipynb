{
 "cells": [
  {
   "cell_type": "code",
   "execution_count": 6,
   "metadata": {
    "collapsed": false,
    "scrolled": false
   },
   "outputs": [
    {
     "name": "stdout",
     "output_type": "stream",
     "text": [
      "[\n",
      " (    0.00,     0.00),\n",
      " (    1.00,    -0.40),\n",
      " (    2.00,    -0.80),\n",
      " (    3.00,    -1.20),\n",
      " (    4.00,    -1.60),\n",
      "...\n",
      " (   96.00,   -38.40),\n",
      " (   97.00,   -38.80),\n",
      " (   98.00,   -39.20),\n",
      " (   99.00,   -39.60),\n",
      " (  100.00,   -40.00),\n",
      "]\n"
     ]
    }
   ],
   "source": [
    "class SubstanceLikeQuantity():\n",
    "    def __init__(self, initial_value=0.0, initial_time=0.0):\n",
    "        self._data = []\n",
    "        self._data.append((initial_time, initial_value))\n",
    "    \n",
    "    def flx(self):\n",
    "        flx = -1.0\n",
    "        return flx\n",
    "\n",
    "    def src(self):\n",
    "        src = 0.5\n",
    "        return src\n",
    "    \n",
    "    def prd(self):\n",
    "        prd = 0.1\n",
    "        return prd\n",
    "    \n",
    "    def dot(self):\n",
    "        return self.flx() + self.src() + self.prd()\n",
    "    \n",
    "    def increment(self, dt):\n",
    "        t, x = self._data[-1]\n",
    "        t = t + dt\n",
    "        x = x + self.dot()\n",
    "        self._data.append((t, x))\n",
    "        \n",
    "    def __repr__(self):\n",
    "        s = '\\n'\n",
    "        for t, x in self._data[:5]:\n",
    "            s += ' ({: 8.2f}, {: 8.2f}),\\n'.format(t, x)\n",
    "        s += '...\\n'\n",
    "        for t, x in self._data[-5:]:\n",
    "            s += ' ({: 8.2f}, {: 8.2f}),\\n'.format(t, x)\n",
    "        return '[{}]'.format(s)\n",
    "    \n",
    "    def __str__(self):\n",
    "        return self.__repr__()\n",
    "\n",
    "\n",
    "X = SubstanceLikeQuantity()\n",
    "\n",
    "for i in range(100):\n",
    "    X.increment(1)\n",
    "\n",
    "print(X)"
   ]
  },
  {
   "cell_type": "code",
   "execution_count": null,
   "metadata": {
    "collapsed": true
   },
   "outputs": [],
   "source": []
  },
  {
   "cell_type": "code",
   "execution_count": null,
   "metadata": {
    "collapsed": true
   },
   "outputs": [],
   "source": []
  }
 ],
 "metadata": {
  "anaconda-cloud": {},
  "kernelspec": {
   "display_name": "Python [Root]",
   "language": "python",
   "name": "Python [Root]"
  },
  "language_info": {
   "codemirror_mode": {
    "name": "ipython",
    "version": 3
   },
   "file_extension": ".py",
   "mimetype": "text/x-python",
   "name": "python",
   "nbconvert_exporter": "python",
   "pygments_lexer": "ipython3",
   "version": "3.5.2"
  }
 },
 "nbformat": 4,
 "nbformat_minor": 0
}
