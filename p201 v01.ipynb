{
 "cells": [
  {
   "cell_type": "code",
   "execution_count": 1,
   "metadata": {
    "collapsed": true
   },
   "outputs": [],
   "source": [
    "import matplotlib.pyplot as plt\n",
    "import numpy as np\n",
    "\n",
    "from mpl_toolkits.mplot3d.axes3d import Axes3D\n",
    "\n",
    "%matplotlib inline"
   ]
  },
  {
   "cell_type": "code",
   "execution_count": 25,
   "metadata": {
    "collapsed": true
   },
   "outputs": [],
   "source": [
    "class TimeValue:\n",
    "    def __init__(self, time, value):\n",
    "        self.time = time * 1.0\n",
    "        self.value = value * 1.0\n",
    "\n",
    "    def __repr__(self):\n",
    "        return '({}, {})'.format(self.time, self.value)"
   ]
  },
  {
   "cell_type": "code",
   "execution_count": 86,
   "metadata": {
    "collapsed": true
   },
   "outputs": [],
   "source": [
    "class TimeSeries:\n",
    "    def __init__(self, points=[]):\n",
    "        self.series = []\n",
    "        for (time, value) in points:\n",
    "            self.append(time, value)\n",
    "        \n",
    "    def append(self, time, value):\n",
    "        self.series.append(TimeValue(time, value))\n",
    "        self.series = sorted(self.series, key=lambda x: x.time)\n",
    "        \n",
    "    @property\n",
    "    def initial(self):\n",
    "        return self.series[0]\n",
    "    \n",
    "    @property\n",
    "    def timeline(self):\n",
    "        return [x.time for x in self.series]\n",
    "    \n",
    "    @property\n",
    "    def values(self):\n",
    "        return [x.value for x in self.series]\n",
    "    \n",
    "    @property\n",
    "    def components(self, i=None):\n",
    "        try:\n",
    "            return list(zip(*self.values))\n",
    "        except:\n",
    "            return [self.values]\n",
    "\n",
    "    def plot(self, toggle='0', title='', loc=None, grid=True, marker=None, labels=None):\n",
    "        if len(self.components) > 1:\n",
    "            plt.plot(self.timeline, self.values, marker=marker)\n",
    "            if legend_loc:\n",
    "                plt.legend(['x','y','z'][:len(self.components)], loc=legend_loc, numpoints=1)\n",
    "        else:\n",
    "            r = self\n",
    "            v = r.rate_of_change()\n",
    "            a = v.rate_of_change()\n",
    "            \n",
    "            if '0' in toggle:\n",
    "                plt.plot(r.timeline, r.values, marker=marker, label='position')\n",
    "            if '1' in toggle:\n",
    "                plt.plot(v.timeline, v.values, marker=marker, label='velocity')\n",
    "            if '2' in toggle:\n",
    "                plt.plot(a.timeline, a.values, marker=marker, label='acceleration')\n",
    "            if loc:\n",
    "                if labels:\n",
    "                    plt.legend(labels, loc=loc, numpoints=1)\n",
    "                else:\n",
    "                    plt.legend(loc=loc, numpoints=1)\n",
    "        plt.title(title)\n",
    "        plt.xlabel('Time')\n",
    "        plt.margins(0.05)\n",
    "        dt = 0.03 * (self.timeline[-1] - self.timeline[0])\n",
    "        plt.axes().set_xlim([self.timeline[0] - dt, self.timeline[-1] + dt])\n",
    "        if grid:\n",
    "            plt.axes().axhline(0, c='k')\n",
    "            plt.grid(True)\n",
    "\n",
    "        \n",
    "    def plot2d(self, x_index=0, y_index=1, toggle='0', title='', color='', labels=[],\n",
    "               grid=True, loc=None, markevery=0, arrows=False):\n",
    "        \n",
    "        r = self\n",
    "        rx = r.components[x_index]\n",
    "        ry = r.components[y_index]\n",
    "\n",
    "        v = r.rate_of_change()\n",
    "        vx = v.components[x_index]\n",
    "        vy = v.components[y_index]\n",
    "\n",
    "        a = v.rate_of_change()\n",
    "        ax = a.components[x_index]\n",
    "        ay = a.components[y_index]\n",
    "\n",
    "        if color:\n",
    "            r_color, v_color, a_color = color * 3\n",
    "        else:\n",
    "            r_color, v_color, a_color = 'bgr'\n",
    "        \n",
    "        if labels:\n",
    "            r_label, v_label, a_label = labels\n",
    "        else:\n",
    "            r_label, v_label, a_label = ['position','velocity','acceleration']\n",
    "        \n",
    "        if '0' in toggle:\n",
    "            plt.plot(rx, ry, c=r_color, label=r_label,\n",
    "                     markevery=[-1], marker='o', mfc='w', mec=r_color, mew=1)\n",
    "            if markevery:\n",
    "                plt.plot(rx, ry, lw=0, markevery=markevery, marker='.', mec=r_color)\n",
    "\n",
    "        if '1' in toggle:\n",
    "            plt.plot(vx, vy, c=v_color, label=v_label,\n",
    "                     markevery=[-1], marker='o', mfc='w', mec=v_color, mew=1)            \n",
    "            if markevery:\n",
    "                plt.plot(vx, vy, lw=0, markevery=markevery, marker='.', mec=v_color)\n",
    "\n",
    "        if '2' in toggle:\n",
    "            plt.plot(ax, ay, c=a_color, label=a_label, \n",
    "                     markevery=[-1], marker='o', mfc='w', mec=a_color, mew=1)\n",
    "            if markevery:\n",
    "                plt.plot(ax, ay, lw=0, markevery=markevery, marker='.', mec=a_color)\n",
    "            \n",
    "        plt.axes().set_aspect('equal')\n",
    "        plt.margins(0.05)\n",
    "        if loc and len(toggle) > 1:\n",
    "            plt.legend(numpoints=1, loc=loc)\n",
    "        plt.title(title)\n",
    "        \n",
    "        if grid:\n",
    "            plt.axes().axhline(0, c='k')\n",
    "            plt.axes().axvline(0, c='k')\n",
    "            plt.grid(True)\n",
    "\n",
    "        if arrows:\n",
    "            xmin, xmax = plt.xlim()\n",
    "            ymin, ymax = plt.ylim()\n",
    "            size = 0.5 * (xmax - xmin) + 0.5 * (ymax - ymin)\n",
    "            head_size = {\n",
    "                'head_width': 0.03 * size,\n",
    "                'head_length': 0.05 * size,\n",
    "            }\n",
    "            if '1' in toggle:\n",
    "                plt.axes().arrow(rx[-1], ry[-1], vx[-1], vy[-1], \n",
    "                                 fc=v_color, ec=v_color, **head_size)\n",
    "            if '2' in toggle:\n",
    "                plt.axes().arrow(rx[-1], ry[-1], ax[-1], ay[-1], \n",
    "                                 fc=a_color, ec=a_color, **head_size)\n",
    "             \n",
    "    @property\n",
    "    def intervals(self):\n",
    "        intervals = []\n",
    "        for i in range(1, len(self.series)):\n",
    "            intervals.append((self.series[i - 1], self.series[i]))\n",
    "        return intervals    \n",
    " \n",
    "    def get_interval(self, time): # closed on left [a, b)\n",
    "        tmin = min(self.timeline)\n",
    "        tmax = max(self.timeline)\n",
    "        if time < tmin:\n",
    "            return None, self.series[0]\n",
    "        elif time >= tmax:\n",
    "            return self.series[-1], None\n",
    "        else:\n",
    "            for a, b in self.intervals:\n",
    "                if a.time <= time and time < b.time:\n",
    "                    return a, b\n",
    "    \n",
    "    def rate_of_change(self):\n",
    "        ts = TimeSeries()\n",
    "        for i, (a, b) in enumerate(self.intervals):\n",
    "            dx = b.value - a.value\n",
    "            dt = b.time - a.time\n",
    "            if 1 == 0:\n",
    "                ts.append(a.time, dx/dt)\n",
    "            else:\n",
    "                ts.append(a.time + dt/2, dx/dt)\n",
    "        return ts\n",
    "                \n",
    "    def __call__(self, time):\n",
    "        a, b = self.get_interval(time)\n",
    "        # this method will not extrapolate, but we do need to take care of this edge case...\n",
    "        if b is None and round(a.time - time, 10) == 0:\n",
    "            return a.value\n",
    "        else:\n",
    "            dx = b.value - a.value\n",
    "            dt = b.time - a.time\n",
    "            return a.value + dx/dt * (time - a.time)\n",
    "\n",
    "    def __getitem__(self, index):\n",
    "        if isinstance(index, int):\n",
    "            return self.series[index]\n",
    "        elif isinstance(index, slice):\n",
    "            return self.series[index]\n",
    "        else:\n",
    "            raise TypeError(\"index must be int or slice\")\n",
    "        \n",
    "    def __repr__(self):\n",
    "        import pprint\n",
    "        return pprint.pformat(self.series)\n"
   ]
  },
  {
   "cell_type": "code",
   "execution_count": 87,
   "metadata": {
    "collapsed": true
   },
   "outputs": [],
   "source": [
    "class Particle():\n",
    "    def __init__(self, mass=1, t0=0, r0=0, p0=0, v0=None):\n",
    "        self.mass = mass\n",
    "        self.position = TimeSeries([(t0, r0)])\n",
    "        if self.mass and v0 is not None:\n",
    "            self.momentum = TimeSeries([(t0, self.mass * v0)])\n",
    "        else:\n",
    "            self.momentum = TimeSeries([(t0, p0)])\n",
    "        self.forces = []\n",
    "\n",
    "    def addforce(self, force):\n",
    "        self.forces.append(lambda t, obj=self: force(obj, t))        \n",
    "        \n",
    "    def netforce(self, time): # momentum flow or rate of change\n",
    "        netforce = 0\n",
    "        for f in self.forces:\n",
    "            netforce += f(time)\n",
    "        return netforce\n",
    "\n",
    "    def velocity(self, time): # position flow or rate of change\n",
    "        if time > max(self.momentum.timeline):\n",
    "            time = max(self.momentum.timeline)\n",
    "        return self.momentum(time) / self.mass\n",
    "\n",
    "    def increment(self, dt, n=1):\n",
    "        for i in range(n):\n",
    "            t = max(self.position.timeline)\n",
    "\n",
    "            if len(self.position.timeline) == 1: # then only go forward half an increment            \n",
    "                next_p = self.momentum(t) + self.netforce(t) * dt/2\n",
    "                self.momentum = TimeSeries() # throw out that \"initial\" value\n",
    "            else: # reach back half an increment to calculate the new momentum value\n",
    "                next_p = self.momentum(t - dt/2) + self.netforce(t) * dt\n",
    "\n",
    "            self.momentum.append(t + dt/2, next_p)\n",
    "            next_r = self.position(t) + self.velocity(t + dt/2) * dt        \n",
    "            self.position.append(t + dt, next_r)"
   ]
  },
  {
   "cell_type": "code",
   "execution_count": 79,
   "metadata": {
    "collapsed": true
   },
   "outputs": [],
   "source": [
    "class PhysicalSystem():\n",
    "    def __init__(self, initial=[]):\n",
    "        self.objs = list()\n",
    "        for (mass, r0, v0) in initial:\n",
    "            self.objs.append(Particle(mass=mass, r0=r0, v0=v0))\n",
    "                    \n",
    "        for obj1 in self.objs:\n",
    "            for obj2 in self.objs:\n",
    "                if obj1 != obj2: # no self-interactions !\n",
    "                    internal_force = lambda t, obj1=obj1, obj2=obj2: self.interaction(obj1, obj2, t)\n",
    "                    obj1.forces.append(internal_force)\n",
    "                    \n",
    "    def interaction(self, obj1, obj2, time):\n",
    "        return 0\n",
    "                    \n",
    "    def increment(self, dt, n=1):\n",
    "        for i in range(n):\n",
    "            for obj in self.objs:\n",
    "                obj.increment(dt)\n",
    "                \n",
    "    def plot(self):\n",
    "        for i, obj in enumerate(self.objs):\n",
    "            obj.position.plot(legend_loc=None)\n",
    "            \n",
    "    def plot2d(self, colors='bgrcmyk'*9, **kwargs):\n",
    "        for i, obj in enumerate(self.objs):\n",
    "            obj.position.plot2d(color=colors[i], **kwargs)"
   ]
  },
  {
   "cell_type": "code",
   "execution_count": 80,
   "metadata": {
    "collapsed": true
   },
   "outputs": [],
   "source": [
    "import cmath\n",
    "\n",
    "class RigidObject(Particle):\n",
    "    def __init__(self, mass=1, t0=0, r0=0, p0=0, v0=None, moi=1, q0=1+0j, L0=0+0j, w0=None):\n",
    "        Particle.__init__(self, mass, t0, r0, p0, v0)\n",
    "        self.moi = moi\n",
    "        self.attitude = TimeSeries([(t0, q0)])\n",
    "        self.angular_displacement = TimeSeries([(t0, cmath.phase(q0))])\n",
    "        if self.moi and w0 is not None:\n",
    "            self.angular_momentum = TimeSeries([(t0, self.moi * w0)])\n",
    "        else:\n",
    "            self.angular_momentum = TimeSeries([(t0, L0)])\n",
    "        self.torques = []\n",
    "    \n",
    "    def add_torque(self, torque):\n",
    "        self.torques.append(lambda t, obj=self: torque(obj, t))        \n",
    "        \n",
    "    def net_torque(self, time): # angular_momentum flow or rate of change\n",
    "        net_torque = 0+0j\n",
    "        for tau in self.torques:\n",
    "            net_torque += tau(time)\n",
    "        return net_torque\n",
    "\n",
    "    def rotational_velocity(self, time): # attitude flow or rate of change\n",
    "        if time > max(self.angular_momentum.timeline):\n",
    "            time = max(self.angular_momentum.timeline)\n",
    "        return self.angular_momentum(time) / self.moi\n",
    "    \n",
    "    def increment(self, dt, n=1):\n",
    "        for i in range(n):\n",
    "            Particle.increment(self, dt, 1)\n",
    "            \n",
    "            t = max(self.attitude.timeline)\n",
    "\n",
    "            if len(self.attitude.timeline) == 1: # then only go forward half an increment            \n",
    "                next_L = self.angular_momentum(t) + self.net_torque(t) * dt/2\n",
    "                self.angular_momentum = TimeSeries() # throw out that \"initial\" value\n",
    "            else: # reach back half an increment to calculate the new momentum value\n",
    "                next_L = self.angular_momentum(t - dt/2) + self.net_torque(t) * dt                \n",
    "\n",
    "                q = self.angular_displacement(t - dt)\n",
    "                q += self.rotational_velocity(t + dt/2) * dt\n",
    "                self.angular_displacement.append(t, q)\n",
    "\n",
    "            self.angular_momentum.append(t + dt/2, next_L)\n",
    "            rotor = np.exp( 1j * self.rotational_velocity(t + dt/2) * dt )\n",
    "            next_attitude = self.attitude(t) * rotor\n",
    "            self.attitude.append(t + dt, next_attitude)"
   ]
  },
  {
   "cell_type": "markdown",
   "metadata": {},
   "source": [
    "- Ch 01: 1,3,5,12,13,45,46,49,59,61\n",
    "- Ch 02: 1,3,15,28,29,45,51,53,67,68,78,79,81\n",
    "- Ch 03: 5,7,8,9,19,30,35,57,59,69,71\n",
    "- Ch 04: 1,11,38,39,42,56,79,81,98,103,104\n",
    "- Ch 05: 5,7,8,9,15,23,27,31,41,52,56\n",
    "- Ch 06: 3,5,6,8,13,19,29,33,38,41,64,68,77\n",
    "- Ch 07: 1,5,7,19,21,29,31,33,35,41\n",
    "- Ch 08: 1,3,9,21,23,25,37,39,42,53,54,56,68,69\n",
    "- Ch 09: 1,6,12,15,31,33,34,48,51,63,64,71,73"
   ]
  },
  {
   "cell_type": "markdown",
   "metadata": {},
   "source": [
    "## Chapter 2"
   ]
  },
  {
   "cell_type": "markdown",
   "metadata": {},
   "source": [
    "**Problem 003**\n",
    "\n",
    "Due to continental drift, the North American and European continents are drifiting apart at an average speed of about 0.03 meters per year. At this speed, how long (in years) will it take for them to drift apart by another 1500 meters? "
   ]
  },
  {
   "cell_type": "code",
   "execution_count": 41,
   "metadata": {
    "collapsed": false
   },
   "outputs": [
    {
     "data": {
      "text/plain": [
       "(50000.0, 1500.0)"
      ]
     },
     "execution_count": 41,
     "metadata": {},
     "output_type": "execute_result"
    }
   ],
   "source": [
    "obj = Particle(v0=0.03)\n",
    "while obj.position.values[-1] < 1500:\n",
    "    obj.increment(dt=100)\n",
    "obj.position[-1]"
   ]
  },
  {
   "cell_type": "markdown",
   "metadata": {},
   "source": [
    "**Problem 015** \n",
    "\n",
    "(a) Suppose that a NASCAR race car is moving to the right with a constant velocity \n",
    "of +82 m/s. What is the average acceleration of of car? (b) Twelve seconds later, the car \n",
    "is halfway around the track and traveling in the opposite direction with the same speed. \n",
    "What is the average acceleration of the car?"
   ]
  },
  {
   "cell_type": "code",
   "execution_count": 94,
   "metadata": {
    "collapsed": false
   },
   "outputs": [
    {
     "data": {
      "text/plain": [
       "[0.0]"
      ]
     },
     "execution_count": 94,
     "metadata": {},
     "output_type": "execute_result"
    }
   ],
   "source": [
    "v = TimeSeries()\n",
    "v.append(0,82)\n",
    "v.append(12,82)\n",
    "a = v.rate_of_change()\n",
    "a.values"
   ]
  },
  {
   "cell_type": "code",
   "execution_count": 95,
   "metadata": {
    "collapsed": false
   },
   "outputs": [
    {
     "data": {
      "text/plain": [
       "[-13.666666666666666]"
      ]
     },
     "execution_count": 95,
     "metadata": {},
     "output_type": "execute_result"
    }
   ],
   "source": [
    "v = TimeSeries()\n",
    "v.append(0,82)\n",
    "v.append(12,-82)\n",
    "a = v.rate_of_change()\n",
    "a.values"
   ]
  },
  {
   "cell_type": "markdown",
   "metadata": {},
   "source": [
    "**Problem 028**\n",
    "\n",
    "(a) What is the magnitude of the average acceleration of a skier who, starting from rest, reaches a speed of 8.0 m/s when going down a slope for 5.0 seconds? (b) How far does the skier travel in this time?"
   ]
  },
  {
   "cell_type": "code",
   "execution_count": 127,
   "metadata": {
    "collapsed": false
   },
   "outputs": [
    {
     "name": "stdout",
     "output_type": "stream",
     "text": [
      "1.6162\n",
      "20.2025\n"
     ]
    },
    {
     "data": {
      "image/png": "[encoded data removed]",
      "text/plain": [
       "<matplotlib.figure.Figure at 0x7f1dc7a2dcf8>"
      ]
     },
     "metadata": {},
     "output_type": "display_data"
    }
   ],
   "source": [
    "a = 1.616\n",
    "while True:\n",
    "    obj = Particle(v0=0)\n",
    "    obj.netforce = lambda t: a\n",
    "    obj.increment(0.1,50)\n",
    "    if obj.velocity(5.0) > 8.0:\n",
    "        break\n",
    "    else:\n",
    "        a += 0.0001\n",
    "print(a)\n",
    "print(obj.position(5.0))\n",
    "obj.position.plot()"
   ]
  },
  {
   "cell_type": "markdown",
   "metadata": {},
   "source": [
    "**Problem 029**\n",
    "\n",
    "A jetliner, traveling northward, is landing with a speed of 69 m/s. Once the jet touches down, it has 750 meters of runway in which to reduce its speed to 6.1 m/s. Compute the average acceleration of the plane during landing."
   ]
  },
  {
   "cell_type": "code",
   "execution_count": 149,
   "metadata": {
    "collapsed": false,
    "scrolled": false
   },
   "outputs": [
    {
     "name": "stdout",
     "output_type": "stream",
     "text": [
      "-3.15\n",
      "(20.000000000000327, 750.000000000044)\n",
      "6.015750000004931\n"
     ]
    },
    {
     "data": {
      "image/png": "[encoded data removed]",
      "text/plain": [
       "<matplotlib.figure.Figure at 0x7f1dc7a61e48>"
      ]
     },
     "metadata": {},
     "output_type": "display_data"
    },
    {
     "data": {
      "image/png": "[encoded data removed]",
      "text/plain": [
       "<matplotlib.figure.Figure at 0x7f1dcac996d8>"
      ]
     },
     "metadata": {},
     "output_type": "display_data"
    }
   ],
   "source": [
    "a = -3.15\n",
    "for i in range(100):\n",
    "    obj = Particle(v0=69)\n",
    "    obj.netforce = lambda t: a\n",
    "    while obj.position.values[-1] < 750:\n",
    "        obj.increment(0.01)\n",
    "    t = obj.position.timeline[-1]\n",
    "    if obj.velocity(t) < 6.1:\n",
    "        break\n",
    "    else:\n",
    "        a += -0.001\n",
    "\n",
    "print(a)\n",
    "print(obj.position[-1])\n",
    "print(obj.velocity(t))\n",
    "\n",
    "obj.position.plot('0')\n",
    "plt.show()\n",
    "obj.position.plot('1')"
   ]
  },
  {
   "cell_type": "markdown",
   "metadata": {},
   "source": [
    "**Problem 045**\n",
    "\n",
    "The drawing shows a device that you can make with a piece of cardboard, which can be used to measure a person's reaction time. Hold the card at the top and suddenly drop it. Ask a friend to try to catch the card between his or her thumb and index finger. Initially, your friend's fingers must be level with the asterisks at the bottom. By noting where your friend catches the card, you can determine his or her reaction time in milliseconds. Calculate the distance `d1` (180 ms), `d2` (120 ms), and `d3` (60.0 ms)."
   ]
  },
  {
   "cell_type": "code",
   "execution_count": 152,
   "metadata": {
    "collapsed": false
   },
   "outputs": [
    {
     "name": "stdout",
     "output_type": "stream",
     "text": [
      "(0.060000000000000046, -0.01763999999999999)\n",
      "(0.12000000000000009, -0.07056000000000004)\n",
      "(0.18000000000000013, -0.1587600000000002)\n"
     ]
    }
   ],
   "source": [
    "ts = Particle(v0=0)\n",
    "ts.netforce = lambda t: -9.8\n",
    "ts.increment(0.001,60)\n",
    "print(ts.position[-1])\n",
    "ts.increment(0.001,60)\n",
    "print(ts.position[-1])\n",
    "ts.increment(0.001,60)\n",
    "print(ts.position[-1])"
   ]
  },
  {
   "cell_type": "markdown",
   "metadata": {},
   "source": [
    "**Problem 051**\n",
    "\n",
    "A diver springs upward with an initial speed of 1.8 m/s from a 3.0-meter board. (a) Find the velocity with which he strikes the water. [Hint: When the diver reaches the water, his displacement is `y` = -3.0 meters (measured from the board), assuming that the downward direction is chosen as the negative direction.] (b) What is the highest point he reaches above the water?"
   ]
  },
  {
   "cell_type": "markdown",
   "metadata": {},
   "source": [
    "**Problem 053**\n",
    "\n",
    "From her bedroom window a girl drops a water-filled balloon to the ground, 6.0 meters below. If the balloon is released from rest, how long is it in the air?"
   ]
  },
  {
   "cell_type": "markdown",
   "metadata": {},
   "source": [
    "**Problme 067** \n",
    "\n",
    "A snowmobile moves according to the velocity-time graph shown in the drawing. What is the snowmobile's average acceleration during each of the segments `A`, `B`, `C`?"
   ]
  },
  {
   "cell_type": "code",
   "execution_count": 88,
   "metadata": {
    "collapsed": false
   },
   "outputs": [
    {
     "data": {
      "image/png": "[encoded data removed]",
      "text/plain": [
       "<matplotlib.figure.Figure at 0x7f1dcacbe208>"
      ]
     },
     "metadata": {},
     "output_type": "display_data"
    }
   ],
   "source": [
    "v = TimeSeries([\n",
    "    (0,0),\n",
    "    (20,40),\n",
    "    (47,40),\n",
    "    (60,82),\n",
    "])\n",
    "v.plot()"
   ]
  },
  {
   "cell_type": "code",
   "execution_count": 89,
   "metadata": {
    "collapsed": false
   },
   "outputs": [
    {
     "data": {
      "text/plain": [
       "[(10.0, 2.0), (33.5, 0.0), (53.5, 3.230769230769231)]"
      ]
     },
     "execution_count": 89,
     "metadata": {},
     "output_type": "execute_result"
    }
   ],
   "source": [
    "v.rate_of_change()"
   ]
  },
  {
   "cell_type": "markdown",
   "metadata": {},
   "source": [
    "**Problem 068**\n",
    "\n",
    "A bus makes a trip according to the position-time graph shown in the drawing. What is the average velocity of the bus during each of the segments `A`, `B`, and `C`? Express your answers in km/h."
   ]
  },
  {
   "cell_type": "code",
   "execution_count": 90,
   "metadata": {
    "collapsed": false
   },
   "outputs": [
    {
     "data": {
      "image/png": "[encoded data removed]",
      "text/plain": [
       "<matplotlib.figure.Figure at 0x7f1dc7ad5b70>"
      ]
     },
     "metadata": {},
     "output_type": "display_data"
    }
   ],
   "source": [
    "x = TimeSeries([\n",
    "    (0.0,40),\n",
    "    (1.5,10),\n",
    "    (2.5,20),\n",
    "    (3.0,40),\n",
    "])\n",
    "x.plot()"
   ]
  },
  {
   "cell_type": "code",
   "execution_count": 93,
   "metadata": {
    "collapsed": false
   },
   "outputs": [
    {
     "data": {
      "text/plain": [
       "[(0.75, -20.0), (2.0, 10.0), (2.75, 40.0)]"
      ]
     },
     "execution_count": 93,
     "metadata": {},
     "output_type": "execute_result"
    }
   ],
   "source": [
    "x.rate_of_change()"
   ]
  },
  {
   "cell_type": "markdown",
   "metadata": {},
   "source": [
    "**Problem 078**\n",
    "\n",
    "In 1998, NASA launched *Deep Space I* (DS-1), a spacecraft that successfully flew by the asteroid named 1992 KD (which orbits the sun millions of miles from the earth). The propulsion system of DS-1 worked by ejecting high-speed argon ions out the rear of the engine. The engine slowly increased the velocity of DS-1 by about +9.0 m/s per day. (a) How much time (in days) would it take to increase the velocity of DS-1 by +2700 m/s? (b) What was the acceleration of DS-1 (in m/s²)?"
   ]
  },
  {
   "cell_type": "markdown",
   "metadata": {},
   "source": [
    "**Problem 079**\n",
    "\n",
    "A cheetah is hunting. Its prey runs for 3.0 seconds at a constant velocity of +9.0 m/s. Starting from rest, what constant acceleration must the cheetah maintain in order to run the same distance as its prey runs in the same time?"
   ]
  },
  {
   "cell_type": "markdown",
   "metadata": {},
   "source": [
    "**Problem 081**\n",
    "\n",
    "A woman and her dog are out for a morning run to the river, which is located 4.0 kilometers away. The woman runs at 2.5 m/s in a straight line. The dog is unleashed and runs back and forth at 4.5 m/s between his owner and the river, until the woman reaches the river. What is the total distance run by the dog?"
   ]
  },
  {
   "cell_type": "code",
   "execution_count": null,
   "metadata": {
    "collapsed": true
   },
   "outputs": [],
   "source": []
  },
  {
   "cell_type": "code",
   "execution_count": null,
   "metadata": {
    "collapsed": true
   },
   "outputs": [],
   "source": []
  },
  {
   "cell_type": "code",
   "execution_count": null,
   "metadata": {
    "collapsed": true
   },
   "outputs": [],
   "source": []
  },
  {
   "cell_type": "code",
   "execution_count": null,
   "metadata": {
    "collapsed": true
   },
   "outputs": [],
   "source": []
  }
 ],
 "metadata": {
  "kernelspec": {
   "display_name": "Python [Root]",
   "language": "python",
   "name": "Python [Root]"
  },
  "language_info": {
   "codemirror_mode": {
    "name": "ipython",
    "version": 3
   },
   "file_extension": ".py",
   "mimetype": "text/x-python",
   "name": "python",
   "nbconvert_exporter": "python",
   "pygments_lexer": "ipython3",
   "version": "3.5.2"
  }
 },
 "nbformat": 4,
 "nbformat_minor": 0
}
