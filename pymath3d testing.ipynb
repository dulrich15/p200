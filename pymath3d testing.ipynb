{
 "cells": [
  {
   "cell_type": "code",
   "execution_count": 1,
   "metadata": {
    "collapsed": true
   },
   "outputs": [],
   "source": [
    "import math3d\n",
    "import numpy as np"
   ]
  },
  {
   "cell_type": "markdown",
   "metadata": {},
   "source": [
    "# Vector class"
   ]
  },
  {
   "cell_type": "code",
   "execution_count": 2,
   "metadata": {
    "collapsed": false
   },
   "outputs": [
    {
     "name": "stdout",
     "output_type": "stream",
     "text": [
      "<Vector: (1.00000, 2.00000, 3.00000)>\n",
      "<Vector: (4.00000, 5.00000, 0.00000)>\n",
      "<Vector: (0.00000, 0.00000, 0.00000)>\n"
     ]
    }
   ],
   "source": [
    "a = math3d.Vector(1,2,3)\n",
    "b = math3d.Vector(4,5,position=False)\n",
    "c = math3d.Vector(position=True)\n",
    "\n",
    "print(a)\n",
    "print(b)\n",
    "print(c)"
   ]
  },
  {
   "cell_type": "code",
   "execution_count": 3,
   "metadata": {
    "collapsed": false
   },
   "outputs": [
    {
     "name": "stdout",
     "output_type": "stream",
     "text": [
      "<Vector: (1.00000, 2.00000, 3.00000)>\n"
     ]
    }
   ],
   "source": [
    "d = a.copy()\n",
    "print(d)"
   ]
  },
  {
   "cell_type": "code",
   "execution_count": 4,
   "metadata": {
    "collapsed": false
   },
   "outputs": [
    {
     "data": {
      "text/plain": [
       "(1.0, 2.0, 3.0)"
      ]
     },
     "execution_count": 4,
     "metadata": {},
     "output_type": "execute_result"
    }
   ],
   "source": [
    "a.x, a.y, a.z"
   ]
  },
  {
   "cell_type": "code",
   "execution_count": 5,
   "metadata": {
    "collapsed": false
   },
   "outputs": [
    {
     "data": {
      "text/plain": [
       "<Vector: (9.00000, 2.00000, 3.00000)>"
      ]
     },
     "execution_count": 5,
     "metadata": {},
     "output_type": "execute_result"
    }
   ],
   "source": [
    "a.x = 9\n",
    "a"
   ]
  },
  {
   "cell_type": "code",
   "execution_count": 6,
   "metadata": {
    "collapsed": false
   },
   "outputs": [
    {
     "data": {
      "text/plain": [
       "3.0"
      ]
     },
     "execution_count": 6,
     "metadata": {},
     "output_type": "execute_result"
    }
   ],
   "source": [
    "a[2]"
   ]
  },
  {
   "cell_type": "code",
   "execution_count": 7,
   "metadata": {
    "collapsed": false
   },
   "outputs": [
    {
     "data": {
      "text/plain": [
       "<Vector: (9.00000, 2.00000, -3.00000)>"
      ]
     },
     "execution_count": 7,
     "metadata": {},
     "output_type": "execute_result"
    }
   ],
   "source": [
    "a[2] = -3\n",
    "a"
   ]
  },
  {
   "cell_type": "code",
   "execution_count": 8,
   "metadata": {
    "collapsed": false
   },
   "outputs": [
    {
     "data": {
      "text/plain": [
       "False"
      ]
     },
     "execution_count": 8,
     "metadata": {},
     "output_type": "execute_result"
    }
   ],
   "source": [
    "a == d"
   ]
  },
  {
   "cell_type": "code",
   "execution_count": 9,
   "metadata": {
    "collapsed": false
   },
   "outputs": [
    {
     "data": {
      "text/plain": [
       "False"
      ]
     },
     "execution_count": 9,
     "metadata": {},
     "output_type": "execute_result"
    }
   ],
   "source": [
    "b.is_position"
   ]
  },
  {
   "cell_type": "code",
   "execution_count": 10,
   "metadata": {
    "collapsed": false
   },
   "outputs": [
    {
     "data": {
      "text/plain": [
       "<Vector: (0.28571, 0.57143, 0.85714)>"
      ]
     },
     "execution_count": 10,
     "metadata": {},
     "output_type": "execute_result"
    }
   ],
   "source": [
    "a.projection(d)"
   ]
  },
  {
   "cell_type": "code",
   "execution_count": 11,
   "metadata": {
    "collapsed": false
   },
   "outputs": [
    {
     "data": {
      "text/plain": [
       "0.73627923789254002"
      ]
     },
     "execution_count": 11,
     "metadata": {},
     "output_type": "execute_result"
    }
   ],
   "source": [
    "a.angle(b)"
   ]
  },
  {
   "cell_type": "code",
   "execution_count": 12,
   "metadata": {
    "collapsed": false
   },
   "outputs": [
    {
     "data": {
      "text/plain": [
       "0.73627923789254002"
      ]
     },
     "execution_count": 12,
     "metadata": {},
     "output_type": "execute_result"
    }
   ],
   "source": [
    "a.signed_angle(b)"
   ]
  },
  {
   "cell_type": "code",
   "execution_count": 13,
   "metadata": {
    "collapsed": false
   },
   "outputs": [
    {
     "data": {
      "text/plain": [
       "9.6953597148326587"
      ]
     },
     "execution_count": 13,
     "metadata": {},
     "output_type": "execute_result"
    }
   ],
   "source": [
    "a.length"
   ]
  },
  {
   "cell_type": "code",
   "execution_count": 14,
   "metadata": {
    "collapsed": false
   },
   "outputs": [
    {
     "data": {
      "text/plain": [
       "94.0"
      ]
     },
     "execution_count": 14,
     "metadata": {},
     "output_type": "execute_result"
    }
   ],
   "source": [
    "a.length_squared"
   ]
  },
  {
   "cell_type": "code",
   "execution_count": 15,
   "metadata": {
    "collapsed": false
   },
   "outputs": [
    {
     "data": {
      "text/plain": [
       "<Vector: (0.92828, 0.20628, -0.30943)>"
      ]
     },
     "execution_count": 15,
     "metadata": {},
     "output_type": "execute_result"
    }
   ],
   "source": [
    "n = a.normalized\n",
    "n"
   ]
  },
  {
   "cell_type": "code",
   "execution_count": 16,
   "metadata": {
    "collapsed": false
   },
   "outputs": [
    {
     "data": {
      "text/plain": [
       "6.5574385243020004"
      ]
     },
     "execution_count": 16,
     "metadata": {},
     "output_type": "execute_result"
    }
   ],
   "source": [
    "a.dist(b)"
   ]
  },
  {
   "cell_type": "code",
   "execution_count": 17,
   "metadata": {
    "collapsed": false
   },
   "outputs": [
    {
     "data": {
      "text/plain": [
       "6.5574385243020004"
      ]
     },
     "execution_count": 17,
     "metadata": {},
     "output_type": "execute_result"
    }
   ],
   "source": [
    "(a - b).length"
   ]
  },
  {
   "cell_type": "code",
   "execution_count": 18,
   "metadata": {
    "collapsed": false
   },
   "outputs": [
    {
     "data": {
      "text/plain": [
       "array([[ 0.,  3.,  2.],\n",
       "       [-3.,  0., -9.],\n",
       "       [-2.,  9.,  0.]])"
      ]
     },
     "execution_count": 18,
     "metadata": {},
     "output_type": "execute_result"
    }
   ],
   "source": [
    "a.cross_operator"
   ]
  },
  {
   "cell_type": "code",
   "execution_count": 19,
   "metadata": {
    "collapsed": false
   },
   "outputs": [
    {
     "data": {
      "text/plain": [
       "array([[ 0.,  3.,  2.],\n",
       "       [-3.,  0., -9.],\n",
       "       [-2.,  9.,  0.]])"
      ]
     },
     "execution_count": 19,
     "metadata": {},
     "output_type": "execute_result"
    }
   ],
   "source": [
    "a.alt_cross_operator"
   ]
  },
  {
   "cell_type": "code",
   "execution_count": 20,
   "metadata": {
    "collapsed": false
   },
   "outputs": [
    {
     "data": {
      "text/plain": [
       "<Vector: (15.00000, -12.00000, 37.00000)>"
      ]
     },
     "execution_count": 20,
     "metadata": {},
     "output_type": "execute_result"
    }
   ],
   "source": [
    "a.cross(b)"
   ]
  },
  {
   "cell_type": "code",
   "execution_count": 21,
   "metadata": {
    "collapsed": false
   },
   "outputs": [
    {
     "data": {
      "text/plain": [
       "90.0"
      ]
     },
     "execution_count": 21,
     "metadata": {},
     "output_type": "execute_result"
    }
   ],
   "source": [
    "a.angle(a.cross(b)) * 180/np.pi"
   ]
  },
  {
   "cell_type": "code",
   "execution_count": 22,
   "metadata": {
    "collapsed": false
   },
   "outputs": [
    {
     "data": {
      "text/plain": [
       "array([ 9.,  2., -3.])"
      ]
     },
     "execution_count": 22,
     "metadata": {},
     "output_type": "execute_result"
    }
   ],
   "source": [
    "a.array"
   ]
  },
  {
   "cell_type": "code",
   "execution_count": 23,
   "metadata": {
    "collapsed": false
   },
   "outputs": [
    {
     "data": {
      "text/plain": [
       "[9.0, 2.0, -3.0]"
      ]
     },
     "execution_count": 23,
     "metadata": {},
     "output_type": "execute_result"
    }
   ],
   "source": [
    "a.list"
   ]
  },
  {
   "cell_type": "code",
   "execution_count": 24,
   "metadata": {
    "collapsed": false
   },
   "outputs": [
    {
     "data": {
      "text/plain": [
       "matrix([[ 9.],\n",
       "        [ 2.],\n",
       "        [-3.]])"
      ]
     },
     "execution_count": 24,
     "metadata": {},
     "output_type": "execute_result"
    }
   ],
   "source": [
    "a.matrix"
   ]
  },
  {
   "cell_type": "code",
   "execution_count": 25,
   "metadata": {
    "collapsed": false
   },
   "outputs": [
    {
     "data": {
      "text/plain": [
       "array([[ 9.],\n",
       "       [ 2.],\n",
       "       [-3.]])"
      ]
     },
     "execution_count": 25,
     "metadata": {},
     "output_type": "execute_result"
    }
   ],
   "source": [
    "a.column"
   ]
  },
  {
   "cell_type": "code",
   "execution_count": 26,
   "metadata": {
    "collapsed": false
   },
   "outputs": [
    {
     "data": {
      "text/plain": [
       "<Vector: (5.00000, -3.00000, -3.00000)>"
      ]
     },
     "execution_count": 26,
     "metadata": {},
     "output_type": "execute_result"
    }
   ],
   "source": [
    "a - b"
   ]
  },
  {
   "cell_type": "code",
   "execution_count": 27,
   "metadata": {
    "collapsed": false
   },
   "outputs": [
    {
     "data": {
      "text/plain": [
       "46.0"
      ]
     },
     "execution_count": 27,
     "metadata": {},
     "output_type": "execute_result"
    }
   ],
   "source": [
    "a * b"
   ]
  },
  {
   "cell_type": "code",
   "execution_count": 28,
   "metadata": {
    "collapsed": false
   },
   "outputs": [
    {
     "data": {
      "text/plain": [
       "<Vector: (5.40000, 1.20000, -1.80000)>"
      ]
     },
     "execution_count": 28,
     "metadata": {},
     "output_type": "execute_result"
    }
   ],
   "source": [
    "0.3 * a * 2.0"
   ]
  },
  {
   "cell_type": "code",
   "execution_count": 29,
   "metadata": {
    "collapsed": false
   },
   "outputs": [
    {
     "data": {
      "text/plain": [
       "<Vector: (30.00000, 6.66667, -10.00000)>"
      ]
     },
     "execution_count": 29,
     "metadata": {},
     "output_type": "execute_result"
    }
   ],
   "source": [
    "a / 0.3"
   ]
  },
  {
   "cell_type": "code",
   "execution_count": 30,
   "metadata": {
    "collapsed": false
   },
   "outputs": [
    {
     "data": {
      "text/plain": [
       "<Vector: (10.00000, 4.00000, 0.00000)>"
      ]
     },
     "execution_count": 30,
     "metadata": {},
     "output_type": "execute_result"
    }
   ],
   "source": [
    "a + d"
   ]
  },
  {
   "cell_type": "code",
   "execution_count": 31,
   "metadata": {
    "collapsed": false
   },
   "outputs": [
    {
     "data": {
      "text/plain": [
       "<Vector: (-4.00000, -5.00000, -0.00000)>"
      ]
     },
     "execution_count": 31,
     "metadata": {},
     "output_type": "execute_result"
    }
   ],
   "source": [
    "-b"
   ]
  },
  {
   "cell_type": "code",
   "execution_count": 32,
   "metadata": {
    "collapsed": false
   },
   "outputs": [
    {
     "data": {
      "text/plain": [
       "<Vector: (1.00000, 0.00000, 0.00000)>"
      ]
     },
     "execution_count": 32,
     "metadata": {},
     "output_type": "execute_result"
    }
   ],
   "source": [
    "math3d.Vector.ex"
   ]
  },
  {
   "cell_type": "code",
   "execution_count": 33,
   "metadata": {
    "collapsed": false
   },
   "outputs": [
    {
     "data": {
      "text/plain": [
       "<Vector: (0.00000, 0.00000, 1.00000)>"
      ]
     },
     "execution_count": 33,
     "metadata": {},
     "output_type": "execute_result"
    }
   ],
   "source": [
    "math3d.Vector.e2"
   ]
  },
  {
   "cell_type": "code",
   "execution_count": 47,
   "metadata": {
    "collapsed": false
   },
   "outputs": [
    {
     "data": {
      "text/plain": [
       "<Vector: (-0.24476, 0.85771, -0.45214)>"
      ]
     },
     "execution_count": 47,
     "metadata": {},
     "output_type": "execute_result"
    }
   ],
   "source": [
    "math3d.Vector.new_random_unit_vector()"
   ]
  },
  {
   "cell_type": "code",
   "execution_count": 37,
   "metadata": {
    "collapsed": false
   },
   "outputs": [],
   "source": [
    "from math3d import Vector\n"
   ]
  },
  {
   "cell_type": "code",
   "execution_count": 48,
   "metadata": {
    "collapsed": false
   },
   "outputs": [
    {
     "name": "stdout",
     "output_type": "stream",
     "text": [
      "49900.09999955435\n"
     ]
    }
   ],
   "source": [
    "%%time\n",
    "\n",
    "r0 = Vector()\n",
    "v0 = Vector.ex * 0.03\n",
    "\n",
    "dt = 0.1\n",
    "t = 0\n",
    "while True:\n",
    "    r = r + v0 * dt\n",
    "    t = t + dt\n",
    "    if r.x > 1500:\n",
    "        break\n",
    "\n",
    "print(t)"
   ]
  },
  {
   "cell_type": "code",
   "execution_count": 41,
   "metadata": {
    "collapsed": false
   },
   "outputs": [
    {
     "name": "stdout",
     "output_type": "stream",
     "text": [
      "mappingproxy({'__add__': <function Vector.__add__ at 0x7f3da095d2f0>,\n",
      "              '__copy__': <function Vector.__copy__ at 0x7f3da095c048>,\n",
      "              '__deepcopy__': <function Vector.__deepcopy__ at 0x7f3da095c0d0>,\n",
      "              '__dict__': <attribute '__dict__' of 'Vector' objects>,\n",
      "              '__div__': <function Vector.__truediv__ at 0x7f3da095d268>,\n",
      "              '__doc__': 'A Vector is a 3D vector (member of R3) with standard '\n",
      "                         'Euclidian\\n'\n",
      "                         '    operations.',\n",
      "              '__eq__': <function Vector.__eq__ at 0x7f3da095c400>,\n",
      "              '__getattr__': <function Vector.__getattr__ at 0x7f3da095c1e0>,\n",
      "              '__getitem__': <function Vector.__getitem__ at 0x7f3da095c2f0>,\n",
      "              '__hash__': None,\n",
      "              '__iadd__': <function Vector.__iadd__ at 0x7f3da095d378>,\n",
      "              '__imul__': <function Vector.__imul__ at 0x7f3da095d158>,\n",
      "              '__init__': <function Vector.__init__ at 0x7f3da0952f28>,\n",
      "              '__isub__': <function Vector.__isub__ at 0x7f3da095d048>,\n",
      "              '__module__': 'math3d.vector',\n",
      "              '__mul__': <function Vector.__mul__ at 0x7f3da095d0d0>,\n",
      "              '__neg__': <function Vector.__neg__ at 0x7f3da095d400>,\n",
      "              '__repr__': <function Vector.__repr__ at 0x7f3da095c488>,\n",
      "              '__rmul__': <function Vector.__rmul__ at 0x7f3da095d1e0>,\n",
      "              '__setattr__': <function Vector.__setattr__ at 0x7f3da095c268>,\n",
      "              '__setitem__': <function Vector.__setitem__ at 0x7f3da095c378>,\n",
      "              '__str__': <function Vector.__str__ at 0x7f3da095c510>,\n",
      "              '__sub__': <function Vector.__sub__ at 0x7f3da095cf28>,\n",
      "              '__truediv__': <function Vector.__truediv__ at 0x7f3da095d268>,\n",
      "              '__weakref__': <attribute '__weakref__' of 'Vector' objects>,\n",
      "              'alt_cross_operator': <property object at 0x7f3da0954a98>,\n",
      "              'angle': <function Vector.angle at 0x7f3da095c6a8>,\n",
      "              'array': <property object at 0x7f3da0954ae8>,\n",
      "              'array_ref': <property object at 0x7f3da0954b38>,\n",
      "              'canCreateOn': <classmethod object at 0x7f3da0951e48>,\n",
      "              'column': <property object at 0x7f3da0954c28>,\n",
      "              'copy': <function Vector.copy at 0x7f3da095c158>,\n",
      "              'cross': <function Vector.cross at 0x7f3da095cbf8>,\n",
      "              'cross_operator': <property object at 0x7f3da0954a48>,\n",
      "              'dist': <function Vector.dist at 0x7f3da095c9d8>,\n",
      "              'dist_squared': <function Vector.dist_squared at 0x7f3da095ca60>,\n",
      "              'e0': <Vector: (1.00000, 0.00000, 0.00000)>,\n",
      "              'e1': <Vector: (0.00000, 1.00000, 0.00000)>,\n",
      "              'e2': <Vector: (0.00000, 0.00000, 1.00000)>,\n",
      "              'ex': <Vector: (1.00000, 0.00000, 0.00000)>,\n",
      "              'ey': <Vector: (0.00000, 1.00000, 0.00000)>,\n",
      "              'ez': <Vector: (0.00000, 0.00000, 1.00000)>,\n",
      "              'get_alt_cross_operator': <function Vector.get_alt_cross_operator at 0x7f3da095cb70>,\n",
      "              'get_array': <function Vector.get_array at 0x7f3da095cc80>,\n",
      "              'get_array_ref': <function Vector.get_array_ref at 0x7f3da095cd08>,\n",
      "              'get_column': <function Vector.get_column at 0x7f3da095cea0>,\n",
      "              'get_cross_operator': <function Vector.get_cross_operator at 0x7f3da095cae8>,\n",
      "              'get_is_position': <function Vector.get_is_position at 0x7f3da095c598>,\n",
      "              'get_length': <function Vector.get_length at 0x7f3da095c7b8>,\n",
      "              'get_length_squared': <function Vector.get_length_squared at 0x7f3da095c840>,\n",
      "              'get_list': <function Vector.get_list at 0x7f3da095cd90>,\n",
      "              'get_matrix': <function Vector.get_matrix at 0x7f3da095ce18>,\n",
      "              'get_normalized': <function Vector.get_normalized at 0x7f3da095c950>,\n",
      "              'is_position': <property object at 0x7f3da0954908>,\n",
      "              'length': <property object at 0x7f3da0954958>,\n",
      "              'length_squared': <property object at 0x7f3da09549a8>,\n",
      "              'list': <property object at 0x7f3da0954b88>,\n",
      "              'matrix': <property object at 0x7f3da0954bd8>,\n",
      "              'new_random_unit_vector': <classmethod object at 0x7f3da0951f28>,\n",
      "              'normalize': <function Vector.normalize at 0x7f3da095c8c8>,\n",
      "              'normalized': <property object at 0x7f3da09549f8>,\n",
      "              'projection': <function Vector.projection at 0x7f3da095c620>,\n",
      "              'signed_angle': <function Vector.signed_angle at 0x7f3da095c730>})\n"
     ]
    }
   ],
   "source": [
    "from pprint import pprint\n",
    "pprint(Vector.__dict__)"
   ]
  },
  {
   "cell_type": "code",
   "execution_count": null,
   "metadata": {
    "collapsed": true
   },
   "outputs": [],
   "source": []
  }
 ],
 "metadata": {
  "anaconda-cloud": {},
  "kernelspec": {
   "display_name": "Python [Root]",
   "language": "python",
   "name": "Python [Root]"
  },
  "language_info": {
   "codemirror_mode": {
    "name": "ipython",
    "version": 3
   },
   "file_extension": ".py",
   "mimetype": "text/x-python",
   "name": "python",
   "nbconvert_exporter": "python",
   "pygments_lexer": "ipython3",
   "version": "3.5.2"
  }
 },
 "nbformat": 4,
 "nbformat_minor": 0
}
